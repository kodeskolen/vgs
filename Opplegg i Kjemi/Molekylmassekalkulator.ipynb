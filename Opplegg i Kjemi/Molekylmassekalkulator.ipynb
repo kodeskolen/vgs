{
 "cells": [
  {
   "cell_type": "markdown",
   "metadata": {},
   "source": [
    "# Molekylmassekalkulator\n",
    "\n",
    "I denne notebooken skal vi lage en molekylmasse-kalkulator. Målet er at vi som input skriver inn molekylets formel, f.eks: H$_2$O, eller CH$_3$CH$_2$OH, og så skal programmet regne ut vekten på molekylet for oss.\n",
    "\n",
    "Dette er en oppgave som krever litt algoritmisk tankegang, så vi anbefaler at du finner frem penn og papir og tegner opp noen små figurer mens du jobber.\n",
    "\n",
    "Før vi setter igang gjør vi to antagelser som gjør at vi slipper å tenke på spesialtilfeller.\n",
    "- Vi unngår molekyler som bruker parenteser, f.eks CH3(OH)4.\n",
    "- Vi antar at brukeren er nøye når de skriver inn, altså, vi legger ikke inn noen \"idiotsikring\" på store og små bokstaver osv.\n",
    "\n",
    "Disse kan man eventuelt legge til tilslutt som en tileggsutfordring. For eksempel kan det være en morsom utfordring å prøve å finne ut av hvordan vi kan ta hensyn til parenteser.\n"
   ]
  },
  {
   "cell_type": "markdown",
   "metadata": {},
   "source": [
    "### Atommasser\n",
    "\n",
    "For å kunne finne massen til et molekyl trenger vi først å kjenne til atommassene. For å gjøre jobbe lettere gir vi disse under. Hver atommasse er gitt i antall Dalton, $u$, som svarer til g/mol, eller $1.66\\cdot10^{27}$ kg per atom. Vi definerer `u` som en variabel, så vi kan oppgi atommasser i kg ved ønske."
   ]
  },
  {
   "cell_type": "code",
   "execution_count": 1,
   "metadata": {},
   "outputs": [],
   "source": [
    "atommasse = {\"H\":  1.0079, \"He\": 4.0026, \"Li\":  6.941, \"Be\": 9.0122,\n",
    "             \"B\":  10.811, \"C\":  12.011, \"N\":  14.007, \"O\":  15.999, \n",
    "             \"F\": 18.998,  \"Ne\": 20.180, \"Na\": 22.990, \"Mg\": 24.305, \n",
    "             \"Al\": 26.982, \"Si\": 28.086, \"P\":  30.974, \"S\":  32.065,\n",
    "             \"Cl\": 35.453, \"Ar\": 39.948, \"K\":  39.098, \"Ca\": 40.078,\n",
    "             \"Sc\": 44.956, \"Ti\": 47.867, \"V\":  50.942, \"Cr\": 51.996,\n",
    "             \"Mn\": 54.938, \"Fe\": 55.845, \"Co\": 58.933, \"Ni\": 58.693,\n",
    "             \"Cu\": 63.546, \"Zn\":  65.39, \"Ga\": 69.723, \"Ge\":  72.61,\n",
    "             \"As\": 74.922, \"Se\":  78.96, \"Br\": 79.904, \"Kr\":  83.80,\n",
    "             \"Rb\": 85.468, \"Sr\": 87.62,  \"Y\":  88.906, \"Zr\": 91.224,\n",
    "             \"Nb\": 92.906, \"Mo\": 95.94,  \"Tc\":  97.61, \"Ru\": 101.07,\n",
    "             \"Rh\": 102.91, \"Pd\": 106.42, \"Ag\": 107.87, \"Cd\": 112.41,\n",
    "             \"In\": 114.82, \"Sn\": 118.71, \"Sb\": 121.76, \"Te\": 127.60,\n",
    "             \"I\":  126.90, \"Xe\": 131.29, \"Cs\": 132.91, \"Ba\": 137.33,\n",
    "             \"La\": 138.91, \"Ce\": 140.12, \"Pr\": 140.91, \"Nd\": 144.24,\n",
    "             \"Pm\":  145.0, \"Sm\": 150.36, \"Eu\": 151.96, \"Gd\": 157.25,\n",
    "             \"Tb\": 158.93, \"Dy\": 162.50, \"Ho\": 164.93, \"Er\": 167.26,\n",
    "             \"Tm\": 168.93, \"Yb\": 173.04, \"Lu\": 174.97, \"Hf\": 178.49,\n",
    "             \"Ta\": 180.95, \"W\":  183.84, \"Re\": 186.21, \"Os\": 190.23,\n",
    "             \"Ir\": 192.22, \"Pt\": 196.08, \"Au\": 196.08, \"Hg\": 200.59, \n",
    "             \"Tl\": 204.38, \"Pb\": 207.2,  \"Bi\": 208.98, \"Po\":  209.0,\n",
    "             \"At\":  210.0, \"Rn\":  222.0, \"Fr\": 223.0,  \"Ra\":  226.0,\n",
    "             \"Ac\":  227.0, \"Th\": 232.04, \"Pa\": 231.04, \"U\":  238.03,\n",
    "             \"Np\": 237.0,  \"Pu\":  244.0, \"Am\":  243.0, \"Cm\":  247.0,\n",
    "             \"Bk\": 247.0,  \"Cf\": 251.0,  \"Es\": 252.0,  \"Fm\":  257.0,\n",
    "             \"Md\":  258.0, \"No\":  259.0, \"Lr\": 262.0,  \"Rf\": 261.0, \n",
    "             \"Db\": 262.0,  \"Sg\":  266.0, \"Bh\":  264.0, \"Hs\":  269.0, \n",
    "             \"Mt\": 268.0}\n",
    "\n",
    "u = 1.66054000035e-27 # kg"
   ]
  },
  {
   "cell_type": "markdown",
   "metadata": {},
   "source": [
    "Vi har nå definert en Pythonvariabel som heter `atommasse`. Dette er en variabeltype som heter en *dictionary*, eller ordbok på norsk. En ordbok-variabel fungerer ved at man gir en nøkkel for å komme frem til informasjonen vi er ute etter. Så her kan vi f.eks skrive `atommasse[\"C\"]` for å finne atommassen til karbon, eller `atommasse[\"Fe\"]` for å finne atommassen til jern."
   ]
  },
  {
   "cell_type": "markdown",
   "metadata": {},
   "source": [
    "La oss skrive en funksjon som skriver ut atommassen til et grunnstoff på ulike former:"
   ]
  },
  {
   "cell_type": "code",
   "execution_count": 2,
   "metadata": {},
   "outputs": [],
   "source": [
    "def skriv_atommasse(grunnstoff):\n",
    "    m = atommasse[grunnstoff]\n",
    "    \n",
    "    print(f\"Grunnstoff: {grunnstoff}\")\n",
    "    print(f\"{m} u per atom\")\n",
    "    print(f\"{m*u:.2e} kg per atom\")\n",
    "    print(f\"{m} g/mol.\")\n",
    "    print()"
   ]
  },
  {
   "cell_type": "code",
   "execution_count": 3,
   "metadata": {},
   "outputs": [
    {
     "name": "stdout",
     "output_type": "stream",
     "text": [
      "Grunnstoff: H\n",
      "1.0079 u per atom\n",
      "1.67e-27 kg per atom\n",
      "1.0079 g/mol.\n",
      "\n",
      "Grunnstoff: O\n",
      "15.999 u per atom\n",
      "2.66e-26 kg per atom\n",
      "15.999 g/mol.\n",
      "\n",
      "Grunnstoff: C\n",
      "12.011 u per atom\n",
      "1.99e-26 kg per atom\n",
      "12.011 g/mol.\n",
      "\n",
      "Grunnstoff: Fe\n",
      "55.845 u per atom\n",
      "9.27e-26 kg per atom\n",
      "55.845 g/mol.\n",
      "\n"
     ]
    }
   ],
   "source": [
    "skriv_atommasse('H')\n",
    "skriv_atommasse('O')\n",
    "skriv_atommasse('C')\n",
    "skriv_atommasse('Fe')"
   ]
  },
  {
   "cell_type": "markdown",
   "metadata": {},
   "source": [
    "### Telle antall av hvert atom\n",
    "\n",
    "Vi har nå en oversikt over alle atommassene, og vi har sett hvordan vi kan bruke denne oversikten til å skrive ut massen til et atom. Men hvordan gjør vi dette for et molekyl? Stopp gjerne og tenk over hvordan du gjør dette for hånd. Si f.eks at du trenger å vite molekylmassen til karbondioksid (CO$_2$), hvordan gjør du dette?\n",
    "\n",
    "Svaret er at du først må finne antallet atomer av hvert grunnstoff som inngår i molekylet. Deretter kan du slå opp atommassen til hvert grunnstoff og legge sammen den totale massen av molekylet.\n",
    "\n",
    "Når vi gjør dette for hånd ser vi at vi har ett karbonatom, og to oksygenatomer. Men hvordan kan vi skrive kode som klarer å finne ut det samme? La oss se litt nærmere på det."
   ]
  },
  {
   "cell_type": "markdown",
   "metadata": {},
   "source": [
    "#### Oppbygningen av en molekylformel\n",
    "\n",
    "Når vi snakker om formelen for et molekyl vil vi i Python gi denne som en streng, f.eks har vi de følgende to molekylene:"
   ]
  },
  {
   "cell_type": "code",
   "execution_count": 4,
   "metadata": {},
   "outputs": [],
   "source": [
    "karbondioksid = \"CO2\"\n",
    "etanol = \"CH3CH2OH\"\n",
    "silisiumoksid = \"SiO2\""
   ]
  },
  {
   "cell_type": "markdown",
   "metadata": {},
   "source": [
    "Disse svarer altså til CO$_2$, CH$_3$CH$_2$OH og SiO$_2$."
   ]
  },
  {
   "cell_type": "markdown",
   "metadata": {},
   "source": [
    "Å skrive kode som tolker disse molekylene handler om å bryte ned hva de ulike karakterene betyr. Dette er et godt eksempel på algoritmisk tankegang.\n",
    "\n",
    "Enhver slik formel vil bestå av karakterer som kan deles inn i tre kategorier:\n",
    "1. Store bokstaver\n",
    "2. Små bokstaver\n",
    "3. Tall\n",
    "\n",
    "Ta gjerne en pause og tenk på hva hver av disse bokstavene betyr i praksis.\n",
    "\n",
    "Enhver stor bokstav betyr starten på et nytt grunnstoff. Enhver liten bokstav betyr i praksis fortsettelse av et grunnstoff, og et tall betyr at man har flere av samme grunnstoff. \n",
    "\n",
    "Vi vil nå løkke over en slik formel og bryte den opp i mindre biter ved å tolke hvert tegn som en stor bokstav, liten bokstav eller et tall. Da definerer vi først hva disse er:"
   ]
  },
  {
   "cell_type": "code",
   "execution_count": 5,
   "metadata": {},
   "outputs": [],
   "source": [
    "stor = \"ABCDEFGHIJKLMNOPQRSTUWXYZ\"\n",
    "liten = \"abcdefghijklmnopqrstuvwxyz\"\n",
    "tall = \"0123456789\""
   ]
  },
  {
   "cell_type": "markdown",
   "metadata": {},
   "source": [
    "Vi kan nå løkke over en formel og klassifisere hvert tegn:"
   ]
  },
  {
   "cell_type": "code",
   "execution_count": 6,
   "metadata": {},
   "outputs": [
    {
     "name": "stdout",
     "output_type": "stream",
     "text": [
      "S er en stor bokstav\n",
      "i er en liten bokstav\n",
      "O er en stor bokstav\n",
      "2 er et tall\n"
     ]
    }
   ],
   "source": [
    "for tegn in \"SiO2\":\n",
    "    if tegn in stor:\n",
    "        print(f\"{tegn} er en stor bokstav\")\n",
    "    elif tegn in liten:\n",
    "        print(f\"{tegn} er en liten bokstav\")\n",
    "    else:\n",
    "        print(f\"{tegn} er et tall\")"
   ]
  },
  {
   "cell_type": "markdown",
   "metadata": {},
   "source": [
    "Når vi nå løkker over en molekylformel vet vi at alle små bokstaver og tall vi møter på hører til den foregående store bokstaven. Slik kan vi dele opp en formel til de ulike grunnstoffene:"
   ]
  },
  {
   "cell_type": "code",
   "execution_count": 7,
   "metadata": {},
   "outputs": [
    {
     "name": "stdout",
     "output_type": "stream",
     "text": [
      "Na\n",
      "O\n",
      "H\n"
     ]
    }
   ],
   "source": [
    "atom = \"\"\n",
    "for tegn in \"NaOH\":\n",
    "    if tegn in stor:\n",
    "        if atom != \"\":\n",
    "            print(atom)\n",
    "        atom = tegn\n",
    "    elif tegn in liten:\n",
    "        atom += tegn\n",
    "        \n",
    "print(atom)"
   ]
  },
  {
   "cell_type": "markdown",
   "metadata": {},
   "source": [
    "I tilegg må vi også legge til antallet. Vi kan gjøre dette ved å ha en ny variabel, `antall`, som holder styr på alle tall som er møtt på. La oss sjekke om vi klarer å dele opp silisiumoksidformelen"
   ]
  },
  {
   "cell_type": "code",
   "execution_count": 8,
   "metadata": {},
   "outputs": [
    {
     "name": "stdout",
     "output_type": "stream",
     "text": [
      "Si\n",
      "O (x2)\n"
     ]
    }
   ],
   "source": [
    "atom = \"\"\n",
    "antall = \"\"\n",
    "\n",
    "for tegn in \"SiO2\":\n",
    "    if tegn in stor:\n",
    "        if atom != \"\":\n",
    "            if antall == \"\":\n",
    "                print(atom)\n",
    "            else:\n",
    "                print(f\"{atom} (x{antall})\")\n",
    "            \n",
    "        atom = tegn\n",
    "        antall = \"\"\n",
    "    \n",
    "    elif tegn in liten:\n",
    "        atom += tegn\n",
    "    \n",
    "    elif tegn in tall:\n",
    "        antall += tegn\n",
    "        \n",
    "if antall == \"\":\n",
    "    print(atom)\n",
    "else:\n",
    "    print(f\"{atom} (x{antall})\")"
   ]
  },
  {
   "cell_type": "markdown",
   "metadata": {},
   "source": [
    "Vi klarer altså å dele opp formelen. Vi kan nå lage en funksjon som regner ut molekylmassen. Da bruker vi samme fremgangsmåte som over, men istedet for å skrive ut hvert grunnstoff, så finner vi massen og legger den til en total:"
   ]
  },
  {
   "cell_type": "code",
   "execution_count": 9,
   "metadata": {},
   "outputs": [],
   "source": [
    "def molekylmasse(molekylformel):\n",
    "    totalmasse = 0\n",
    "    \n",
    "    atom = \"\"\n",
    "    antall = \"\"\n",
    "    for tegn in molekylformel:\n",
    "        if tegn in stor:\n",
    "            # Legg til forrige atom til totalen før vi fortsetter\n",
    "            if atom != \"\":\n",
    "                m = atommasse[atom]\n",
    "                if antall == \"\":\n",
    "                    n = 1\n",
    "                else:\n",
    "                    n = int(antall)\n",
    "                totalmasse += n*m\n",
    "                \n",
    "            # Start på nytt atom\n",
    "            atom = tegn\n",
    "            antall = \"\"\n",
    "\n",
    "        elif tegn in liten:\n",
    "            atom += tegn\n",
    "        \n",
    "        elif tegn in tall:\n",
    "            antall += tegn\n",
    "    \n",
    "    # Legg til siste atom\n",
    "    m = atommasse[atom]\n",
    "    if antall == \"\":\n",
    "        n = 1\n",
    "    else:\n",
    "        n = int(antall)\n",
    "    totalmasse += n*m\n",
    "            \n",
    "    return totalmasse"
   ]
  },
  {
   "cell_type": "code",
   "execution_count": 10,
   "metadata": {},
   "outputs": [
    {
     "name": "stdout",
     "output_type": "stream",
     "text": [
      "18.0148\n",
      "17.0307\n",
      "46.0684\n"
     ]
    }
   ],
   "source": [
    "print(molekylmasse(\"H2O\"))\n",
    "print(molekylmasse(\"NH3\"))\n",
    "print(molekylmasse(\"CH3CH2OH\"))"
   ]
  },
  {
   "cell_type": "markdown",
   "metadata": {},
   "source": [
    "Vi kan nå lage en litt finere funksjon, tilsvarende den vi lagde for atommassen innledningsvis:"
   ]
  },
  {
   "cell_type": "code",
   "execution_count": 11,
   "metadata": {},
   "outputs": [],
   "source": [
    "def skriv_molekylmasse(molekylformel):\n",
    "    m = molekylmasse(molekylformel)\n",
    "    print(f\"Molekyl: {molekylformel}\")\n",
    "    print(f\"{m} u per molekyl\")\n",
    "    print(f\"{m*u:.2e} kg per molekyl\")\n",
    "    print(f\"{m} g/mol.\")\n",
    "    print()"
   ]
  },
  {
   "cell_type": "code",
   "execution_count": 12,
   "metadata": {},
   "outputs": [
    {
     "name": "stdout",
     "output_type": "stream",
     "text": [
      "Molekyl: H2O\n",
      "18.0148 u per molekyl\n",
      "2.99e-26 kg per molekyl\n",
      "18.0148 g/mol.\n",
      "\n",
      "Molekyl: CO2\n",
      "44.009 u per molekyl\n",
      "7.31e-26 kg per molekyl\n",
      "44.009 g/mol.\n",
      "\n",
      "Molekyl: CH3CH2OH\n",
      "46.0684 u per molekyl\n",
      "7.65e-26 kg per molekyl\n",
      "46.0684 g/mol.\n",
      "\n",
      "Molekyl: CH3COOH\n",
      "60.0516 u per molekyl\n",
      "9.97e-26 kg per molekyl\n",
      "60.0516 g/mol.\n",
      "\n"
     ]
    }
   ],
   "source": [
    "skriv_molekylmasse(\"H2O\") # Vann\n",
    "skriv_molekylmasse(\"CO2\") # Karbondioksid\n",
    "skriv_molekylmasse(\"CH3CH2OH\") # Etanol\n",
    "skriv_molekylmasse(\"CH3COOH\") # Eddiksyre"
   ]
  }
 ],
 "metadata": {
  "kernelspec": {
   "display_name": "Python 3",
   "language": "python",
   "name": "python3"
  },
  "language_info": {
   "codemirror_mode": {
    "name": "ipython",
    "version": 3
   },
   "file_extension": ".py",
   "mimetype": "text/x-python",
   "name": "python",
   "nbconvert_exporter": "python",
   "pygments_lexer": "ipython3",
   "version": "3.6.7"
  }
 },
 "nbformat": 4,
 "nbformat_minor": 2
}
