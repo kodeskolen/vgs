{
 "cells": [
  {
   "cell_type": "markdown",
   "metadata": {},
   "source": [
    "# L2—Overview of Physical Chemistry and Electrochemistry\n",
    "\n",
    "In this session, we will go through some of the basis of electrophysiological modeling. We will cover some fairly general phenomenon that can be well described using chemical and physical arguments. In the next session we will follow up on this by using the electrochemistry present here to understand the cell membrane and it's ion channels.\n"
   ]
  },
  {
   "cell_type": "markdown",
   "metadata": {},
   "source": [
    "Here is an overview of topics we will cover in this session\n",
    "* [Law of Mass Action](#mass_action)\n",
    "* [Chemical Equilibrium](#equilibrium)\n",
    "* [Gibbs Energy](#gibbs)\n",
    "* [Cooperativity and The Hill Equation](#hill)\n",
    "* [Enzyme Kinetics](#enzymes)\n",
    "\n",
    "Link to other notebooks\n",
    "* Accompanying exercises: [E2—Exercises on Physical Chemistry](E2 - Exercises on Physical Chemistry.ipynb)\n",
    "* Next Session: [L3—Membrane Physiology](L3 - Membrane Biophysics.ipynb)"
   ]
  },
  {
   "cell_type": "markdown",
   "metadata": {},
   "source": [
    "<a id=\"mass_action\"></a>\n",
    "## The Law of Mass Action\n",
    "\n",
    "The first topic we cover is the *law of mass action*, which is used to model the rate of  chemical reactions. It is one of the fundamental concepts in chemistry.\n",
    "We want to model a chemical reaction. Let us use the combustion of hydrogen gas as an example:\n",
    "$$2\\mathrm{H_2} + \\mathrm{O_2} \\overset{k}{\\longrightarrow} 2\\, \\mathrm{H_2O}.$$\n",
    "This reaction will occur spontaneously, because the resulting product of the reaction has a lower chemical energy than the original reactants. However, the reaction doesn't happen instantaneously, but at a certain *rate*, the question we will answer is *how fast*. The reaction rate is limited because there is a small energy barrier the reactants have to overcome before they can combine and release their energy.\n",
    "<img src=\"fig/activation_barrier.png\" width=400>\n",
    "\n",
    "To make a physical model of the reaction, think of a mixture of the two gasses as a large number of their basic molecules zipping around at high speeds. A single reaction can only occur when there is a collision of all reactants with sufficient energy to overcome the energy barrier. For our example, this means two hydrogen molecules and a single oxygen molecule must all collide simultaneously. Their molecular motion is random and chaotic, and so it is reasonable to assume the probability of such a collision to be proportional to their concentrations\n",
    "$$P \\propto [\\mathrm{H_2}]\\times [\\mathrm{H_2}] \\times [\\mathrm{O_2}],$$\n",
    "were we use square brackets to denote the concentration of a ionic or molecular species. In addition to actually meeting at the same place at the same time, the collision energy has to be high enough to drive the reaction over through the barrier. We combine this second probability effect, and any other that might contribute, into a single parameter $k$, which we call the *rate constant* of the reaction.\n",
    "\n",
    "This means the reaction can be described by the following set of ODEs\n",
    "$$\\frac{\\mathrm{d [H_2 O]}}{\\mathrm{d}t} = k\\mathrm{[H_2]^2}\\mathrm{[O_2]}, \\qquad \\frac{\\mathrm{d [H_2]}}{\\mathrm{d}t} = -2k\\mathrm{[H_2]^2}\\mathrm{[O_2]}, \\qquad \\frac{\\mathrm{d [O_2]}}{\\mathrm{d}t} = -k\\mathrm{[H_2]^2}\\mathrm{[O_2]}.$$\n",
    "Here, the parameter $k$ must be measured in an empirical experiment in the lab. Experiments like these have been carried out for more or less any concevible reaction and tabulated, so we can look them up as needed.\n",
    "\n",
    "Note that we call $k$ a rate *constant* because it doesn't change with the concentrations of the reactants, however, it might very well change throughout the reaction for other reasons, such as changes in temperature or pressure. The temperature dependence of the rate constant is described by the [Arrhenius equation](https://en.wikipedia.org/wiki/Arrhenius_equation), which states that the rate has an exponential dependency on temperature:\n",
    "$$k = Ae^{-E_{\\rm barrier}/k_{\\rm B}T}.$$\n",
    "However, for most reactions occuring within the cell, the temperature is constant, and so we can often ignore this detail.\n",
    "\n",
    "**In summary, the law of mass action states that the rate of a reaction is proportional to the concentration of the reactants. The proportionality factor is the *rate constant* of the reaction.**\n",
    "\n"
   ]
  },
  {
   "cell_type": "markdown",
   "metadata": {},
   "source": [
    "<a id='equilibrium'></a>\n",
    "## Chemical Equilibrium\n",
    "\n",
    "In our combustion example, we modelled the chemical reaction as a one-way reaction. This is reasonable for a reaction such as this combustion, because the gasses react and produce water, but the reverse doesn't happen to any noticable extent.\n",
    "\n",
    "However, many reactions willl occur in both directions, especially so for a closed system, such as the inside of a cell. As an example, let us look at an example. Myoglobin is a protein that can bind oxygen gas molecules to it. Each myoglobin protein can bind a single oxygen molecule to it. However, if we have a concentration of myoglobin and oxygen gas in a closed container, individual myoglobin molecules will continiously be binding and releasing oxygen. The binding reaction can be written as \n",
    "$$\\mathrm{Mb} + \\mathrm{O_2} \\underset{k_-}{\\overset{k_+}{\\rightleftharpoons}} \\mathrm{MbO_2}.$$\n",
    "Note that we have replaced the one-way arrow with a unidirectional arrow. We say that oxygen binding to a free myoglobin is the *forward* direction of the reaction, which progresses with the forward rate $k_+$, while the reverse reaction occurs at the rate of $k_-$.\n",
    "\n",
    "Depending on the concentrations of the two species, the total system will reach some net equilibrium were the total amount of bound oxygen doesn't change. We will use the law of mass action to find this equilibrium. Using the law of mass action, we can set up the ODE\n",
    "$$\\frac{\\rm d[MbO_2]}{{\\rm d}t} = k_+[\\mathrm{Mb}][\\mathrm{O_2}] - k_-[\\mathrm{MbO_2}].$$\n",
    "As we are looking for an equilibrium, we can set the time derivative to zero, as by definition, the net concentrations do not change at equilibrium. From this we see that the amount of oxygen binding and being released at any time must be the same\n",
    "$$k_+ [\\mathrm{Mb}][\\mathrm{O_2}] = k_-[\\mathrm{MbO_2}].$$\n",
    "From this relation we can note that the ratio of concentrations will be constant\n",
    "$$\\frac{[\\mathrm{Mb}][\\mathrm{O_2}]}{[\\mathrm{MbO_2}]} = \\frac{k_-}{k_+} = K_{\\rm d}.$$\n",
    "Where we denote the ratio of the rates as $K_{\\rm d}$.\n",
    "\n",
    "The equilibrium formula tells us that the ratio of the free species to the oxygen-bound complex is simply given by the ratio of the rates, at equilibrium. Thus, if the forward and reverse rates change by the same amount, the equilibrium balance will be unchanged, but if one changes in relation to the other, the equilibrium balance will shift.\n",
    "\n",
    "The MbO$_2$ complex 'breaking' up into its seperate Mb and O$_2$ components is called the *dissociation* of a complex. This is why we call the equilibrium constant $K_{\\rm d}$ the dissocation constant, as it says something about how likely we are to find the MbO$_2$ complex dissociated. Sometimes the dissocation constant is referred to as the equilibrium constant and denoted $K_{\\rm eq}$, however, *equilibrium* isn't saying anything about the direction of the reaction, and so could also denote the inverse relation, $k_{+}/k_{-}$. There doesn't seem to be any strict conventions here, so some care should be taken."
   ]
  },
  {
   "cell_type": "markdown",
   "metadata": {},
   "source": [
    "<a id=\"gibbs\"></a>\n",
    "## Gibb's Free Energy\n",
    "\n",
    "When discussing the law of mass action, we stated that the chemical reaction occurs spontaneously because the chemical energy of the reactants was reduced as a result of the reaction. This is however quite an imprecise statement, that doesn't really cover the whole picture. In fact, it is only true if the reaction were to happen completely isolated from the rest of the world. For a reacting system that interacts with an environment, it is rather the *Gibb's free energy* that is minimized.\n",
    "\n",
    "The 2. law of thermodynamics states that the total entropy in the universe always increases over time, and it is this that is the driving force in chemical reactions. Put simply, a reaction will occur spontaneously if it increases the total entropy in the universe. If it would lower the net entropy, it cannot happen. However, it is not only the net change of entropy in the reaction itself that is important, but also the entropy the reacting system gives or takes from its surroundings.\n",
    "\n",
    "A reacting system can exchange energy and entropy with its surrounding either through heat or through mechanical energy in the form of changes in volume. The Gibb's free energy of any current state of a reacting system is a combination of the internal energy of the system, it's mechanical interaction with the environment, and it's thermal interactino with the enviornment (which again is dependent on the systems internal entropy). It is given by\n",
    "$$G = U + pV - TS.$$\n",
    "Here, $G$ is Gibb's energy, $U$, $V$ and $S$ are the internal energy, the volume and the entropy of the reacting system, and $p$ and $T$ are the pressure and the temperature of the surrounding environment. \n",
    "\n",
    "In a reaction, the internal energy can change, the volume of the system can change and the entropy of the system can change. Any change in the pressure or temperature however, can be neglected, , because we assume the surrounding environment to be much larger than the reacting system. Thus, the total change in Gibb's energy is\n",
    "$$G = \\Delta U + p\\Delta V - T\\Delta S.$$\n",
    "Here, $\\Delta U$ is the internal (mass energy, chemical energy, other internal potential energy) energy change, $p\\Delta V$ is the mechanical energy that the system exchanges with the surroundings, and $T\\Delta S$ is the thermal energy the system exchanges with its surroundings.\n",
    "\n",
    "\n",
    "#### Why is it called \"free\" energy\n",
    "\n",
    "Gibb's free energy is known by many names, some call it just Gibb's energy. Others call it Gibb's function, or free enthalpy. Originally it was known as Gibb's *available* energy. Put simply, it's a measure of how much energy can be extracted as useful work in a reaction.\n",
    "\n",
    "A good metapho for Gibb's energy is found in Schroeder's *An introduction to Thermal Physics*. Imagine a wizars conjures up a rabbit from nothing. Obviously the wizard has to follow the laws of thermodynamics, which states that energy cannot be created. How much energy would the wizard have to supply to create the rabbit? First of, the wizard has to supply the internal energy of the rabbit $U$. This encompasses all the mass energy and the chemical energy. If the rabbit were to be created in an isolated vacuum, this would be the end of it. However, to get the rabbit to pop right into existence in front of you, the wizard actually has to make space for the rabbit by pushing some air aside, which would cost some mechanical energy. This cost would be $pV$, the higher the air pressure and the bigger the rabbit, the more work has to be performed. The energy cost is now $U + pV$. However, the wizard is quite clever, and so he can save some energy as well. If he conjures up a cold rabbit, he knows the laws of thermodynamics says heat will spontaneously flow from the high temperature surrounding into the low temperature rabbit, so the magician can subtract this energy from his energy bill. This contribution is $TS$, where $S$ is the entropy of the rabbit. Why does the entropy enter into it? Because temperature is defined as derivative $T = \\delta U/\\delta S$. So the more entropy the rabbit has, the more thermal energy it will absorb from its enivornment. So the energy bill of the wizard is the Gibb's energy $U + pV - TS$. \n",
    "<img src=\"fig/gibbs_rabbit.png\" width=400>\n",
    "\n",
    "But, if Gibb's energy can be thought of as an energy 'bill', shouldn't it be calles the Gibb's *costly* energy? Well, the name comes from the reversed process. If an evil wizard were to annhilate a rabbit and extract as much energy as possible in the process, they would first get all the internal energy, and then some added mechanical work from the surrounding air collapsing into the resulting vacuum. However, they would have to dump some of that energy as heat into the environment, otherwise the net entropy in the universe would decrease, which would break the 2. law. So the Gibb's free (or available) energy is simply the amount of energy the system can release if it were to stop existing.\n",
    "\n",
    "#### Change of Gibb's energy in a reaction\n",
    "\n",
    "Of course, in the real world, a system doesn't just stop existing. But in a chemical reaction, we can think of it as one system being annihilated, and one being created. The change in their Gibb's energy is the important quantity\n",
    "$$\\Delta G = \\Delta U + p\\Delta V - T\\Delta S.$$\n",
    "If $\\Delta G < 0$, the reaction will occur spontaneously. If $\\Delta G > 0$, the reaction will occur spontaneously in the reverse direction. While if $\\Delta G = 0$ we are at equilbrium. If a reaction occurs with a net decrease in Gibb's energy $\\Delta G$, this is also the maximum amount of useful work that can be extracted from the reaction.\n",
    "\n",
    "For a molecular species, we can express its Gibb's free energy as\n",
    "$$G = G^0 + RT \\ln c.$$\n",
    "Where the first term, $G^0$, is called the standard free energy, which is dependent on what chemical species is being discussed, but not the concentrations involved. The second term is dependent on the concentration of the species, but is otherwise inconsiderate of what the species is. Here, $R$ is the gas constant, $T$ the temperature and $c$ the concentration of the species.\n",
    "\n",
    "If a reaction occurs where A $\\to$ B, the net change in Gibb's energy can be expressed as\n",
    "$$\\Delta G = \\Delta G^0 + RT \\ln \\frac{c_{\\rm B}}{c_{\\rm A}}.$$\n",
    "Note that the change in Gibb's energy is thus given by one term that is dependent on what reaction it is. This value can be tabulated for most molecular reactions, while the second term only cares about the concentration ratios. \n",
    "\n",
    "#### Chemical Equilibrium from Gibb's energy\n",
    "\n",
    "At equilibrium, we know that $\\Delta G = 0$, otherwise a spontanous reaction would occur, so we then see that\n",
    "$$\\frac{c_{\\rm B}}{c_{\\rm A}} = e^{-\\Delta G^0/RT}.$$"
   ]
  },
  {
   "cell_type": "markdown",
   "metadata": {},
   "source": [
    "<a id='hill'></a>\n",
    "## Cooperativity and The Hill Equation\n",
    "\n",
    "We shall now look at a phenomenon known as cooperativity, which will lead to the *Hill Equation*, an important equation to model some biological reactions. But before we get to that discussion, we will briefly return to our example of oxygen binding to myoglobin.\n",
    "\n",
    "##### Example: Oxygen binding to Myoglobin"
   ]
  },
  {
   "cell_type": "markdown",
   "metadata": {},
   "source": [
    "In our earlier discussion, we found that the reaction\n",
    "$$\\mathrm{Mb} + \\mathrm{O_2} \\underset{k_-}{\\overset{k_+}{\\rightleftharpoons}} \\mathrm{MbO_2}.$$\n",
    "will have an equilibrium given by\n",
    "$$\\frac{[\\mathrm{Mb}][\\mathrm{O_2}]}{[\\mathrm{MbO_2}]} = K_{\\rm d}.$$\n",
    "\n",
    "We now want to find an expression for how well myoglobin binds oxygen, in the form of the fractional degree of oxygenation of myoglobin, defined as\n",
    "$$Y = \\frac{[\\text{bound Mb}]}{[\\text{total Mb}]} = \\frac{[\\mathrm{MbO_2}]}{[\\mathrm{Mb}] + [\\mathrm{MbO_2}]},$$\n",
    "i.e., the fraction of all myoglobin molecules that will have oxygen bound to it. To simplify, we only care about the fraction that will be bound at equilibrium.\n",
    "\n",
    "We can solve our equilibrium ratio for $[\\mathrm{MbO_2}]$ and insert this into our expression for $Y$, giving\n",
    "$$Y = \\frac{K_{\\rm d}^{-1}[\\mathrm{Mb}][\\mathrm{O_2}]}{[\\mathrm{Mb}] + K_{\\rm d}^{-1}[\\mathrm{Mb}][\\mathrm{O_2}]}.$$\n",
    "And this fraction can be simplified to yield\n",
    "$$Y = \\frac{[\\mathrm{O_2}]}{[\\mathrm{O_2}] + K_{\\rm d}}.$$\n",
    "We have now found the fraction of myoglobin that will have oxygen-bound to it, as a function of the free oxygen available. Let us look at how the function looks.\n",
    "<img src=\"fig/fractional_oxygenation.png\" width=400>\n",
    "The plot shows the proportion of myoglobin proteins that will have oxygen bound to it, at different levels of oxygenation. If there is no free oxygen available, there will be no oxygen bound to the Myoglobin. As some oxygen is added to the system, some myoglobin will start binding oxygen. When the concentration of oxygen reaches the dissociation constant $[{\\rm O}_2] = K_{\\rm d}$, we see half the myoglobin proteins will bind oxygen. In this scenario, the $K_{\\rm d}$ is thus a measure of half-saturation. As the oxygen levels rise further, the curve starts to level out."
   ]
  },
  {
   "cell_type": "markdown",
   "metadata": {},
   "source": [
    "#### Example 2: Oxygen binding to hemoglobin\n",
    "\n",
    "We have now looked closely at how myoglobin binds oxygen. If we repeat this question with hemoglobin, a very similar protein, an interesting phenomenon appears. Where a myoglobin protein has a single oxygen binding site, hemoglobin has four. Put simply, hemaglobin is a lot like four individual myoglobin proteins stapled together. \n",
    "\n",
    "<img src=\"fig/hemaglobin.png\" width=800>\n",
    "\n",
    "One might expect oxygen binding to hemaglobin to act like myoglobin, but at four times the concentrations, i.e., we just model the amount of binding sites present in the system. However, in experiments looking at myoglobin and hemoglobin they act very differently, defying this intuition. The problem, it turns out, is that the four binding sites of an individual hemoglobin are not acting independently of each other, like four myoglobins in a solution would. Rather, hemoglobin has the interesting property that it binds oxygen more readily, the more oxygen it already has bound. This is called *cooperative binding*, as the binding sites seem to be cooperating with each other.\n",
    "\n",
    "To model hemoglobin binding oxygen, let us assume it binds oxygen in an all-or-nothing fashion: either it has four oxygen molecules bound, or it has none. We can then write the binding reaction as\n",
    "$$\\mathrm{Hb} + 4\\mathrm{O_2} \\underset{k_-}{\\overset{k_+}{\\rightleftharpoons}} \\mathrm{Hb(O_2)_4}.$$\n",
    "From the Law of Mass action, this results in the equilibrium\n",
    "$$\\frac{\\mathrm{[Hb]}\\mathrm{[O_2]}^4}{\\mathrm{[Hb(O_2)_4]}} = K_{\\rm d}.$$\n",
    "And we can go through the exact same derivation as for Myoglobin to find\n",
    "$$Y = \\frac{\\mathrm{[O_2]}^4}{\\mathrm{[O_2]}^4 + K_d}.$$\n",
    "Comparing the expressions we found for myoglobin and hemaglobin shows that both expressions are on the form\n",
    "$$Y = \\frac{\\mathrm{[O_2]}^n}{\\mathrm{[O_2]}^n + K_d}.$$\n",
    "This is known as the Hill Equation, and $n$ is called the Hill coefficient. For hemaglobin, $n$ became 4, because we assumed that it bound four oxygen molecules in an all-or-nothing fashion."
   ]
  },
  {
   "cell_type": "markdown",
   "metadata": {},
   "source": [
    "Here we again need to take some care and be mindful about what is actually meant by $K_{\\rm d}$. In our case, we defined it as $k_{\\rm -}/k_{\\rm +}$, but for our expression of $Y$ to make sense, notice that $K_{\\rm d}$ has to have units of mol$^{\\frac{1}{n}}$, which is not an intuitive quantity to work with. Some therefore prefer to define a quantitiy $K_{\\rm A}$, that obeys \n",
    "$$(K_{\\rm A})^n = K_{\\rm d}.$$\n",
    "From this definition, $K_{\\rm A}$ has units of mol, i.e., concentration, and it is the concentration where half-saturation is reached. Note that $K_{\\rm A}$ is sometimes referred to as the *microscopic dissociation constant*, while $K_{\\rm d}$ is sometimes referred to as the apparent dissociation constant. Again, ther are no strict conventions in the litterature, and some people refer to the microscopic dissociation constant as $K_{\\rm d}$, leading to even more confusion! Because of the varying conventions, it is always important to be mindful of units when modeling chemical reactions and enzyme kinetics."
   ]
  },
  {
   "cell_type": "markdown",
   "metadata": {},
   "source": [
    "Let us compare the behavior of our all-or-nothing model of hemoglobin, which has a Hill coefficient of 4, with myoglobin, which has a Hill coefficient of 1.\n",
    "<img src=\"fig/fraction_oxygenation_comparison.png\" width=400>\n",
    "\n",
    "These curves show the Hill Equation for $n=1$ and $n=4$, for a similar $K_{\\rm A}$. But, for Mb and Hb, it is not only the Hill coefficient that is different between the two, the $K_{\\rm A}$ is also different. Looking up the curves measured from experiment, they look something like this \n",
    "<img src=\"fig/myoglobin_vs_hemoglobin.png\" width=400>\n",
    "Here the $x$-axis denotes the partial pressure of oxygen in units of mmHg, which is a common clinical way of specifing oxygen levels in blood or tissue - you can think of it as the concentration of free oxygen.\n",
    "\n",
    "In the lungs, the partial pressure of oxygen is about 100 mmHg, while in exercising tissue it is about 20 mmHg. If we compare myoglobin to hemoglobin at these two levels, we see that the two reach about the same saturation in the lungs, but if we then transport the molecules to tissue, hemoglobin will be much better at depositing its oxygen into the tissue. This functional difference is a result of the *cooperativity* of hemoglobins four subunits, and it allows hemoglobin to act an oxygen carrier. Myoglobin on the other hand, does not act that well as an oxygen carrier, due to its steep, hyperbolic saturation curve. Myoglobin is instead found in tissue, where it functions more as oxygen storage than transport."
   ]
  },
  {
   "cell_type": "markdown",
   "metadata": {},
   "source": [
    "### Interpreting the Hill coefficient\n",
    "\n",
    "From our theoretical derivation, we assumed Hemoglobin to be fully all-or-nothing, giving a Hill coefficient of 4. However, in experiment, we see that this does not completely accurately reproduces oxygen binding to hemoglobin. This is because hemoglobin can, and will, often bind only 1, 2, or 3 oxygen molecules, that just makes it more likely to bind even more. When fitting the experimental curve, we find that hemoglobin fits very well to the Hill curve, but with $n=3$ instead of 4. Thus the Hill equation isn't strictly speaking really a measure of the number of units cooperating (even though it will be stated as such in some texts), rather, it is a measure of how much cooperation there is.\n",
    "\n",
    "In general, we can say that $n = 1$ means no cooperation and $n > 1$ means there is some cooperation. The larger $n$ is, the stronger the cooperation. We can also have $n < 1$, this is called negative cooperation. For a binding reaction such as myoglobin and hemoglobin, negative cooperation would mean binding to one site inhibits binding to other sites.\n",
    "\n",
    "In fact, the Hill coefficient can even be fractional, it turns out that if you fit the curve of oxygen binding to Hemaglobin to good data, the best fit is actually given by an $n$ equal to 3.1. This fractional Hill coefficient doesn't really make sense if we try to interpret it as the exact number of binding sites, but if we think of it more as a phenomenological parameter trying to catch the cooperativity phenomenon, it makes perfect sense. "
   ]
  },
  {
   "cell_type": "markdown",
   "metadata": {},
   "source": [
    "<a id=\"enzymes\"></a>\n",
    "## Enzyme Kinetics\n",
    "\n",
    "Enzymes are proteins that act as catalysts for biochemical reactions. Enzymes work by lowering the energy barrier of a chemical reaction, which can be achieved by for example binding to an intermediate state or similar. As the rate of a reaction is proportional to the exponential of the activation energy, even a relatively small change in the energy barrier can cause a huge change in reaction speed for a reaction. Because of this, enzymes are usually highly efficent and can speed up reactions by many order of magnitude ($>10^7$ in some cases!). \n",
    "<img src=\"fig/activation_barrier_enzyme.png\" width=400>\n",
    "The drastic change in reaction speed due to enzymes is hugely important for cellular function. We can effectively have reacting systems in the cell that have a rate so slow that they are effectively stable, but as soon as a bit of enzyme is added, things start happening. In this sense, enzymes can be thought of as on buttons for various processes in the cell that are lying in standby. An example of this is the energy carrier molecules ATP. These molecules carry a fair bit of chemical energy, and so will spontaneously dissociate and release energy. However, the rate of this dissociation is very slow, and so it takes a very long time for ATP to dissociate on its own. The cell can therefore produce ATP through metabolism and let it sit for a while, without fear of wasting energy. Molecular machines can now be equipped with enzymes that speed up the dissociation of ATP, harnessing some of the released energy in the process. These enzymatic machines are known as ATPase.\n",
    "\n",
    "\n",
    "\n"
   ]
  },
  {
   "cell_type": "markdown",
   "metadata": {},
   "source": [
    "It is important to note that an enzyme can never change the net change in Gibb's energy in a reaction, and will therefore never be able to change the direction of a reaction. An enzyme cannot trigger a reaction that is not spontaneous on its own, it can just speed it up. The upside however, is that the enzyme molecules doesn't get used up in the reaction, and therefore even a small amount of enzyme is usually enough to trigger some process.\n"
   ]
  },
  {
   "cell_type": "markdown",
   "metadata": {},
   "source": [
    "<a id=\"michaelismenten\"></a>\n",
    "### Modeling enzymatic reaction\n",
    "\n",
    "\n",
    "Enzymes work by binding the substrate, converting it, and then releasing the product. The exact action of enzymes can vary a lot, and can be challenging to explore properly due to their specific nature and the complexity of large proteins. For example, the exact way the enzyme *catalase* works remains elusive, despite it being common to more or less all life that processes oxygen.\n",
    "\n",
    "However, we will not detail with the finer details of specific enzymatic function today, we instead aim to find a more general, first-order, behavior. We simplify the whole process to the reaction\n",
    "$${\\rm S} + {\\rm E} \\underset{k_{-1}}{\\overset{k_1}{\\rightleftharpoons}} {\\rm ES} \\overset{k_2}{\\rightarrow} {\\rm E} + {\\rm P}.$$\n",
    "Here S is the substrate that is to be converted and E is the enzyme, these can bind together and form an enzyme-substrate complex, ES. The ES complex can either break up again without converting the substrate, or the substrate can be converted and the complex breaks up into a free enzyme molecule and a product molecule, P. We assume that once the product has been released by the enzyme, it no longer binds to the enzyme spontaneously, so there is no reverse arrow in the final reaction."
   ]
  },
  {
   "cell_type": "markdown",
   "metadata": {},
   "source": [
    "We want to find the rate at which the product is made, i.e., the time derivative $\\dot{[{\\rm P}]}$. We will call this rate the 'reaction velocity' $v$. Luckily, the law of mass action applies to each concentration seperately, so looking at the reaction equation, we can write this out as\n",
    "$$v = \\dot{[{\\rm P}]} = k_2[{\\rm ES}],$$\n",
    "as you can see, to compute an actual value, we first need to find an expression for $[ES]$. We start using the law of mass action for $E$:\n",
    "$$[\\dot{{\\rm E}}] = (k_{-1} + k_2)[{\\rm ES}] - k_1[{\\rm S}][{\\rm E}].$$\n",
    "To go further, we will make an assumption that the system will quickly reach an equilibrium where the ratio of bound and unbound enzyme is constant, and so $[{\\rm E}]$ will be constant. Such an assumption is sometimes referred to as *quasistatic*. This means we can set the derivative to zero to get\n",
    "$$(k_{-1} + k_2)[{\\rm ES}] = k_1[{\\rm S}][{\\rm E}].$$\n",
    "The enzyme doesn't get \"used up\", so the total amount of enzyme is constant over time, so we can eliminate $[E]$ using the relation $[E] + [{\\rm ES}] = [{\\rm E}]_{\\rm tot}$, giving\n",
    "$$(k_{-1} + k_2)[{\\rm ES}] = k_1[S]([{\\rm E}]_{\\rm tot} - [{\\rm ES}])$$\n",
    "Solving for $[{\\rm ES}]$ gives\n",
    "$$[{\\rm ES}] = \\frac{k_1[{\\rm S}][{\\rm E}]_{\\rm tot}}{k_{-1} + k_2 + k_1[{\\rm S}]}$$\n",
    "\n",
    "Going back and inserting this into the reaction velocity gives\n",
    "$$v = \\frac{k_1 k_2 [{\\rm S}][{\\rm E}]_{\\rm tot}}{k_{-1} + k_2 + k_1[{\\rm S}]}.$$\n",
    "This might look very messy, but remember that most of these are just constants, which we can recombine to simplify things. Defining $v_{\\rm max} \\equiv k_2[{\\rm E}]_{\\rm tot}$ gives\n",
    "$$v = v_{\\rm max} \\frac{k_1 [{\\rm S}]}{k_{-1} + k_2 + k_1[{\\rm S}]}.$$\n",
    "Next we divide by $k_1$ in the fraction and define $K_{m} = (k_{-1} + k_2)/k_1$, giving\n",
    "$$v = v_{\\rm max} \\frac{[{\\rm S}]}{K_m + [{\\rm S}]}.$$\n",
    "Note that $K_m > 0$, so that $[{\\rm S}]/(K_m + [{\\rm S}])<1$, meaning the reaction velocity can be in the range $[0, v_{\\rm max}]$.\n",
    "\n",
    "If $[S] = K_m$, we get $v = v_{\\rm max}/2$, thus $K_m$ kan be thought of as the point where the enzyme is half-saturated.\n",
    "\n",
    "The model we have just derived is known as Michaelis-Menten kinetics. It works very well for a broad range of enzymes. The cases were it might not work that well are cases where we have several different substrates. Single substrate cases are usually assumed to follow Michaelis-Menten kinetics.\n",
    "\n",
    "Also, take a note to compare the Michaelis-Menten kinetics with the hill equation. Note how similar these are. In fact, the Michaelis-Menten equation is a special case of the Hill equation where $n=1$, meaning we assume there is no cooperativity involved.\n",
    "\n",
    "### Enzyme Inhibition\n",
    "\n",
    "Another class of molecules are the enzyme inhibitors. These are molcules that reduce, or completely shut of, the activity of enzymes. There are different functional ways for inhibitors to work, but the simplest mechanism is simply binding to enzyme more readily than the actual substrate, but then not actually converting to anything. Thus the enzymes waste their binding time on the inhibitors rather than the substrate. Enzyme inhibition is another important tool in the cell for regulating behavior, and many drugs are enzyme inhibitors. An example of this is penicillin, which penicillin inhibits an enzyme bacteria need for cell wall synthesis, eventually killing the bacteria.\n",
    "\n",
    "The Michaelis-Menten model for enzyme kinetics can be extended to include enzyme inhibition of different types, and it works quite well at capturing the behavior of inhibition, which is another reason the model is much used in modeling."
   ]
  }
 ],
 "metadata": {
  "kernelspec": {
   "display_name": "Python 3",
   "language": "python",
   "name": "python3"
  },
  "language_info": {
   "codemirror_mode": {
    "name": "ipython",
    "version": 3
   },
   "file_extension": ".py",
   "mimetype": "text/x-python",
   "name": "python",
   "nbconvert_exporter": "python",
   "pygments_lexer": "ipython3",
   "version": "3.6.7"
  }
 },
 "nbformat": 4,
 "nbformat_minor": 2
}
