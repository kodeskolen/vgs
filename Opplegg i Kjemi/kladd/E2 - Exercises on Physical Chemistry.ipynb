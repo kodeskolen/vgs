{
 "cells": [
  {
   "cell_type": "markdown",
   "metadata": {},
   "source": [
    "# E2 — Exercises on Physical Chemistry\n",
    "\n",
    "This notebook contains interactive exercises related to the L2 session of the SSCP2018. \n",
    "\n",
    "Link to the accompanying notebook\n",
    "* [L2 — Overview of Physical Chemistry and Electrochemistry](L2 - Overview of Physical Chemistry and Electrochemistry.ipynb)\n",
    "\n",
    "\n",
    "The following topics are covered\n",
    "* [Modelling a reaction with the Law of Mass Action](#mass_action)\n",
    "* [Exercise 1: Modelling a Two-way Reaction to Understand Equilibrium](#equilibrium)\n",
    "* [Exercise 2: Modelling Michelis-Menten Kinetics](#kinetics)"
   ]
  },
  {
   "cell_type": "markdown",
   "metadata": {},
   "source": [
    "<a id=\"mass_action\"></a>\n",
    "## Modelling a reaction with the Law of Mass Action\n",
    "\n",
    "Now we will turn to how we can solve the ODE system given by the Law of Mass Action to describe the reaction over time. We will sove the equation system numerically using the function [`scipy.integrate.odeint`](https://docs.scipy.org/doc/scipy/reference/generated/scipy.integrate.odeint.html), which is a wrapper of a well developed FORTRAN ode solver. If you normally use another programming language, such as Matlab, similar functions are available there. If you have never solved ODE systems numerically, and you want to understand the process in detail, we recommend the (short) book *Finite Difference Computing with Exponential Decay Models* by Professor Hans Petter Langtangen, which is open access and can be [downloaded free of charge from Springer.](http://www.springer.com/us/book/9783319294384) This books gives a thorough and detailed introduction to solving ODE systemts numerically, and even has a subchapter on modelling chemical reactions, i.e., the exact same problems we will be solving here.\n",
    "\n",
    "\n",
    "If you want to know how to solve such systems numerically from scratch, take a look at the notebook: [S2—Solving ODE Systems Numerically](S2 - Solving ODE Systems Numerically.ipynb).\n",
    "\n",
    "The scipy `odeint` function solves an explicitly defined system on the form\n",
    "$$\\frac{{\\rm d}y}{{\\rm d}t} = f(y, t, p).$$\n",
    "Here, $y$ is a single variable if you have a single ODE, or a vector if you have a system of ODEs. It is often referred to as the *state* variables or simply *states* of the system. The variable $t$ denotes time, and the variable $p$ denotes a vector of any additional parameters of your system. The function $f$ is often called the right-hand-side (RHS) of the system.\n",
    "\n",
    "Our ODE system was given by the Law og Mass Action\n",
    "$$\\begin{align}\n",
    "\\frac{\\mathrm{d [H_2 O]}}{\\mathrm{d}t} = k\\mathrm{[H_2]^2}\\mathrm{[O_2]}, \\qquad \n",
    "\\frac{\\mathrm{d [O_2]}}{\\mathrm{d}t} = -\\frac{\\mathrm{d [H_2 O]}}{\\mathrm{d}t}, \\qquad\n",
    "\\frac{\\mathrm{d [H_2]}}{\\mathrm{d}t} = -2\\frac{\\mathrm{d [H_2 O]}}{\\mathrm{d}t}.\n",
    "\\end{align}\n",
    "$$\n",
    "To write this on the form needed by `odeint` we express the states as the vector $y = (\\mathrm{[H_2]}, \\mathrm{[O_2]}, \\mathrm{[H_2O]})$, which means the RHS becomes:\n",
    "$$f(y, t, p) = \\bigg(\\frac{\\mathrm{d [H_2]}}{\\mathrm{d}t}, \\frac{\\mathrm{d [O_2]}}{\\mathrm{d}t}, \\frac{\\mathrm{d [H_2 O]}}{\\mathrm{d}t}\\bigg).$$\n",
    "\n",
    "We now implement the RHS"
   ]
  },
  {
   "cell_type": "code",
   "execution_count": 2,
   "metadata": {
    "collapsed": true
   },
   "outputs": [],
   "source": [
    "# Import necessary packages\n",
    "import numpy as np\n",
    "import matplotlib.pyplot as plt\n",
    "from scipy.integrate import odeint\n",
    "%matplotlib inline"
   ]
  },
  {
   "cell_type": "code",
   "execution_count": 3,
   "metadata": {
    "collapsed": true
   },
   "outputs": [],
   "source": [
    "# Implement the right-hand-side of the system\n",
    "\n",
    "def rhs(y, t, k):\n",
    "    H2, O2, H2O = y\n",
    "\n",
    "    dH2_dt = -2*k*H2*H2*O2\n",
    "    dO2_dt = -k*H2*H2*O2\n",
    "    dH2O_dt = k*H2*H2*O2\n",
    "    \n",
    "    return [dH2_dt, dO2_dt, dH2O_dt]\n"
   ]
  },
  {
   "cell_type": "markdown",
   "metadata": {},
   "source": [
    "In addition to defining the ODE system itself, we need to supply information about what times to solve the equations for, as well as the inital conditions. This is supplied directly to the `odeint` function, which has the signature: ``odeint(rhs, y_0, t, p)``. Here `rhs` is a function and `y_0`, `t`, and `p` are vectors."
   ]
  },
  {
   "cell_type": "code",
   "execution_count": 6,
   "metadata": {
    "collapsed": true
   },
   "outputs": [],
   "source": [
    "# Make a vector of time points where solutions are to be computed\n",
    "dt = 0.1\n",
    "T = 10\n",
    "time = np.arange(0, T, dt)\n",
    "\n",
    "# Define the initial condition\n",
    "y_0 = (1.0, 1.0, 0.0)\n",
    "\n",
    "# Define any extra parameters of the ODE system\n",
    "k = 10\n",
    "params = (k,) # p must be a vector\n",
    "\n",
    "# Call the ODE solver\n",
    "solutions = odeint(rhs, y_0, time, params)\n",
    "H2, O2, H2O = np.hsplit(solutions, 3)"
   ]
  },
  {
   "cell_type": "markdown",
   "metadata": {},
   "source": [
    "We have now computed the solutions of the ODE system for the times $t\\in[0, 10]$ with a time step of $\\Delta t = 0.1$. The result from the `odeint` function call is a 2D array with each state variable as a column. We therefore use the function `np.hsplit` to split into three 1D arrays, to make it easier to plot and analyze it."
   ]
  },
  {
   "cell_type": "code",
   "execution_count": 7,
   "metadata": {
    "scrolled": true
   },
   "outputs": [
    {
     "data": {
      "image/png": "[encoded data removed]",
      "text/plain": [
       "<matplotlib.figure.Figure at 0x10f832cc0>"
      ]
     },
     "metadata": {},
     "output_type": "display_data"
    }
   ],
   "source": [
    "# Plot data with labels\n",
    "plt.plot(time, H2, label=r'H$_2$')\n",
    "plt.plot(time, O2, label=r'O$_2$')\n",
    "plt.plot(time, H2O, label=r'H$_2$O')\n",
    "\n",
    "# Prettify plot\n",
    "plt.xlabel('Time')\n",
    "plt.ylabel('Concentrations')\n",
    "plt.legend()\n",
    "\n",
    "plt.show()"
   ]
  },
  {
   "cell_type": "markdown",
   "metadata": {},
   "source": [
    "From our resulting plot we can now see how the reaction occurs very swiftly during the first second, but then subsides as the reactants start to run out. As we set our initial conditions to equal concentrations of O$_2$ and H$_2$, we see that H$_2$ becomes the limiting factor of the reaction as it is consumed at twice the rate of the oxygen.\n",
    "\n",
    "If we now want to explore our system, we would most likely want to change the time domain, the initial conditions or the parameters of the system. You can go back and change these manually and then rerun and replot the system. If you plan to do it many times, it might be more systematic to define a function that does everything, for simplicity and order."
   ]
  },
  {
   "cell_type": "markdown",
   "metadata": {},
   "source": [
    "### The Jupyter Notebook Widget\n",
    "\n",
    "If you define a function that both solves and plots an ODE system you can also use a nice functionality in Jupyter *interact widgets* to study the system a little more interactively. See our example below where you can use the sliders to change the rate of the reaction $k$ or the inital conditions. Every time you drag one of the sliders, the system is resolved and replotted using the new values. \n",
    "\n",
    "(How such widgets are made are out of scope for this summer school, but if you are curious you can take a look at the file `L2_widgets.py` for an example or the [online Jupyter documentation](http://ipywidgets.readthedocs.io/en/latest/examples/Using%20Interact.html). It's not that tricky, but some prior knowledge with Python is probably useful.)"
   ]
  },
  {
   "cell_type": "code",
   "execution_count": 1,
   "metadata": {},
   "outputs": [
    {
     "data": {
      "application/vnd.jupyter.widget-view+json": {
       "model_id": "0dac6e5a7f8e4dd286969253cf31d0a1",
       "version_major": 2,
       "version_minor": 0
      },
      "text/plain": [
       "interactive(children=(FloatSlider(value=1.0, description='k', max=5.0), FloatSlider(value=3.0, description='H2…"
      ]
     },
     "metadata": {},
     "output_type": "display_data"
    }
   ],
   "source": [
    "from L2_widgets import ReactionWidget\n",
    "ReactionWidget().display()"
   ]
  },
  {
   "cell_type": "markdown",
   "metadata": {},
   "source": [
    "<a id=\"equilibrium\"></a>\n",
    "## Exercise 1: Modelling a Two-way Reaction to Understand Equilibrium\n",
    "\n",
    "Not it's time for you to try. Using the same approach as for the one-way reaction above, model the two-way reaction\n",
    "\n",
    "**Exercise 1a)**\n",
    "\n",
    "We will be modeling the following binding reaction\n",
    "$$\\mathrm{Mb} + \\mathrm{O_2} \\underset{k_-}{\\overset{k_+}{\\rightleftharpoons}} \\mathrm{MbO_2}.$$\n",
    "Using the law of mass action, write out the corresponding ODE-system.\n",
    "\n",
    "**Exercise 1b)**\n",
    "\n",
    "Define the RHS of the ODE-system."
   ]
  },
  {
   "cell_type": "code",
   "execution_count": 2,
   "metadata": {
    "collapsed": true
   },
   "outputs": [],
   "source": [
    "# your code here"
   ]
  },
  {
   "cell_type": "markdown",
   "metadata": {},
   "source": [
    "**Exercise 1c)**\n",
    "\n",
    "Use `odeint` to solve the system. Make up some reasonable parameters.\n",
    "\n",
    "Plot your solution.\n",
    "\n"
   ]
  },
  {
   "cell_type": "code",
   "execution_count": 3,
   "metadata": {
    "collapsed": true
   },
   "outputs": [],
   "source": [
    "# your code here"
   ]
  },
  {
   "cell_type": "markdown",
   "metadata": {},
   "source": [
    "**Exercise 1d)**\n",
    "\n",
    "Compute the equilibrium by hand and verify that it matches your numerical solution. \n",
    "\n",
    "If you double $k_{+}$, what should happen to the equilibrium? Test your assumption by recomputing with changed parameters."
   ]
  },
  {
   "cell_type": "markdown",
   "metadata": {},
   "source": [
    "<a id='kinetics'></a>\n",
    "## Exercise 2: Modeling Michaelis-Menten Kinetics\n",
    "\n",
    "Let us model the Michaelis-Menten reaction and analyse the behavior\n",
    "$${\\rm S} + {\\rm E} \\underset{k_{-1}}{\\overset{k_1}{\\rightleftharpoons}} {\\rm ES} \\overset{k_2}{\\rightarrow} {\\rm E} + {\\rm P}.$$\n",
    "\n",
    "**Exercise 2a)**\n",
    "\n",
    "Using the law of mass action, write out the system of ODEs that describe the four concentrations $[{\\rm S}]$, $[{\\rm E}]$, $[{\\rm ES}]$, $[{\\rm P}]$.\n",
    "\n",
    "**Exercise 2b)**\n",
    "\n",
    "Implement the RHS of the system.\n",
    "\n",
    "* *Hint:* Remember that the signature must be `def rhs(y, t)`, where `y` is a vector of the four states. The function must return a list of the derivatives of the four states in the same order as `y`.\n",
    "\n",
    "\n",
    "\n",
    "\n"
   ]
  },
  {
   "cell_type": "code",
   "execution_count": null,
   "metadata": {
    "collapsed": true
   },
   "outputs": [],
   "source": [
    "# your code here"
   ]
  },
  {
   "cell_type": "markdown",
   "metadata": {},
   "source": [
    "**Exercise 2c)**\n",
    "\n",
    "Solve the system with the rates $k_-1 = 1$, $k_1 = 2$, $k_2 = 3$. Let $[{\\rm S}]_0 = 1$ and $[{\\rm E}]_0 = 0.1$. Solve the system for $t\\in[0, 30]$."
   ]
  },
  {
   "cell_type": "code",
   "execution_count": 4,
   "metadata": {
    "collapsed": true
   },
   "outputs": [],
   "source": [
    "# your code here"
   ]
  },
  {
   "cell_type": "markdown",
   "metadata": {},
   "source": [
    "**Exercise 2d)**\n",
    "\n",
    "Make two plots, in the plot the curves for the substrate and product, in the second plot the curves of bound and free enzyme.\n",
    "\n",
    "* *Hint:* Your solutions will be a large 2D-matrix. To split them into seperate curves use `S, E, SE, P = np.hsplit(y, 4)`.\n"
   ]
  },
  {
   "cell_type": "markdown",
   "metadata": {},
   "source": [
    "**Exercise 2e)**\n",
    "\n",
    "As a verifictation, let us make sure our solution is mass conserving. We know that the total amount of enzyme $[\\rm E] + [\\rm ES]$ and the total amount of substrate and product $\\rm [S] + [P]$ must both be constant. Plot these curves and ensure that they are constant."
   ]
  },
  {
   "cell_type": "markdown",
   "metadata": {},
   "source": [
    "#### Exercise 2f)\n",
    "\n",
    "The Michaelis-Menten gives the reaction velocity of the enzyme activity as\n",
    "$$v = v_{\\rm max} \\frac{[S]}{K_m + [S]}, \\qquad v_{\\rm max} = k_2 [E]_{\\rm tot}, \\qquad K_m = \\frac{k_{-1} + k_2}{k_1}.$$\n",
    "\n",
    "Compare your solution to the Michaelis-Menten equation. Are the two different? Explain any differences you see.\n",
    "\n",
    "* *Hint 1:* Remember that the reaction velocity by definition is $[\\dot{\\rm P}] = k_2[{\\rm ES}]$.\n",
    "* *Hint 2:* We made an assumption deriving the Michaelis-Menten equation. What was it? Are we making the same assumption when we are solving the system numerically?"
   ]
  }
 ],
 "metadata": {
  "kernelspec": {
   "display_name": "Python 3",
   "language": "python",
   "name": "python3"
  },
  "language_info": {
   "codemirror_mode": {
    "name": "ipython",
    "version": 3
   },
   "file_extension": ".py",
   "mimetype": "text/x-python",
   "name": "python",
   "nbconvert_exporter": "python",
   "pygments_lexer": "ipython3",
   "version": "3.6.7"
  }
 },
 "nbformat": 4,
 "nbformat_minor": 2
}
