{
 "cells": [
  {
   "cell_type": "markdown",
   "metadata": {},
   "source": [
    "# L3 — Membrane Biophysics\n",
    "\n",
    "In this session we will introduce the cell membrane and its electrophysiological properties. Cells maintain an electric potential across their cell wall, and we will aim to understand how and why this membrane potential exists. We will also look at passive transport of ions through the membrane and how this affects the membrane potential. In the next session we will start looking at more complicated behaviour of ion channels, as well as active transport through the membrane."
   ]
  },
  {
   "cell_type": "markdown",
   "metadata": {},
   "source": [
    "Here is an overview of topics we will cover in this session\n",
    "- [The Cell Membrane](#membrane)\n",
    "- [The Membrane Potential](#potential)\n",
    "- [Ion Channels](#ionic)\n",
    "- [Diffusion and Fick's Law](#diffusion)\n",
    "- [Planck's equation and Nernst Equilibrium](#nernst-planck)\n",
    "- [The Nernst Potential](#nernst_potential)\n",
    "- [Inward and Outward Currents](#currents)\n",
    "\n",
    "Links to other notebooks\n",
    "- Link to accompanying exercises: [E3—Exercises on the Cell Membrane](E3 - Exercises on the Cell Membrane.ipynb)\n",
    "- Link to previous session: [L2—Overview of Physical Chemistry and Electrochemistry](L2 - Overview of Physical Chemistry and Electrochemistry.ipynb)\n",
    "* Link to next session: (Coming...)\n"
   ]
  },
  {
   "cell_type": "markdown",
   "metadata": {},
   "source": [
    "<a id=\"membrane\"></a>\n",
    "## The Cell Membrane\n",
    "\n",
    "We will now introduce the cell membrane, a very fundamental and important piece of understanding cell electrophysiology. The structure of the cell membrane is fairly complex, but its most fundamental units are quite simple, they are the *phospholipids*.\n",
    "\n",
    "<img src=\"fig/phospholipid.png\" width=250>\n",
    "\n",
    "Phospholipids are molecules that have a head consisting of a phosphate group, and two fatty acid tails. An important property of phospholipids is that the head is hydrophilic, while the tails are hydrophobic. Imagine we disolve some phospholipids in water. If the phospholipids were to spread evenly throughout the solutions, the hydrophobic tails would be very exposed to the water, this incurs a high energy cost due to hydrophobic interactions. This means that the phospholipids, rather than disperse evenly, will tend to clump together. This way they can attempt to partily shield their tails from the water, reducing the total hydrophobic interaction in the solution. This means phospholipids, despite being fairly simple molecules, spontaenously self-assemble into more complex structures where the tails are kept on the inside.\n",
    "\n",
    "The *lipid bilayer* is one such possible structure. In the bilayer, the phospholipids create two planar sheets that lie in barallell, with the tails of each pointing towards the center. The layers do not allow water to pass in, and so the structure very effectively hides the hydrophobic tails away from the water. There is no real limit for how large the bilayer can become, given enough phospholipid molecules, and the sheet is quite flexible, and so the whole sheet can loop back around and meet itself, giving a balloon structure we call the cell membrane. \n",
    "\n",
    "<img src=\"fig/lipid_bilayer.png\" width=400>\n",
    "\n",
    "With the closed cell membrane, we have a clearly inside and outside of the cell, which is often referred to as the *intracellular* and *extracellular* domains. The intracellular is also known as the cytosol of the cell. Note that \"inside the cell\" and \"inside the cell\" now means two different things. A typical cardiomyocyte is about 10 µm in diamter, the cell membrane itself being only about 5 nm thick, meaning the cell membrane is very thin compared to the size of the cell."
   ]
  },
  {
   "cell_type": "markdown",
   "metadata": {},
   "source": [
    "### Permeability of the membrane to charged particles\n",
    "\n",
    "The bilayer assembles as an entropic effect to reduce the net hydrophobic interaction. This means that the lipids in the membrane are more or less free to float around within the membrane plane in relation to each other. With this image, it is not hard to imagine smaller molecules being able to slip in between the lipids and move into, or through the membrane, without affecting the integrity of the membrane structure itself. However, the membrane is discriminatory, and does not treat all molecules that try to diffuse across the membrane equally.\n",
    "\n",
    "The membrane self-assembled to hide the hydrophobic tails. Stated another way, there is a non-polar environment within the membrane. Outside the membrane, we have water, which is a polar environment. This means that the membrane itself is fairly permeable to non-polar, or fat soluable, molecules, but impermeable to polar molecules. Charged ions are polar molecules, and will therefore prefer to stay in the polar environment outside the membrane. Despite its fairly thin width of a few nanometers, the non-polar environment is very effective at shielding against charged ions. While there in reality always will be a few ions that leak through by chance, we can for our following discussion assume that this transport of charge through will be completely neglible.\n"
   ]
  },
  {
   "cell_type": "markdown",
   "metadata": {},
   "source": [
    "### The Cell Membrane as a Capacitor\n",
    "\n",
    "If no charged ions can pass through the membrane, then no electric current can pass through the membrane, as an electric current needs to be carried by something. This means the membrane is an electric insulator. The inside and outside of the cell however, have many disolved charged ions, and so are both quite good electric conductors. When two electric conductors are separated by an insulator, we get what is known as an electric *capactior*.\n",
    "\n",
    "If an electric potential is applied across a capacitor, an electric current wants to flow through, but the electric insulator prevents this, so instead we get a pileup of electric charge on one side of the insulator. This charge is felt by carriers of opposite charge on the other side of the insulator which will pile up on that side. These charges set up electric field that will be of equal strength to our applied voltage across the capactior. \n",
    "The amount of charge separated by the insulator will be proportional to the voltage across it\n",
    "$$V = \\frac{Q}{C_{\\rm m}}.$$\n",
    "Where the proportionality factor is called the *membrane capacitance*.\n",
    "\n",
    "<img src=\"fig/capacitor.png\" width=400>\n",
    "\n",
    "Any time the potential across the capacitor changes, the charge separation will change, so that the electric field cancels out the potential difference. We can find the time course of such a change by assuming the capacitor is always at *quasi-static* equilibrium, meaning we can derivative the proportionality equation to find\n",
    "$$\\frac{{\\rm d} Q}{{\\rm d}t} = C_{\\rm m} \\frac{{\\rm d} V}{{\\rm d} t}.$$\n",
    "The time derivative of charge can be interpreted as a current, and we call this the *capacitive current*, or $I_{\\rm cap}$. The capacitive current is called a *virtual* current, as it isn't an actual carrier mediated current carried across the insulator (which cannot happen), but rather a current that comes from the charge build up or release of built up charge.\n",
    "\n",
    "The capacitance of the membrane is about 1 µF/cm$^2$, which means that a whole cell has a capacitance of about 0.05 nF. That might seem like very little, but a Farad is a huge unit, and one mostly see capacitances in the pF to µF range. At the same time the cell is fairly small, meaning the 0.05 nF is quite a considerable capacitance."
   ]
  },
  {
   "cell_type": "markdown",
   "metadata": {},
   "source": [
    "<a id=\"potential\"></a>\n",
    "## The Membrane Potential\n",
    "\n",
    "We can now define the *membrane potential*. It is simply the potential difference across the membrane. If we think of the membrane as an electric component, it is a capacitor separating the intracellular en extracellular domains.\n",
    "\n",
    "<img src=\"fig/cap_circuit.png\" width=150>\n",
    "\n",
    "Denoting the intracellular and extracellular potentials as $V_{\\rm e}$ and $V_{\\rm i}$, the membrane potential is the potential difference \n",
    "$$\\Delta V = V_{\\rm i} - V_{\\rm e}.$$\n",
    "Even though the membrane potential is the potential difference, we denote it as simply as $V$, forgoing the $\\Delta\n",
    "$-symbol for neater notation.\n"
   ]
  },
  {
   "cell_type": "markdown",
   "metadata": {},
   "source": [
    "<a id=\"ionic\"></a>\n",
    "# Ionic membrane Currents\n",
    "\n",
    "We have now seen that the cell membrane itself is impermeable to charged ions, and thus acts as an electric insulator and therefore as a capacitor. However, this is not the whole story. In the membrane itself, proteins can be embedded. By giving proteins a non-polar \"waist\", and polar caps, these proteins can be anchored in the membrane. Many such proteins exist and are used by the cell for many different things. For our discussion, the important proteins are the *ion channels*. These proteins have a specific shape, creating a pore in the membrane where ions can pass through. Inside this channel, there is usually a part of the protein that acts as a *selectivity filter*, allowing only ions of a specific type to pass through.\n",
    "\n",
    "<img src=\"fig/ion_channel.png\" width=800>\n",
    "* **Left:** A schematic of an ion-specific channel. The black ring represents the selectivity filter. \n",
    "* **Right:** The protein structure of a K$^+$-specific ion channel. [Image from Wikimeda Commons](https://commons.wikimedia.org/wiki/File:My_molecule_image_2.png) used under a [CC BY-SA 4.0 license](https://creativecommons.org/licenses/by-sa/4.0). \n",
    "\n",
    "We will now start to discuss movement of ions through such ion channels. However, to do so, we first have to understand the phenomenon of diffusion."
   ]
  },
  {
   "cell_type": "markdown",
   "metadata": {},
   "source": [
    "<a id=\"diffusion\"></a>\n",
    "## Diffusion and Fick's Laws\n",
    "\n",
    "At the microscopic level, ions and molecules are not stationary, but rather zip around at high speeds due to *thermal motion*. If you were to look at a single molecule and track its motion, you would find it chaotic and hard to describe and predict. If we zoom out however, and look at a large number of particles simultaneously, we actually see very organized and deterministic behavior. The motion of a large number of particles is described through the process of *diffusion*, which in turn is described by Fick's laws of diffusion.\n",
    "\n",
    "#### Fick's First Law of Diffusion\n",
    "\n",
    "Fick's first law of diffusion states that there will be a net diffusive motion of particles if there is a concentration gradient present. The flux of particles is proportional in magnitude to the concentration gradient. We can express it in 1D as \n",
    "$$J = -D \\frac{\\partial c}{\\partial x},$$\n",
    "and in higher dimensions, such as normal 3D space, as\n",
    "$$J = -D \\nabla c.$$\n",
    "Here, $J$ is the net flux, $c$ the concentration and $D$ the proportionality constant, called the *diffusivity* or *diffusion coefficient*.\n",
    "\n",
    "Fick's law holds true for each species independently, so it is often written with subindices\n",
    "$$J_k = -D_k \\nabla c_k.$$\n",
    "\n",
    "It is important to understand that diffusion only describes the net motion of a large number of particles. If the concentration is constant throughout a container, there is no concentration gradient, and thus no diffusive flux. There is still chaotic molecular motion, but this will be of equal magnitude in all directions, and so the total or net motion is zero.\n",
    "\n",
    "To understand what diffusion means for the behavior of the cell, let us look at an example. Assume we have a box, separated at the middle by a partition. The left side is filled with a gas, while the right is completely empty. If we now remove the partition, what happens? The gas will start to expand and fill the whole container, and eventually everything will be evenly spread throughout the container. At the molecular level, what has happened is that the gas molecules now are free to move around the entire container, and so they will, by random motion, tend to fill everywhere evenly. There is no force pulling the gas into the vacuum on the right.\n",
    "\n",
    "We can repeat the the thought experiment, but this time the right is filled with a different gas. What happens when we remove the divide now? The two gasses will diffuse past each other, and eventually we end up with a container with an evenly mixed and distributed mixture of gasses.\n",
    "\n",
    "<img src=\"fig/diffusion.png\" width=450>\n",
    "\n",
    "We see that diffusion will tend to even out and smooth concentration differences. Diffusion is also responsible for mixing everything together, as each species will be evenly distributed throughout the solution."
   ]
  },
  {
   "cell_type": "markdown",
   "metadata": {},
   "source": [
    "\n",
    "## Passive and active ion transport\n",
    "\n",
    "Ion channels in the membrane only create a pore for the ions to move through, the movement of the ions itself has to occur spontaneously. This is called *passive ion transport*, as the channel isn't actually doing any transporting, it only makes the ions spontaneous motion possible. The alternative is *active ion transport*, which is carred out by other membrane proteins known as ion pumps and exchangers. These active transporters spend energy in the form of ATP to pump ions, and so these proteins *actively* move ions around. An anaolgy: Passive transporters are like roads, they make it possible for cars to drive around, but the road itself doesn't push cars around. While active transports are more like car carrier trailers, actively moving cars around.\n",
    "\n",
    "We will focus on passive ion transport for the rest of this session.\n",
    "\n",
    "\n",
    "## Passive ion transport through ion channels\n",
    "\n",
    "Passive ion transport occurs because charged ions move spontaneously due to both diffusive and electric forces. As we have discussed earlier, this is described by the Nernst-Planck Equation\n",
    "$$J = -D\\bigg(\\nabla c + \\frac{zF}{RT}c\\nabla V\\bigg).$$\n",
    "\n",
    "To understand the motion of charged ions through the membrane, let us start of with an example. Assume there is a higher concentration of K$^+$-ions inside the cell compared to outside. There is a similar elevated level of negatively charged ions X$^-$-ions inside, so both sides of the membrane are electrical neutral, and we have no membrane potential. \n",
    "\n",
    "Assume now, that at a certain time, some potassium ion channels in the membrane open, meaning potassium is free to move through these channels through the membrane. What will happen?\n",
    "\n",
    "As the channel opens, there is a concentration gradient for potassium, because the concentration is higher inside than outside. There is no electric field, as everything is electrical neutral. This means the Nernst-Planck equation reduces to Fick's law at this time, and potassium therefore starts to diffuse out of the cell. However, as K$^+$-ions start leavingt the cell, the negatively charged ions cannot follow, as there are no channels they can use. This means we end up with a net negatively charged inside, and a positively charged outside of the cell. This means that an electric field starts to emerge, inhibiting the potassium from leaving the cell. What effectively happens is that the potassium leaving the cell will be kept close to the membrane, while negatively charged ions inside the cell will be dragged towards the membrane. What is happening is the membrane is acting like a capacitor that is being charged. Eventually the membrane potential becomes strong enough for the diffusive flux and the electric drift to cancel out. We have now reached a new equilibrium. There is still a concentration gradient of potassium across the membrane, as well as a net membrane potential. But it is an equilibrium, as nothing is changing in time.\n",
    "\n",
    "<img src=\"fig/reversal_potential.png\" width=1000>\n",
    "* **Left:** There is a higher concentration of K$^+$ inside the cell, but the system is electrically neutral everywhere.\n",
    "* **Center:** Channels open and potassium starts to leave the cell due to diffusion as a result of the concentration gradient.\n",
    "* **Right:** As potassium leaves the cell, an electric field emerges, which eventually becomes strong enough to stop any further motion. The system has reached a new equilibrium, and is unchanging."
   ]
  },
  {
   "cell_type": "markdown",
   "metadata": {},
   "source": [
    "#### The Diffusion Equation\n",
    "\n",
    "Fick's first law gives us the flux due to a concentration gradient, but we are interested in solving for how the concentration actually changes over time. To find an equation for this, we combine Fick's law with the continuity equation, which is just a statement about conservation of matter\n",
    "$$\\frac{\\partial c}{\\partial t} = -\\nabla \\cdot J.$$\n",
    "Inserting the expression we just found for the diffusive flux, we get\n",
    "$$\\frac{\\partial c}{\\partial t} = D \\nabla^2 c.$$\n",
    "\n",
    "To get a feel for how this equation behaves, we have a notebook that details how this equation can be modelled, and showing some animations of the solution for different systems. Some diffusion modelling will be covered later in the course, but for now we consider it supplementary. [Solving the Diffusion Equation Notebook](S2 - Solving the 1D Diffusion Equation.ipynb)"
   ]
  },
  {
   "cell_type": "markdown",
   "metadata": {},
   "source": [
    "<a id=\"nernst-planck\"></a>\n",
    "## The Nernst-Planck Equation\n",
    "\n",
    "We have seen that particles will spontaneously move around due to diffusion, if there are any concentration gradients. Charged ions will also move in response to an electric field. When looking at the movement of charged ions, we therefore have to consider two different driving forces, diffusive flux and electric drift. These driving forces are given by the expressions\n",
    "$$\\qquad J_{\\rm diff} = -D\\nabla c, \\qquad J_{\\rm drift} = -\\frac{DzF}{RT}c\\nabla V.$$\n",
    "The diffusive term is simply Fick's law, which we discussed earlier. The electric drift is a new expression. The drift occurs as a response to an electric field, here expressed as the gradient of an electric potential $E = -\\nabla V$. The rest of the variables are the diffusion constant $D$, the Faraday constant $F$, the gas constant $R$, the temperature $T$ and the valence of the species in question, $z$.\n",
    "\n",
    "Writing out the total net flux gives the Nernst-Planck Equation\n",
    "$$J = -D\\bigg(\\nabla c + \\frac{zF}{RT}c\\nabla V\\bigg).$$\n",
    "Note that the diffusive and electric driving forces can point in the same, or in opposite directions. If the two point in opposite directions and are of equal magnitude, there will be no net motion of charged particles, despite there being a concentration gradient and an electric field acting on the particles. "
   ]
  },
  {
   "cell_type": "markdown",
   "metadata": {},
   "source": [
    "<a id='nernst_potential'></a>\n",
    "## The Nernst Potential\n",
    "\n",
    "At what potential does the net transport of ions through the channels stop? We can use the Nernst-Planck equation to find this equilibrium value. Because we are finding an equilibrium, there is no net flux, and the Nernst-Planck equation must be equal to zero\n",
    "$$J = -D\\bigg(\\nabla c + \\frac{zF}{RT}c\\nabla V\\bigg) = 0.$$\n",
    "We first note that we can discard the diffusion coefficient entirely, apparently, the *speed* at which diffusion happens won't affect the conditions for *if* diffusion happens. This leaves\n",
    "$$\\nabla c = \\frac{zF}{RT}c\\nabla V.$$\n",
    "To make sense of this equation, let us make a rough sketch of the membrane and the concentration and electric gradients. Assuming the outside and inside are well mixed, there are only gradients across the membrane itself.\n",
    "\n",
    "<img src=\"fig/nernst_b.png\" width=400>\n",
    "\n",
    "The gradients are pointed straight through the membrane, so we can turn the equation one-dimensional\n",
    "$$\\frac{{\\rm d} c}{{\\rm d} x} = \\frac{zF}{RT}c\\frac{{\\rm d} V}{{\\rm d} x}.$$\n",
    "To find an expression for the potential $V$, we integrate this equation across the membrane\n",
    "$$\\int_0^L \\frac{1}{c} \\frac{{\\rm d} c}{{\\rm d} x} \\ {\\rm d} x = \\frac{zF}{RT} \\int_0^L  \\frac{{\\rm d} V}{{\\rm d} x} \\ {\\rm d} x.$$\n",
    "With a substitution of variables\n",
    "$$\\int_0^L \\frac{1}{c} \\ {\\rm\\ d} c = \\frac{zF}{RT} \\int_0^L  {\\rm d} V.$$\n",
    "Which gives\n",
    "$$\\ln c_{\\rm e} - \\ln c_{\\rm i} = \\frac{zF}{RT}(V_{\\rm e} - V_{\\rm i}).$$\n",
    "And so the equilibrium condition can be summarized as\n",
    "$$V_{\\rm eq} = \\frac{RT}{zF} \\ln \\frac{c_{\\rm e}}{c_{\\rm i}}.$$\n",
    "At this specific membrane potential (for a given concentration difference), the electric and diffusion forces on the ions perfectly balance, giving no net transport of ions across the membrane.\n",
    "\n",
    "This equilibrium potential is referred to as the *Nernst potential*. It is specific to a given ion species, as it depends on the ionic concentrations $c_i$ and $c_e$, and the valency $z$. It is therefore often denoted as $E_{\\rm X}$ for ionic species X. So for example the Nernst potential for sodium, potassium and calcium would be: $E_{\\rm Na}$, $E_{\\rm K}$ and $E_{\\rm Ca}$ respectively."
   ]
  },
  {
   "cell_type": "markdown",
   "metadata": {},
   "source": [
    "### Finding the Nernst Potential via Gibbs Energy\n",
    "\n",
    "An even simpler way of finding an expression for the Nernst potential is to use the fact that $\\Delta G = 0$ for a process at equilibrium. Thus, the process of moving an ion across the membrane should not incur any change in the Gibb's energy, given that $V = E_{\\rm X}$.\n",
    "\n",
    "The Gibb's energy for a particle inside the cell is\n",
    "$$G_{\\rm i} = G^0 + RT\\ln [{\\rm X}]_{\\rm i} + zFV_{\\rm i},$$\n",
    "while on the outside it is\n",
    "$$G_{\\rm e} = G^0 + RT\\ln [{\\rm X}]_{\\rm e} + zFV_{\\rm e}.$$\n",
    "Combining thet two gives the net change\n",
    "$$\\Delta G = G_{\\rm i} - G_{\\rm e} = RT \\ln \\frac{[{\\rm X}]_{\\rm i}}{[{\\rm X}]_{\\rm e}} + zFV.$$\n",
    "And so, because $\\Delta G = 0$ we get\n",
    "$$zFV =  RT \\ln \\frac{[{\\rm X}]_{\\rm i}}{[{\\rm e}]_{\\rm i}},$$\n",
    "or\n",
    "$$V = \\frac{RT}{zF}\\ln \\frac{[{\\rm X}]_{\\rm e}}{[{\\rm X}]_{\\rm i}} = E_{\\rm X},$$\n",
    "which is the Nernst potential."
   ]
  },
  {
   "cell_type": "markdown",
   "metadata": {},
   "source": [
    "<a id='currents'></a>\n",
    "## Inward and Outward Currents\n",
    "\n",
    "The following table gives typical values for mammalian cardiomyocytes and the resulting Nernt potentials\n",
    "\n",
    "| Ion        | Intracellular | Extracellular  | Nernst Potential |\n",
    "| -----------|:-------------:| -----:|----------:|\n",
    "| Sodium     | 8 mM          | 110 mM | +70 mV |\n",
    "| Potassium  | 100 mM        | 4 mM  | -86 mV |\n",
    "| Calcium    | 0.2 µM        | 1 mM  | +114 mV |\n",
    "\n",
    "We see that the Nernst potentials of these three species are very different. This means they will drive the membrane potential in different directions. Sodium and calcium transport will want to push membrane potential up, while potassium transport will tend to pull it down.\n",
    "\n",
    "Looking at the concentrations in the table, this seems reasonable. Sodium and calcium have large inwards concentration gradient pressures, these ions *want* to enter the cell, which raises the membrane potential. Because of this, we refer to sodium and calcium currents as **inward currents**. Likewise, potassium is much more abundant in the cell, and so has a large concentration gradient pressure to leave the cell, which lowers the potential. Potassium is therefore an **outward** curent.\n",
    "\n",
    "If we imaginge we have three different cells, each with a membrane only permeable to a specific ion: Na$^+$, K$^+$ and Ca$^{2+}$, these three cells would have membrane potentials equal to the Nernst potentials of these three species.\n",
    "<img src=\"fig/nernst_potentials.png\" width=600>\n",
    "But what about a cell that has a membrane that has ion channels of all three types? What membrane potential does this cell have? To understand this, we will have to model passive ion transport.\n"
   ]
  },
  {
   "cell_type": "markdown",
   "metadata": {},
   "source": [
    "## The Nernst Potential as a driving force\n",
    "\n",
    "If the cell membrane is permeable to an ion type, and the membrane potential is different to the Nernst potential of that ion type, there will be a net transport of ions through the membrane. \n",
    "\n",
    "Let's take Na$^+$ as an example, if the membrane has open sodium channels, ions of this type can move through the membrane. If $V=E_{\\rm Na}$, they have no desire to do so, but if $V \\neq E_{\\rm Na}$, there will be a net transport of sodium that tries to shift the membrane potential closer to the Nernst potential. This means that if $V < E_{\\rm Na}$, sodium will enter into the cell (influx), while if $V > E_{\\rm Na}$, sodium will tend to leave the cell, to shift the membrane potential downward (efflux). For this reason, the Nernst potential is also often called the *reversal potential*.\n",
    "\n",
    "The bigger the difference in the actual membrane potential, and the equilibrium Nernst potential, the stronger the current will be. We refer to the difference $(V - E_{\\rm Na})$ as the *driving force*. To find the actual current, we assume it to be Ohmic, meaning the magnitude of the current is directly proportional to the driving force\n",
    "$$I_{\\rm Na} = g_{\\rm Na} (V - E_{\\rm Na}).$$\n",
    "The proportionality factor is the *conductance*, $g_{\\rm Na}$, which is also species specific. The more open channels the sodium have, the stronger the conductance, and the stronger the current for a given driving force. The conductance is also the inverse of electrical resistance $g = 1/R$, so this is just a formulation of Ohm's law ($I = V/R$).\n",
    "\n",
    "For the cell only permeable to Na$^+$-ions, we can represent the cell as the electric circuit to the left\n",
    "<img src=\"fig/ohmic_currents.png\" width=600> \n",
    "* **Left:** Cell membrane only permeable to sodium\n",
    "* **Right:** Cell membrane permable to sodium, potassium and calcium at the same time\n",
    "\n",
    "Denoting the sodium current as $I_{\\rm Na}$ in the current to the left, we can denote the total current out of the cell as\n",
    "$$I_{\\rm tot} = I_{\\rm cap} + I_{\\rm Na}.$$\n",
    "Like for our voltage clamp example, we will argue that this total current in effect will be zero. This is because any current through the sodium channels will distribute across the membrane itself, effectively charging it, which is expressed as the capacitive current. If $I_{\\rm tot}$ was different from 0 there would be a net charge leaving the cell, which would not be sustainable over a longer time perspective, as charge separation requires large amounts of energy.\n",
    "\n",
    "This means we can express the change of the membrane potential over time as\n",
    "$$C_{\\rm m}\\frac{{\\rm d}V}{{\\rm d}t} = I_{\\rm cap} = -I_{\\rm Na}.$$\n",
    "Which, when inserting for our Ohmic current gives\n",
    "$$C_{\\rm m}\\frac{{\\rm d}V}{{\\rm d}t} = - g_{\\rm Na} (V-E_{\\rm Na}).$$\n",
    "\n",
    "If we want to include currents of all three ionic species, then the total current is given as\n",
    "$$I_{\\rm tot} = I_{\\rm cap} + I_{\\rm ion} = I_{\\rm cap} + I_{\\rm Na} + I_{\\rm K} + I_{\\rm Ca} = 0.$$\n",
    "Which gives the ODE\n",
    "$$C_{\\rm m}\\frac{{\\rm d}V}{{\\rm d}t} = -\\big[g_{\\rm Na} (V-E_{\\rm Na}) + g_{\\rm K} (V-E_{\\rm K}) + g_{\\rm Ca} (V-E_{\\rm Ca})\\big].$$\n",
    "\n"
   ]
  },
  {
   "cell_type": "markdown",
   "metadata": {},
   "source": [
    "<a id=\"passive\"></a>\n",
    "### Gated Ion Channels\n",
    "\n",
    "So far we have only talked about ion channels as being present and open, and seing how transport of ions occurs passively through them. However, most channels open and close in response to different conditions, we call such channels *gated* ion channels. Understanding how the channels are gated is the final piece of the puzzle to understanding the action potential of the cell. The next session will discuss gated ion channels."
   ]
  }
 ],
 "metadata": {
  "kernelspec": {
   "display_name": "Python 3",
   "language": "python",
   "name": "python3"
  },
  "language_info": {
   "codemirror_mode": {
    "name": "ipython",
    "version": 3
   },
   "file_extension": ".py",
   "mimetype": "text/x-python",
   "name": "python",
   "nbconvert_exporter": "python",
   "pygments_lexer": "ipython3",
   "version": "3.6.7"
  }
 },
 "nbformat": 4,
 "nbformat_minor": 2
}
