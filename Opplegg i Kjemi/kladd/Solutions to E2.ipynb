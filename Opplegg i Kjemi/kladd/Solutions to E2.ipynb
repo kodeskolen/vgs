{
 "cells": [
  {
   "cell_type": "markdown",
   "metadata": {},
   "source": [
    "#### Exercise 1: Modelling a Two-way Reaction to Understand Equilibrium\n",
    "\n",
    "This exercise is very similar to the example of the one-way reaction, we just need to add a term to reflect the reverse direction of the reaction"
   ]
  },
  {
   "cell_type": "markdown",
   "metadata": {},
   "source": [
    "**Exercise 1a)**\n",
    "\n",
    "The first exercise is to set up the ODE-system for the following reaction\n",
    "$$\\mathrm{Mb} + \\mathrm{O_2} \\underset{k_-}{\\overset{k_+}{\\rightleftharpoons}} \\mathrm{MbO_2}.$$\n",
    "The ODE-system will be:\n",
    "$$\\frac{{\\rm d}[\\mathrm{Mb}]}{{\\rm d}t} = -k_+[\\mathrm{Mb}][\\mathrm{O_2}] + k_-[\\mathrm{MbO}_2],$$\n",
    "\n",
    "$$\\frac{{\\rm d}[\\mathrm{O}_2]}{{\\rm d}t} = -k_+[\\mathrm{Mb}][\\mathrm{O_2}] + k_-[\\mathrm{MbO}_2],$$\n",
    "\n",
    "$$\\frac{{\\rm d}[\\mathrm{MbO}_2]}{{\\rm d}t} = k_+[\\mathrm{Mb}][\\mathrm{O_2}] - k_-[\\mathrm{MbO}_2].$$\n",
    "Note that all three states have the same derivative, but with opposite signs.\n"
   ]
  },
  {
   "cell_type": "markdown",
   "metadata": {},
   "source": [
    "**Exercise 1b)**\n",
    "\n",
    "Here we are supposed to define the RHS function in Python. We do this by writing out the ODE system we just set up"
   ]
  },
  {
   "cell_type": "code",
   "execution_count": 2,
   "metadata": {},
   "outputs": [],
   "source": [
    "import numpy as np\n",
    "import matplotlib.pyplot as plt\n",
    "from scipy.integrate import odeint"
   ]
  },
  {
   "cell_type": "code",
   "execution_count": 60,
   "metadata": {},
   "outputs": [],
   "source": [
    "def rhs(y, t, kp, km):\n",
    "    Mb, O2, MbO2 = y\n",
    "    \n",
    "    dMb_dt = -kp*Mb*O2 + km*MbO2\n",
    "    dO2_dt = -kp*Mb*O2 + km*MbO2\n",
    "    dMbO2_dt = +kp*Mb*O2 - km*MbO2\n",
    "\n",
    "    return (dMb_dt, dO2_dt, dMbO2_dt)"
   ]
  },
  {
   "cell_type": "markdown",
   "metadata": {},
   "source": [
    "# **Exercise 1c)**\n",
    "\n",
    "Now we need to use `odeint` to solve the system we just made. We make up some parameters: $k_+ = 1.1$ and $k_- = 0.7$. Finally we will plot the solution.\n"
   ]
  },
  {
   "cell_type": "code",
   "execution_count": 86,
   "metadata": {},
   "outputs": [],
   "source": [
    "# Define time points to solve for\n",
    "dt = 0.001\n",
    "T = 1\n",
    "time = np.arange(0, T, dt)\n",
    "\n",
    "# Set initial conditions as a vector\n",
    "Mb_0 = 1.0\n",
    "O2_0 = 5.0\n",
    "MbO2_0 = 0.0\n",
    "y0 = (Mb_0, O2_0, MbO2_0)\n",
    "\n",
    "# Define my parameters as a vector\n",
    "kp = 2.2\n",
    "km = 0.7\n",
    "params = (kp, km)\n",
    "\n",
    "# Solve the ODE system\n",
    "solutions = odeint(rhs, y0, time, params)\n",
    "\n",
    "# Split up the solution matrix\n",
    "Mb, O2, MbO2 = np.hsplit(solutions, 3)"
   ]
  },
  {
   "cell_type": "markdown",
   "metadata": {},
   "source": [
    "Now we are ready to plot our solutions"
   ]
  },
  {
   "cell_type": "code",
   "execution_count": 87,
   "metadata": {},
   "outputs": [
    {
     "data": {
      "image/png": "[encoded data removed]",
      "text/plain": [
       "<Figure size 432x288 with 1 Axes>"
      ]
     },
     "metadata": {},
     "output_type": "display_data"
    }
   ],
   "source": [
    "plt.plot(time, Mb)\n",
    "plt.plot(time, O2)\n",
    "plt.plot(time, MbO2)\n",
    "\n",
    "plt.xlabel('Time')\n",
    "plt.ylabel('Concentration')\n",
    "plt.legend(['Mb', 'O2', 'MbO2'])\n",
    "\n",
    "plt.show()"
   ]
  },
  {
   "cell_type": "markdown",
   "metadata": {},
   "source": [
    "**Exercise 1d)**\n",
    "\n",
    "We now want to compute the equilibrium by hand and verify that it matches our numerical solution. We see the equilibrium value in our plot, but to get it as accurately as possible, we can print out the final values of our arrays using `Mb[-1]`, `O2[-1]` and `MbO2[-1]`, here `[-1]` means the final value of an array."
   ]
  },
  {
   "cell_type": "code",
   "execution_count": 88,
   "metadata": {},
   "outputs": [
    {
     "name": "stdout",
     "output_type": "stream",
     "text": [
      "From numerical solution:\n",
      "[Mb] at equilibrium:   [0.07251025]\n",
      "[O2] at equilibrium:   [4.07251025]\n",
      "[MbO2] at equilibrium: [0.92748975]\n"
     ]
    }
   ],
   "source": [
    "print(\"From numerical solution:\")\n",
    "print(\"[Mb] at equilibrium:  \", Mb[-1])\n",
    "print(\"[O2] at equilibrium:  \", O2[-1])\n",
    "print(\"[MbO2] at equilibrium:\", MbO2[-1])"
   ]
  },
  {
   "cell_type": "markdown",
   "metadata": {},
   "source": [
    "So we see that at equilibrium, 92% of the myoglobin has oxygen bound to it."
   ]
  },
  {
   "cell_type": "markdown",
   "metadata": {},
   "source": [
    "To find the equilibrium by hand we use the our original ODE-system and set the time derivative to zero:\n",
    "$$\\frac{{\\rm d}[\\mathrm{MbO}_2]}{{\\rm d}t} = k_+[\\mathrm{Mb}][\\mathrm{O_2}] - k_-[\\mathrm{MbO}_2] = 0.$$\n",
    "Which gives\n",
    "$$k_+[\\mathrm{Mb}][\\mathrm{O_2}] = k_-[\\mathrm{MbO}_2],$$\n",
    "or\n",
    "$$\\frac{[\\mathrm{Mb}][\\mathrm{O_2}]}{[\\mathrm{MbO}_2]} = \\frac{k_-}{k_+} = K_{\\rm d}.$$\n",
    "In our case, we have\n",
    "$$K_{\\rm d} = \\frac{0.7}{2.2} = 0.318.$$\n"
   ]
  },
  {
   "cell_type": "code",
   "execution_count": 89,
   "metadata": {},
   "outputs": [
    {
     "name": "stdout",
     "output_type": "stream",
     "text": [
      "[0.3183849]\n"
     ]
    }
   ],
   "source": [
    "print((Mb[-1]*O2[-1])/MbO2[-1])"
   ]
  },
  {
   "cell_type": "markdown",
   "metadata": {},
   "source": [
    "So we see that our predictions agrees with our numerical solution."
   ]
  },
  {
   "cell_type": "markdown",
   "metadata": {},
   "source": [
    "Finally: What happens if we double $k_+$, keeping $k_-$ the same?\n",
    "$$K_{\\rm d} = \\frac{0.7}{4.4} = 0.159.$$\n",
    "Because $K_{\\rm d} = k_-/k_+$, we see that doubling $k_+$ means $K_{\\rm d}$ becomes half, this means we expect the equilibrium to be pushed towards more oxygen becoming bound. You can recompute your solution with changed parameters to see that this is the case.\n",
    "\n",
    "If you recompute with the doubled $k_+$ you see that we go from having 92% oxygen-bound to 96% - a very tiny change. This is because the equilibrium is already pushed so much towards one side, that adding even more $k_+$ does little. If you chose different parameters, the doubling of $k_+$ might have a more dramatic shift."
   ]
  },
  {
   "cell_type": "markdown",
   "metadata": {},
   "source": [
    "#### Exercise 2: Modeling Michaelis-Menten Kinetics\n",
    "\n",
    "Let us model the Michaelis-Menten reaction and analyse the behavior\n",
    "$${\\rm S} + {\\rm E} \\underset{k_{-1}}{\\overset{k_1}{\\rightleftharpoons}} {\\rm ES} \\overset{k_2}{\\rightarrow} {\\rm E} + {\\rm P}.$$"
   ]
  },
  {
   "cell_type": "markdown",
   "metadata": {},
   "source": [
    "**Exercise 2a)**\n",
    "\n",
    "Using the law of mass action, we write out the system of ODEs that describe the four concentrations $[{\\rm S}]$, $[{\\rm E}]$, $[{\\rm ES}]$, $[{\\rm P}]$. These become:\n",
    "\n",
    "$$\\frac{{\\rm d[S]}}{{\\rm d}t} = -k_1{\\rm [S][E]} + k_{-1}{\\rm [ES]}.,$$\n",
    "\n",
    "$$\\frac{{\\rm d[E]}}{{\\rm d}t} = -k_1{\\rm [S][E]} + k_{-1}{\\rm [ES]} + k_{2}{\\rm [ES]} = -k_1{\\rm [S][E]} + (k_{-1} + k_2){\\rm [ES]},$$\n",
    "\n",
    "$$\\frac{{\\rm d[ES]}}{{\\rm d}t} = k_1{\\rm [S][E]} - k_{-1}{\\rm [ES]} - k_{2}{\\rm [ES]} = k_1{\\rm [S][E]} - (k_{-1} + k_2){\\rm [ES]},$$\n",
    "\n",
    "$$\\frac{{\\rm d[P]}}{{\\rm d}t} = k_2{\\rm [ES]}.$$\n",
    "\n",
    "Note that when we derived the speed of the reaction we didn't need all of these, but if we want to solve the ODE-system for all states, we need to specify all 4."
   ]
  },
  {
   "cell_type": "markdown",
   "metadata": {},
   "source": [
    "#### Exercise 2b)\n",
    "\n",
    "We now implement the RHS of the system as a function. The input `y` is a vector of all four states, and the returned value must be a vector of the derivatives of the four states in the same order as the input"
   ]
  },
  {
   "cell_type": "code",
   "execution_count": 45,
   "metadata": {},
   "outputs": [],
   "source": [
    "def rhs(y, t, k1m, k1p, k2):\n",
    "    S, E, ES, P = y\n",
    "    \n",
    "    dS_dt = -k1p*S*E + k1m*ES\n",
    "    dE_dt = -k1p*S*E + (k1m + k2)*ES\n",
    "    dES_dt = +k1p*S*E - (k1m + k2)*ES\n",
    "    dP_dt = k2*ES\n",
    "    \n",
    "    return (dS_dt, dE_dt, dES_dt, dP_dt)"
   ]
  },
  {
   "cell_type": "markdown",
   "metadata": {},
   "source": [
    "**Exercise 2c)**\n",
    "\n",
    "Solve the system with the rates $k_{-1} = 1$, $k_1 = 2$, $k_2 = 3$. Let $[{\\rm S}]_0 = 1$ and $[{\\rm E}]_0 = 0.1$. Solve the system for $t\\in[0, 30]$."
   ]
  },
  {
   "cell_type": "code",
   "execution_count": 49,
   "metadata": {},
   "outputs": [],
   "source": [
    "# Specify parameters\n",
    "k1m = 1\n",
    "k1p = 2\n",
    "k2 = 3\n",
    "param = (k1m, k1p, k2)\n",
    "\n",
    "# Initial conditions\n",
    "S0 = 1\n",
    "E0 = 0.1\n",
    "ES0 = 0.0\n",
    "P0 = 0.0\n",
    "y0 = (S0, E0, ES0, P0)\n",
    "\n",
    "# Time array\n",
    "dt = 0.001\n",
    "T = 30\n",
    "time = np.arange(0, T, dt)\n",
    "\n",
    "# Solve ODE-system\n",
    "solutions = odeint(rhs, y0, time, param)\n",
    "\n",
    "# Split solution-matrix into 4 vectors\n",
    "S, E, ES, P = np.hsplit(solutions, 4)"
   ]
  },
  {
   "cell_type": "markdown",
   "metadata": {},
   "source": [
    "**Exercise 2d)**\n",
    "\n",
    "Make two plots, in the first include the curves for the substrate and product, in the second plot the curves of bound and free enzyme."
   ]
  },
  {
   "cell_type": "code",
   "execution_count": 50,
   "metadata": {},
   "outputs": [
    {
     "data": {
      "image/png": "[encoded data removed]",
      "text/plain": [
       "<Figure size 432x288 with 1 Axes>"
      ]
     },
     "metadata": {},
     "output_type": "display_data"
    }
   ],
   "source": [
    "plt.plot(time, S)\n",
    "plt.plot(time, P)\n",
    "plt.xlabel('Time')\n",
    "plt.ylabel('Concentration')\n",
    "plt.legend([\"Substrate\", \"Product\"])\n",
    "plt.show()"
   ]
  },
  {
   "cell_type": "code",
   "execution_count": 51,
   "metadata": {},
   "outputs": [
    {
     "data": {
      "image/png": "[encoded data removed]",
      "text/plain": [
       "<Figure size 432x288 with 1 Axes>"
      ]
     },
     "metadata": {},
     "output_type": "display_data"
    }
   ],
   "source": [
    "plt.plot(time, E)\n",
    "plt.plot(time, ES)\n",
    "plt.xlabel('Time')\n",
    "plt.ylabel('Concentration')\n",
    "plt.legend([\"Free Enzyme\", \"Bound Enzyme\"])\n",
    "plt.show()"
   ]
  },
  {
   "cell_type": "markdown",
   "metadata": {},
   "source": [
    "**Exercise 2e)**\n",
    "\n",
    "As a verifictation, let us make sure our solution is mass conserving. We know that the total amount of enzyme $[\\rm E] + [\\rm ES]$ and the total amount of substrate and product $\\rm [S] + [P] + [ES]$ must both be constant. Plot these curves and ensure that they are constant. (Note that there was an error in the exercise text:  $\\rm [S] + [P]$ isn't necessarily constant, because some substrate is bound in the ES complex.)"
   ]
  },
  {
   "cell_type": "code",
   "execution_count": 52,
   "metadata": {},
   "outputs": [
    {
     "data": {
      "image/png": "[encoded data removed]",
      "text/plain": [
       "<Figure size 432x288 with 1 Axes>"
      ]
     },
     "metadata": {},
     "output_type": "display_data"
    }
   ],
   "source": [
    "plt.plot(time, S + ES + P)\n",
    "plt.plot(time, E + ES)\n",
    "plt.xlabel('Time')\n",
    "plt.ylabel('Concentration')\n",
    "plt.axis((0, T, 0, 2))\n",
    "plt.legend((\"S+ES+P\", \"E+ES\"))\n",
    "plt.show()"
   ]
  },
  {
   "cell_type": "markdown",
   "metadata": {},
   "source": [
    "#### Exercise 2f)\n",
    "\n",
    "The Michaelis-Menten gives the reaction velocity of the enzyme activity as\n",
    "$$v = v_{\\rm max} \\frac{[S]}{K_{\\rm m} + [S]}, \\qquad v_{\\rm max} = k_2 [E]_{\\rm tot}, \\qquad K_{\\rm m} = \\frac{k_{-1} + k_2}{k_1}.$$\n",
    "\n",
    "Let us compare our numerical solution to this equation. To find the reaction velocity, we use the fact that \n",
    "$$v = [\\dot{\\rm P}] = k_2[{\\rm ES}].$$"
   ]
  },
  {
   "cell_type": "code",
   "execution_count": 54,
   "metadata": {},
   "outputs": [
    {
     "data": {
      "image/png": "[encoded data removed]",
      "text/plain": [
       "<Figure size 432x288 with 1 Axes>"
      ]
     },
     "metadata": {},
     "output_type": "display_data"
    }
   ],
   "source": [
    "vmax = k2*(E0 + ES0)\n",
    "Km = (k1m + k2)/k1p\n",
    "\n",
    "numerical_v = k2 * ES\n",
    "analytical_v = vmax*S/(Km + S)\n",
    "\n",
    "plt.plot(time, numerical_v)\n",
    "plt.plot(time, analytical_v)\n",
    "plt.xlabel('Time')\n",
    "plt.ylabel('Reaction Velocity')\n",
    "plt.legend((\"Numerical\", \"Analytical\"))\n",
    "plt.show()"
   ]
  },
  {
   "cell_type": "markdown",
   "metadata": {},
   "source": [
    "Finally we are asked to compare the two solutions and explain any differences we observe. We see that the two curves agree nicely, except for the first millisecond or two. This is because, to derive the Michaelis-Menten equation, we assumed everything to occur *quasistatically*, i.e., that the enzyme concentration $[\\rm E]$ was always at equilibrium. This assumption is not included in the modeling, and thus not included in the numerical solutuion. We see that our quasistatic assumption (or approximation) is quite good for most of the time course, it is only right at the start, when the substrate is added, that we need some time for the enzyme to start working."
   ]
  }
 ],
 "metadata": {
  "kernelspec": {
   "display_name": "Python 3",
   "language": "python",
   "name": "python3"
  },
  "language_info": {
   "codemirror_mode": {
    "name": "ipython",
    "version": 3
   },
   "file_extension": ".py",
   "mimetype": "text/x-python",
   "name": "python",
   "nbconvert_exporter": "python",
   "pygments_lexer": "ipython3",
   "version": "3.6.5"
  }
 },
 "nbformat": 4,
 "nbformat_minor": 2
}
