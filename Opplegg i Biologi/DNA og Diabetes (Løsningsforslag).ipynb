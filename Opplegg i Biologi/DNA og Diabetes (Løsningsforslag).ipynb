{
 "cells": [
  {
   "cell_type": "markdown",
   "metadata": {},
   "source": [
    "## DNA-Analyse\n",
    "\n",
    "I dette dokumentet skal vi se litt nærmere på DNA, og hvordan vi kan bruke programmering som et verktøy til å analysere og jobbe med DNA-sekvenser. Vi kommer bare til å jobbe med mindre sekvenser som eksempler, men dette er gode eksempler på et viktig emne innenfor bioinformatikk, hvor man gjør analyser av hele det mennesklige *genomet*.\n",
    "\n",
    "Notebooken er delt i to hovedbiter. I den første biten går vi igjennom og repeterer korte biter av hvordan DNA fungerer og er bygget opp. I tilegg skriver vi korte kodesnutter som utfører små analyseoppgaver av DNA-sekvenser.\n",
    "\n",
    "I andre halvdel av denne notebooken går vi igjennom et bestemt case, som er basert på en forskningsartikkel fra 2008. I dettecases skal vi bruke et par av verktøyene vi har laget for å se på mutasjoner i genet for proteinet *insulin*, som kan føre til diabetes."
   ]
  },
  {
   "cell_type": "markdown",
   "metadata": {},
   "source": [
    "## Intro: Kort repetisjon om DNA\n",
    "\n",
    "Deoksyribonukleinsyre (DNA) er et makromolekyl som utgjør arvematerialet til levende organismer. Molekylet er bygget opp som en lang dobbelttrådet spiralstruktur, som vist i bildet under. Mellom de to trådene ligger det *nukleotider*, DNA-ets byggestener. Disse nukleotidene ligger i jevn avstand mellom de to trådene, som trinnene i en stige. Hver nukleotid er bygget opp av ulike baser koblet til en sukker og en fosfatgruppe. Det er fire ulike baser som kan inngå i et nukleotid:\n",
    "* Adenin (A)\n",
    "* Tyamin (T)\n",
    "* Guanin (G)\n",
    "* Cytosin (C)\n",
    "basepar i jevn avstand, som trinnene i en stige. Det er disse baseparene som er selve informasjonen lagret i DNA-molekylet.\n",
    "\n",
    "Disse forekommer alltid i komplementære par av A-T og G-C. Om det for eksempel er en adenin base langs den ene tråden, så vil det være en parvis tyamin på nabotråden. De to trådene i DNA inneholder altså eksakte kopier av den samme informasjonen. Dette er viktig for DNA-maskineret som vedlikeholder og kopierer DNA.\n",
    "\n",
    "<img src=\"https://upload.wikimedia.org/wikipedia/commons/4/4c/DNA_Structure%2BKey%2BLabelled.pn_NoBB.png\" width=500>\n",
    "\n",
    "Som nevnt er informasjonen i DNA lagret i rekkefølgen av nukleotider, eller baser, og man kan derfor se på DNA som en *sekvens* av bokstavene A/T/G/C. Man trenger kun å spesifisere basene langs en av DNA-ets tråder, ettersom at de to er kopier av hverandre. Et eksempel på en DNA-sekvens vil derfor være som føler"
   ]
  },
  {
   "cell_type": "code",
   "execution_count": 1,
   "metadata": {},
   "outputs": [],
   "source": [
    "sekvens = \"ACTGATTGACCGCGAGTAG\""
   ]
  },
  {
   "cell_type": "markdown",
   "metadata": {},
   "source": [
    "Denne informasjonen har vi skrevet inn som en *tekststreng* i Python. Når vi gjør det kan vi bruke programmering til å manipulere sekvensen. Dette skal vi se på snart."
   ]
  },
  {
   "cell_type": "markdown",
   "metadata": {},
   "source": [
    "### Det mennesklige genomet\n",
    "\n",
    "Mennesker har stort sett det samme arvematerialer, med kun små forskjeller. Studier viser at omtrent 0.1% av det totale DNA-et skiller seg fra person til person. Stort sett deler vi altså det samme arvematerialet, og som helhet kaller vi dette for det *mennesklige genomet*.\n",
    "\n",
    "Menneskets arvemateriale er fordelt over 23 ulike kromosomer. Vi er også diploide, som betyr at vi i hver celle har to versjoner av hvert kromosom, som godt kan være litt forskjellige.\n",
    "\n",
    "<img src=\"https://upload.wikimedia.org/wikipedia/commons/8/8e/Human_male_karyotpe_high_resolution_-_Chromosome_1.png\" width=600>\n",
    "<center> Menneskets 23 kromosompar sett igjennom et mikroskop.  \n",
    "    Kilde: <a href=\"https://en.wikipedia.org/wiki/Chromosome_1#/media/File:Human_male_karyotpe_high_resolution_-_Chromosome_1.png\">Wikimedia Commons</a> (Public Domain)<b></b></center>\n",
    "    \n",
    "Det mennesklige genomet består av litt i overkant av 3.2 milliarder basepar, så siden vi er diploide har vi hver celle altså omtrent 6.4 milliarder basepar.\n",
    "\n",
    "La oss gjøre en kjapp beregning av hvor mye informasjon som er lagret i det mennesklige genom. Ettersom at kromosonparene inneholder omtrent den samme informasjonen trenger vi bare å ta hensyns til 3.2 milliarder basepar. Men hvordan regner man på \"hvor mye informasjon\" noe inneholder? Sett på en annen måte er dette det samme som å spørre hvor mye lagringsplass man trenger for å lagre hele det mennesklige genomet på en datamaskin.\n",
    "\n",
    "På en datamaskin lagres all informasjon i totallsystemet, altså lagres all informasjon som en lang rekke med 0 og 1. Hvert siffer kalles 1 *bit*. Hvor mange bits trenger vi for å lagre en DNA-sekvens? For hver base er det fire muligheter: A, T, C og G. Hvor mange bits trenger vi for å entydig representere disse? Fra kombinatorikk vet vi at dette blir 2 bits, fordi $2^2 = 4$. For eksempel kan vi si at vi bruker følgende \"oversettelse\":\n",
    "* A - 00\n",
    "* T - 01\n",
    "* G - 10\n",
    "* C - 11\n",
    "\n",
    "Altså vil hvert basepar trenge 2 bits. Ettersom at det mennesklige genomet består av 3.2 milliarder basepar har vi da\n",
    "Vi trenger altså \n",
    "$$3.2\\cdot 10^9 {\\rm\\ basepar} \\cdot 2 \\frac{\\rm bits}{\\rm basepar} = 6.4\\cdot10^9 {\\rm\\ bits}.$$\n",
    "Men hvor mye er egentlig 6.4 milliarder bits? De fleste har nok et bedre forhold til *bytes*, og en byte er 8 bits. Så da får vi at dette svarer til\n",
    "$$\\frac{6.4\\cdot10^9 {\\rm\\ bits}}{8 \\frac{\\rm bits}{\\rm byte}} = 0.8 \\cdot 10^{9} {\\rm\\ bytes} = 0.8 {\\rm\\ gigabyte}.$$\n",
    "\n",
    "Altså er hele det mennesklige genomet omtrent 0.8 gigabyte. Dette er ganske mye, men samtidig overraskende lite, det mindre enn en liten stor app eller en film lagret i HD-kvalitet."
   ]
  },
  {
   "cell_type": "markdown",
   "metadata": {},
   "source": [
    "### DNA-Sekvensiering\n",
    "\n",
    "Om vi ønsker å utforske informasjonen som er lagret i arvemateriale må vi på en eller annen måte kunne lese ut sekvensen av basepar i DNA-et. Denne prosessen kalles *sekvensiering*. De første DNA-sekvensene ble funnet på 1970-tallet, men stor-skala DNA-sekvensiering er kun blitt nylig i moderne tid. I 1990 startet [Human Genome Project](https://en.wikipedia.org/wiki/Human_Genome_Project), et storskala vitenskapelig prosjekt for å kartlegge hele det mennesklige genomet. Prosjektet fullførte oppgaven sin i 2003.\n",
    "\n",
    "Vi skal ikke si så mye om hvordan sekvensiering er teknologisk mulig, det er et interessant tema, men det får vi ta en annen gang. For nå holder vi oss til å påpeke at rask sekvensiering av DNA er et teknologisk gjennombrudd som har ført til store nye datamengder og et nytt felt innen biologien: bioinformatikken. Dette feltet handler om å kombinere eksperimentelle metoder og teknologi for å hente inn store mengder informasjon, blant annet fra DNA, og å bruke verktøy fra matematikk og informatikk for å analysere og tolke denne informasjonen. \n",
    "\n",
    "<img src=\"https://upload.wikimedia.org/wikipedia/commons/5/5a/Chromatogram.jpg\" width=700>\n",
    "<center>Eksempel på eksperimentell sekvensiering av DNA. Kilde: <a href=\"https://en.wikipedia.org/wiki/Electropherogram#/media/File:Chromatogram.jpg\">Wikimedia Commons</a> (Public Domain).</center>\n",
    "\n"
   ]
  },
  {
   "cell_type": "markdown",
   "metadata": {},
   "source": [
    "<img src=\"https://upload.wikimedia.org/wikipedia/commons/8/88/DNA-Sequencers_from_Flickr_57080968.jpg\" width=500>\n",
    "<center>Moderne sekvensieringsmaskiner kan sekvensiere utrolige mengder DNA på kort tid.<a href=\"https://en.wikipedia.org/wiki/DNA_sequencer#/media/File:DNA-Sequencers_from_Flickr_57080968.jpg\">Kilde: Wikimedia Commons</a> (<a href=\"https://creativecommons.org/licenses/by/2.0/\">CC BY 2.0</a>)</center>"
   ]
  },
  {
   "cell_type": "markdown",
   "metadata": {},
   "source": [
    "## Jobbe med DNA-sekvenser i Python\n",
    "\n",
    "Nå har vi kort snakket litt om DNA, men la oss snu over til å begynne å analysere og manipulere DNA-sekvenser ved hjelp av programmeringsspråket Python. Vi starter med å jobbe med helt oppdiktete sekvenser, men vi skal til slutt se på et case med ekte DNA-sekvenser knyttet til diabetes.\n",
    "\n",
    "Vi går igjennom et par ulike oppgaver. Om du ønsker å se oppgavene på en annen måte, eller å lære enda mer om bioinformatikk kan du finne flere oppgaver på [rosalind.info](http://rosalind.info/problems/list-view/).\n"
   ]
  },
  {
   "cell_type": "markdown",
   "metadata": {},
   "source": [
    "### Telle baser\n",
    "\n",
    "Den første oppgaven vi skal løse er å telle hvor mange ganger de fire ulike basene forekommer i en gitt DNA-streng. Om vi blir gitt en DNA-streng som en tekststreng i Python, så kan vi løkke over den ved hjelp av en for-løkke:"
   ]
  },
  {
   "cell_type": "code",
   "execution_count": 2,
   "metadata": {},
   "outputs": [
    {
     "name": "stdout",
     "output_type": "stream",
     "text": [
      "A\n",
      "C\n",
      "T\n",
      "G\n",
      "A\n",
      "T\n",
      "T\n",
      "G\n",
      "A\n",
      "A\n",
      "G\n"
     ]
    }
   ],
   "source": [
    "dna_sekvens = \"ACTGATTGAAG\"\n",
    "\n",
    "for base in dna_sekvens:\n",
    "    print(base)"
   ]
  },
  {
   "cell_type": "markdown",
   "metadata": {},
   "source": [
    "Inne i løkka kan vi nå gjøre mer spennende ting enn å bare skrive ut basen. Vi lager nå en funksjon som for en vilkårlig DNA sekvens løkker over den og teller de ulike basene:"
   ]
  },
  {
   "cell_type": "code",
   "execution_count": 3,
   "metadata": {},
   "outputs": [],
   "source": [
    "def tell_baser(DNA_sekvens):\n",
    "    \"\"\"Gitt en DNA sekvens, tell antallet av de 4 ulike basene.\"\"\"\n",
    "    A = 0\n",
    "    C = 0\n",
    "    G = 0\n",
    "    T = 0\n",
    "    \n",
    "    for base in DNA_sekvens:\n",
    "        if base =='A':\n",
    "            A += 1\n",
    "        elif base == 'C':\n",
    "            C +=1\n",
    "        elif base == 'G':\n",
    "            G += 1\n",
    "        elif base == 'T':\n",
    "            T += 1\n",
    "        else:\n",
    "            print(\"Ugyldig base funnet i DNA-sekvens\")\n",
    "    \n",
    "    N = len(DNA_sekvens)\n",
    "    \n",
    "    print(f\"Baser totalt:     {N}\")\n",
    "    print(f\"----------------------------\")\n",
    "    print(f\"Antall (A)denin:  {A:2} ({A/N:.1%})\")\n",
    "    print(f\"Antall (C)ytosin: {C:2} ({C/N:.1%})\")\n",
    "    print(f\"Antall (G)uanin:  {G:2} ({G/N:.1%})\")\n",
    "    print(f\"Antall (T)ymin:   {T:2} ({T/N:.1%})\")\n",
    "    print(f\"----------------------------\")"
   ]
  },
  {
   "cell_type": "code",
   "execution_count": 4,
   "metadata": {},
   "outputs": [
    {
     "name": "stdout",
     "output_type": "stream",
     "text": [
      "Baser totalt:     40\n",
      "----------------------------\n",
      "Antall (A)denin:  10 (25.0%)\n",
      "Antall (C)ytosin:  7 (17.5%)\n",
      "Antall (G)uanin:  12 (30.0%)\n",
      "Antall (T)ymin:   11 (27.5%)\n",
      "----------------------------\n"
     ]
    }
   ],
   "source": [
    "DNA_sekvens = \"GCGAGGTTTAATAATTGGCGTGCCTTGAAGGTTAAAGCCC\"\n",
    "tell_baser(DNA_sekvens)"
   ]
  },
  {
   "cell_type": "markdown",
   "metadata": {},
   "source": [
    "### Oppgave 1a) Telle baser\n",
    "\n",
    "* Kjør koden over\n",
    "* Diskuter koden med sidemannen og forklar hva de ulike bitene av koden gjør."
   ]
  },
  {
   "cell_type": "markdown",
   "metadata": {},
   "source": [
    "## Komplementere en DNA-sekvens\n",
    "\n",
    "DNA er dobbeltrådet, der informasjonen langs den ene tråden er en *komplementær* kopi av informasjonen langs den andre tråden. At det er en *komplementær* kopi betyr at vi ikke finner de eksakt samme basene, men de \"motsatte\" basene, det vil si at hver A langs en tråd har en T i den andre tråden, og vica versa. Det samme gjelder G og C.\n",
    "\n",
    "De to trådene i DNA kalles gjerne for kodestrand og malstrand, eller på engelsk: coding strand/template strand. Kodestranden er den som koder for faktiske gener. Når DNA skal kopieres over til mRNA for fraktes ut av cellekjernen er det derimot maltråden som brukes. Situasjonen oppsummeres av bildet under:\n",
    "\n",
    "<img src=\"https://cdn.kastatic.org/ka-perseus-images/1da89713b9aa8067742244d916749e72561bb3cc.png\" width=700>\n",
    "<center>Bildet er tatt fra <a href=\"https://www.khanacademy.org/science/biology/gene-expression-central-dogma/transcription-of-dna-into-rna/a/overview-of-transcription\">Khan Academy</a>.</center>\n",
    "\n",
    "### Oppgave 1b) Komplementere en DNA-sekvens\n",
    "\n",
    "Du skal nå lage en funksjon som gitt en DNA-sekvens, finner den komplementære sekvensen. Men andre ord, returner en ny streng der følgende endringer er gjort:\n",
    "* A $\\rightarrow$ T\n",
    "* T $\\rightarrow$ A\n",
    "* G $\\rightarrow$ C\n",
    "* C $\\rightarrow$ G\n",
    "\n",
    "For å få til dette, fyll inn koden under. For hver base må du bruke en if-test (som i eksempelet over) og legge til en ny bokstav i den komplementære strengen, her kan du bruke `+=` for eksempel."
   ]
  },
  {
   "cell_type": "code",
   "execution_count": 5,
   "metadata": {},
   "outputs": [],
   "source": [
    "def komplementer_DNA(sekvens):\n",
    "    \"\"\"Gitt en DNA sekvens, finn den komplementær sekvensen\"\"\"\n",
    "    komplement = \"\"\n",
    "    for base in sekvens:\n",
    "        ...\n",
    "        \n",
    "    return komplement"
   ]
  },
  {
   "cell_type": "code",
   "execution_count": 6,
   "metadata": {},
   "outputs": [],
   "source": [
    "def komplementer_DNA(sekvens):\n",
    "    \"\"\"Gitt en DNA sekvens, finn den komplementær sekvensen\"\"\"\n",
    "    komplement = \"\"\n",
    "    \n",
    "    for base in sekvens:\n",
    "        if base =='A':\n",
    "            komplement += \"T\"\n",
    "        elif base == 'C':\n",
    "            komplement += \"G\"\n",
    "        elif base == 'G':\n",
    "            komplement += \"C\"\n",
    "        elif base == 'T':\n",
    "            komplement += \"A\"\n",
    "        else:\n",
    "            print(\"Ugyldig base funnet i DNA-sekvens\")\n",
    "            \n",
    "    return komplement"
   ]
  },
  {
   "cell_type": "markdown",
   "metadata": {},
   "source": [
    "Test koden din på strengen under:"
   ]
  },
  {
   "cell_type": "code",
   "execution_count": 7,
   "metadata": {},
   "outputs": [
    {
     "name": "stdout",
     "output_type": "stream",
     "text": [
      "GTTTAATAATTGGCGTGCCTTGAAGGTTAAAGCCC\n",
      "CAAATTATTAACCGCACGGAACTTCCAATTTCGGG\n"
     ]
    }
   ],
   "source": [
    "kodetråd = \"GTTTAATAATTGGCGTGCCTTGAAGGTTAAAGCCC\"\n",
    "maltråd = komplementer_DNA(kodetråd)\n",
    "\n",
    "print(kodetråd)\n",
    "print(maltråd)"
   ]
  },
  {
   "cell_type": "markdown",
   "metadata": {},
   "source": [
    "# Fra DNA til protein: Transkripsjon og Translasjon\n",
    "\n",
    "Arvematerialer i DNA koder for ulike proteiner. Den delen av DNA som koder for ett git protein kalles et *gen*. Vi skal nå se nærmere på prosessen på hvordan vi går fra et gen, altså en DNA-sekvens, til et protein. Denne prosessen deles gjerne i to:\n",
    "1. Først kopieres den relevante biten av DNA-et over til en bit med mRNA som kan transportes ut av cellekjernen og til ribosomene. Dette kalles gjerne for *transkripsjon*.\n",
    "2. Deretter oversettes mRNA-sekvensen til et polypeptid ved at RNA-sekvensen oversettes til aminosyrer som settes sammen som perler på en snor. Dette kalles gjerne for *translasjon*.\n",
    "\n",
    "\n",
    "<img src=\"https://cdn.kastatic.org/ka-perseus-images/20ce29384b2e7ff0cdea72acaa5b1dbd7287ab00.png\" width=700>\n",
    "<center>Bildet er tatt fra <a href=\"https://www.khanacademy.org/science/biology/gene-expression-central-dogma/transcription-of-dna-into-rna/a/overview-of-transcription\">Khan Academy</a></center>\n",
    "\n",
    "Vi skal nå skrive kode som utfører disse to stegene."
   ]
  },
  {
   "cell_type": "markdown",
   "metadata": {},
   "source": [
    "### Transkripsjon\n",
    "\n",
    "Første steg handler om å lage en mRNA-kopi av en gitt DNA-sekvens. mRNA ligner veldig på DNA, men er enkeltrådet, istedenfor dobbeltrådet. I tilegg har den også basen uracil, istedenfor tyamin.\n",
    "\n",
    "Det er enzymet RNA polymerase som har som oppgave å kopiere over informasjon i DNA til RNA. Den vil gjøre dette fra DNAets maltråd, derav \"mal\". "
   ]
  },
  {
   "cell_type": "markdown",
   "metadata": {},
   "source": [
    "### Oppgave 1c) Transkripsjon\n",
    "\n",
    "Lag en funksjon som finner mRNA-sekvensen til et gen, gitt DNA-sekvensen langs maltråden. Hint: Denne funksjonen vil ligne ganske mye på svaret fra (1b)."
   ]
  },
  {
   "cell_type": "code",
   "execution_count": 8,
   "metadata": {},
   "outputs": [],
   "source": [
    "def transkripsjon(DNA_sekvens):\n",
    "    \"\"\"Gitt en DNA sekvens fra en malstrand, finn mRNA-sekvens gjennom transkripsjon\"\"\"\n",
    "    mRNA = \"\"\n",
    "    for base in DNA_sekvens:\n",
    "        ...\n",
    "    return mRNA"
   ]
  },
  {
   "cell_type": "code",
   "execution_count": 9,
   "metadata": {},
   "outputs": [],
   "source": [
    "def transkripsjon(DNA_sekvens):\n",
    "    \"\"\"Gitt en DNA sekvens fra en malstrand, finn mRNA-sekvens gjennom transkripsjon\"\"\"\n",
    "    mRNA = \"\"\n",
    "    for base in DNA_sekvens:\n",
    "        if base =='A':\n",
    "            mRNA += \"U\"\n",
    "        elif base == 'C':\n",
    "            mRNA += \"G\"\n",
    "        elif base == 'G':\n",
    "            mRNA += \"C\"\n",
    "        elif base == 'T':\n",
    "            mRNA += \"A\"\n",
    "        else:\n",
    "            print(\"Ugyldig base funnet i DNA-sekvens\")\n",
    "            \n",
    "    return mRNA"
   ]
  },
  {
   "cell_type": "markdown",
   "metadata": {},
   "source": [
    "Når man har sekvensiert DNA er det vanlig å oppgi en DNA-sekvens slik den ser ut langs kodestranden. Forklar hvilke steg du må gjøre om du skal oversette en slik sekvens til mRNA med funksjonene du har skrevet så langt."
   ]
  },
  {
   "cell_type": "markdown",
   "metadata": {},
   "source": [
    "### Translasjon\n",
    "\n",
    "Translasjon av mRNA til et polypeptid skjer i ribosomene. Her vil tre og tre basepar i mRNA-et utgjøre et *kodon*, som skoder for en gitt aminosyre. Ett tRNA-molekyl vil gjenkjenne dette kodonet og gjøre jobben med å koble riktig aminosyre på polypeptidet.\n",
    "\n",
    "Ettersom at det er 4 ulike baser, og 3 baser utgjør et koden, finnes det $4^3 = 64,$ ulike kodon. Derimot består proteiner som menneskroppen lager kun av 20 ulike aminosyrer. Det er altså ulike kombinasjoner av basepar som koder for samme aminosyre. Ettersom at det bare er 20 aminosyrer er det standardisert å beskrive hver aminosyre med en gitt bokstav.\n",
    "\n",
    "Vi ønsker nå å oversette mRNA-sekvensen vår til en sekvens av aminosyrer. Da må vi først finne en kodon-tabell, som viser oss hva de ulike kodonene svarer til. Det kan du for eksempel slå opp på wikipedia:\n",
    "* https://en.wikipedia.org/wiki/Genetic_code#RNA_codon_table\n",
    "\n",
    "Alternativt har Rosalind.info en som er lettere å kopiere her:\n",
    "* http://rosalind.info/glossary/rna-codon-table/\n",
    "\n",
    "Vi har tatt jobben med å kopiere over hele kodontabellen til Pythonkode her:"
   ]
  },
  {
   "cell_type": "code",
   "execution_count": 10,
   "metadata": {},
   "outputs": [],
   "source": [
    "kodontabell = {\n",
    "    \"UUU\":\"F\", \"UUC\":\"F\", \"UUA\":\"L\", \"UUG\":\"L\",\n",
    "    \"UCU\":\"S\", \"UCC\":\"S\", \"UCA\":\"S\", \"UCG\":\"S\",\n",
    "    \"UAU\":\"Y\", \"UAC\":\"Y\", \"UAA\":\"Stop\", \"UAG\":\"Stop\",\n",
    "    \"UGU\":\"C\", \"UGC\":\"C\", \"UGA\":\"Stop\", \"UGG\":\"W\",\n",
    "    \"CUU\":\"L\", \"CUC\":\"L\", \"CUA\":\"L\", \"CUG\":\"L\",\n",
    "    \"CCU\":\"P\", \"CCC\":\"P\", \"CCA\":\"P\", \"CCG\":\"P\",\n",
    "    \"CAU\":\"H\", \"CAC\":\"H\", \"CAA\":\"Q\", \"CAG\":\"Q\",\n",
    "    \"CGU\":\"R\", \"CGC\":\"R\", \"CGA\":\"R\", \"CGG\":\"R\",\n",
    "    \"AUU\":\"I\", \"AUC\":\"I\", \"AUA\":\"I\", \"AUG\":\"M\",\n",
    "    \"ACU\":\"T\", \"ACC\":\"T\", \"ACA\":\"T\", \"ACG\":\"T\",\n",
    "    \"AAU\":\"N\", \"AAC\":\"N\", \"AAA\":\"K\", \"AAG\":\"K\",\n",
    "    \"AGU\":\"S\", \"AGC\":\"S\", \"AGA\":\"R\", \"AGG\":\"R\",\n",
    "    \"GUU\":\"V\", \"GUC\":\"V\", \"GUA\":\"V\", \"GUG\":\"V\",\n",
    "    \"GCU\":\"A\", \"GCC\":\"A\", \"GCA\":\"A\", \"GCG\":\"A\",\n",
    "    \"GAU\":\"D\", \"GAC\":\"D\", \"GAA\":\"E\", \"GAG\":\"E\",\n",
    "    \"GGU\":\"G\", \"GGC\":\"G\", \"GGA\":\"G\", \"GGG\":\"G\",}"
   ]
  },
  {
   "cell_type": "markdown",
   "metadata": {},
   "source": [
    "Dette er et spesielt Python-objekt som kalles en *dictionary* (ordbok). Den fungerer ved at vi har par som hører sammen, slik at vi kan skrive for eksempel: `kodontabell['AAG']`, og da får vi ut aminosyren K."
   ]
  },
  {
   "cell_type": "markdown",
   "metadata": {},
   "source": [
    "### Oppgave 1d) Translasjon av mRNA\n",
    "\n",
    "Koden under løkker igjennom mRNA tråden og slår sammen hver tredje base til et koden. Fyll inn koden så vi bygger opp en sekvens av aminosyrer"
   ]
  },
  {
   "cell_type": "code",
   "execution_count": 11,
   "metadata": {},
   "outputs": [],
   "source": [
    "def translasjon(mRNA):\n",
    "    \"\"\"Oversett en mRNA sekvens til en sekvens av aminosyrer\"\"\"\n",
    "    polypeptid = \"\"\n",
    "    \n",
    "    for k in range(0, len(mRNA), 3):\n",
    "        kodon = mRNA[k:k+3]\n",
    "        polypeptid += ...\n",
    "        \n",
    "    return polypeptid"
   ]
  },
  {
   "cell_type": "code",
   "execution_count": 12,
   "metadata": {},
   "outputs": [],
   "source": [
    "def translasjon(mRNA):\n",
    "    \"\"\"Oversett en mRNA sekvens til en sekvens av aminosyrer\"\"\"\n",
    "    polypeptid = \"\"\n",
    "    \n",
    "    for k in range(0, len(mRNA), 3):\n",
    "        kodon = mRNA[k:k+3]\n",
    "        polypeptid += kodontabell[kodon]\n",
    "        \n",
    "    return polypeptid"
   ]
  },
  {
   "cell_type": "markdown",
   "metadata": {},
   "source": [
    "### Oppgave 1e)\n",
    "\n",
    "* Forklar hvordan vi nå kan utføre hele prosessen fra en DNA-sekvens oppgitt fra kodestranden, til et polypeptid av aminosyrer\n",
    "* Test med DNA-sekvensen `ATCGGTACGGCATTG`. Dette skal bli polypeptidet: `IGTAL`."
   ]
  },
  {
   "cell_type": "code",
   "execution_count": 13,
   "metadata": {},
   "outputs": [
    {
     "name": "stdout",
     "output_type": "stream",
     "text": [
      "IGTAL\n"
     ]
    }
   ],
   "source": [
    "kodetråd = \"ATCGGTACGGCATTG\"\n",
    "maltråd = komplementer_DNA(kodetråd)\n",
    "mRNA = transkripsjon(maltråd)\n",
    "polypeptid = translasjon(mRNA)\n",
    "print(polypeptid)"
   ]
  },
  {
   "cell_type": "markdown",
   "metadata": {},
   "source": [
    "## Sammenligne sekvenser og identifisere Mutasjoner\n",
    "\n",
    "Så langt har vi sett kort på hvordan vi går fra en DNA-sekvens til et polypetid. La oss nå se hvordan vi kan sammenligne ulike DNA-sekvenser for å finne forskjeller. Slike forskjeller kommer fra mutasjoner, som er punktendringer i DNA-sekvensen."
   ]
  },
  {
   "cell_type": "markdown",
   "metadata": {},
   "source": [
    "### Finne antall forskjeller\n",
    "\n",
    "Det først vi ser på er å sammenligne to sekvenser og finne *antall* forskjeller eller mutasjoner. På fagspråket kalles dette for *Hamming-avstanden* mellom to sekvenser. Hamming avstanden er rett og slett antall karakterer som er forskjellig mellom to strenger."
   ]
  },
  {
   "cell_type": "markdown",
   "metadata": {},
   "source": [
    "### Oppgave 1f) Hamming-avstanden\n",
    "\n",
    "Gitt to sekvenser, `t` og `s`. Lag en funksjon som returnerer antall karakterer som er ulike. Dette kan altså enten være antall baser som er forskjellig, eller antall aminosyrer. For å løkke over to baser samtidig kan vi bruke funksjonen `zip`:"
   ]
  },
  {
   "cell_type": "code",
   "execution_count": 14,
   "metadata": {},
   "outputs": [],
   "source": [
    "def hamming(t, s):\n",
    "    \"\"\"Finn antall ulikheter mellom to sekvenser\"\"\"\n",
    "    ...\n",
    "    \n",
    "    for base1, base2 in zip(t, s):\n",
    "        if base1 != base2:\n",
    "            ...\n",
    "        \n",
    "    return ..."
   ]
  },
  {
   "cell_type": "code",
   "execution_count": 15,
   "metadata": {},
   "outputs": [],
   "source": [
    "def hamming(t, s):\n",
    "    \"\"\"Finn antall ulikheter mellom to sekvenser\"\"\"\n",
    "    antall_ulikheter = 0\n",
    "    \n",
    "    for base1, base2 in zip(t, s):\n",
    "        if base1 != base2:\n",
    "            antall_ulikheter += 1\n",
    "        \n",
    "    return antall_ulikheter"
   ]
  },
  {
   "cell_type": "markdown",
   "metadata": {},
   "source": [
    "Sjekk funksjonen din ved å sammenligne sekvensene: `ATCGC` og `ACTGC` for hånd og med kode:"
   ]
  },
  {
   "cell_type": "code",
   "execution_count": 16,
   "metadata": {},
   "outputs": [
    {
     "name": "stdout",
     "output_type": "stream",
     "text": [
      "De to strengene har 2 ulikheter\n"
     ]
    }
   ],
   "source": [
    "antall_ulikheter = hamming('ATCGC', 'ACTGC')\n",
    "print(f\"De to strengene har {antall_ulikheter} ulikheter\")"
   ]
  },
  {
   "cell_type": "markdown",
   "metadata": {},
   "source": [
    "### Oppgave 1g) Identifisere mutasjoner\n",
    "\n",
    "Om vi sammenligner to sekvenser og finner ut av de er ulike, så kan det ofte være vanskelig å finne nøyaktig *hvor* der ulike. La oss derfor også skrive en funksjon som gjør dette lettere. \n",
    "\n",
    "Det finnes mange måter vi kan gjøre dette på, men la oss gå for en enkel løsning. La oss lage en ny streng om innholdet i de to input-strengene er lik, så legger vi inn en `-`. Om innholder er forskjellig legger vi inn en `+`. Vi kan da skrive ut denne nye strengen under de to andre, så kan vi enklet se hvor i strengen de er ulike.\n",
    "\n",
    "For eksempel kan vi gjøre som følger:\n",
    "```\n",
    "t = \"ACGTGCACATGAGATCTGATTAGACAGGAGACCAGATATACAGATATATGATACAGATACGATA\"\n",
    "s = \"ACGTGCACATGAGATCTGATTAGACAGCAGACCAGATATACAGATATATGATACAGATACGATA\"\n",
    "\n",
    "print(t)\n",
    "print(s)\n",
    "print(finn_forskjeller(t, s))\n",
    "```\n",
    "og få ut:\n",
    "```\n",
    "ACGTGCACATGAGATCTGATTAGACAGGAGACCAGATATACAGATATATGATACAGATACGATA\n",
    "ACGTGCACATGAGATCTGATTAGACAGCAGACCAGATATACAGATATATGATACAGATACGATA\n",
    "---------------------------+------------------------------------\n",
    "```"
   ]
  },
  {
   "cell_type": "markdown",
   "metadata": {},
   "source": [
    "Fyll inn koden under så funksjonen virker som dette. Test at koden fungerer som den skal"
   ]
  },
  {
   "cell_type": "code",
   "execution_count": 17,
   "metadata": {},
   "outputs": [],
   "source": [
    "def finn_forskjeller(s, t):\n",
    "    \"\"\"Gitt to strenger, s og t, finn forskjellene mellom dem.\"\"\"\n",
    "    ..."
   ]
  },
  {
   "cell_type": "code",
   "execution_count": 18,
   "metadata": {},
   "outputs": [],
   "source": [
    "def finn_forskjeller(s, t):\n",
    "    \"\"\"Gitt to strenger, s og t, finn forskjellene mellom dem.\"\"\"\n",
    "    markør = \"\"\n",
    "    for base1, base2 in zip(s, t):\n",
    "        if base1 == base2:\n",
    "            markør += \"-\"\n",
    "        else:\n",
    "            markør += \"+\"\n",
    "    return markør"
   ]
  },
  {
   "cell_type": "code",
   "execution_count": 19,
   "metadata": {},
   "outputs": [
    {
     "name": "stdout",
     "output_type": "stream",
     "text": [
      "ACGTGCACATGAGATCTGATTAGACAGGAGACCAGATATACAGATATATGATACAGATACGATA\n",
      "ACGTGCACATGAGATCTGATTAGACAGCAGACCAGATATACAGATATATGATACAGATACGATA\n",
      "---------------------------+------------------------------------\n"
     ]
    }
   ],
   "source": [
    "t = \"ACGTGCACATGAGATCTGATTAGACAGGAGACCAGATATACAGATATATGATACAGATACGATA\"\n",
    "s = \"ACGTGCACATGAGATCTGATTAGACAGCAGACCAGATATACAGATATATGATACAGATACGATA\"\n",
    "\n",
    "print(t)\n",
    "print(s)\n",
    "print(finn_forskjeller(t, s))"
   ]
  },
  {
   "cell_type": "markdown",
   "metadata": {},
   "source": [
    "# 2) Case: Gener, Insulin og Diabetes\n",
    "\n",
    "Vi skal nå ta for oss et case som handler om gener, mutasjoner og diabetes. Her kan vi se hvordan noen av de verktøyene vi laget over kan hjelpe oss å forstå en genetisk studie som ble gjennomført i 2008.  Opplegget er inspirert av http://education.expasy.org/bioinformatique/Diabetes.html, hvor mer informasjon også kan finnes. \n",
    "\n",
    "Diabetes er sykdom som fører til abnormalt høye nivåer av blodsukker som et resultat av at kroppen ikke klarer å produsere, eller benytte seg av, insulin. Diabetes som sykdom kan være forersaket av mange ulike faktorer, og som oftest tenker man at diabetes er delvis genetisk, og delvis miljøpåvirket. Merk spesielt at diabetes er en *type* sykdom, og forskjellige mennesker kan ha veldige forskjellige former for diabetes.\n",
    "\n",
    "I denne caseoppgaven skal vi se på en sjeldnere form for diabetes som kalles *monogen diabetes*. Navnet *monogen* refererer til at dette formen for diabetes er forårsaket av punktmutasjoner til ett enkelt gen (mono=én/ett). I monogenisk diabetes deler man gjerne videre opp i to grupper, de som blir diagnostisert med diabetes som nyfødte (nyfødtdiabetes), og de som utvikler det senere i livet, gjerne iløpet av ungdomsårene (MODY diabetes).\n",
    "\n",
    "Monogen diabetes er som nevnt forårsaket på grunn av mutasjoner til ett enkelt gen, men for forskjellige mennesker kan det være mutasjoner til forskjellige gener. Ettersom at diabetes er en sykdom forårsaket av unormalt insulin, skulle man kanskje tro at genet for insulin var det vanligste genet i monogen diabetes, men slik er det ikke. Ifølge diabetesforbundet er det til nå 13 kjente ulike former for MODY, som kommer av mutasjoner til 5 ulike gener:\n",
    "* CSK-genet\n",
    "* HNF1A-genet\n",
    "* HNF1B-genet\n",
    "* HNF4A-genet\n",
    "* INS-genet\n",
    "\n",
    "Her er det sistnevnte genet, INS, genet for insulin. Derimot er monogen MODY diabetes ofte forårsaket av mutasjonen til de to første genene\n",
    "\n",
    "Vi skal nå se på en forskningsstudie fra 2008. På dette tidspunktet var det kjente tilfeller av nyfødtdiabetes grunnet mutasjoner i INS-genet, men ikke tilfeller av MODY. Forskningsgruppen som gjennomførte studien hadde en hypotese om at det også måtte finnes tilfeller av MODY som var grunnet INS-mutasjoner, og forsket derfor på dette.\n",
    "\n",
    "I studien gikk forskerne DNA for INS-genet fra en rekke pasienter med MODY for å finne mulige mutasjoner. Blant annet jobbe de seg igjennom en norsk database for diabetes blant barn. De klarte til slutt å finne to ulike former for slike mutasjoner. Vi skal nå se på ett av disse to tilfellene. \n",
    "\n",
    "Vi har lagt ved den originale forskningsartikkelen sammen med opplegget, men merk at dette er en fagartikkel, og er derfor ikke så veldig lett å lese eller forstå seg på. Vi legger den ved så man kan få et forhold til hvordan forskningsartikler ser ut."
   ]
  },
  {
   "cell_type": "markdown",
   "metadata": {},
   "source": [
    "### Familien"
   ]
  },
  {
   "attachments": {
    "diabetes.png": {
     "image/png": "[encoded data removed]"
    }
   },
   "cell_type": "markdown",
   "metadata": {},
   "source": [
    "I det ene tilfellet hvor de oppdaget en ny form for monogenisk diabetes har vi DNA-sekvensiering av INS-genet fra 8 ulike personer i samme slekt. De 8 personene og deres plass i slektstreet ser ut som følger:\n",
    "\n",
    "![diabetes.png](attachment:diabetes.png)\n",
    "\n",
    "Av de 8 personene har 4 blitt diagonstisert med diabetes. Person 5 og 6 har diabetes type 2, som de ble diagnostisert med ved henholdsvis ved 50 og 40 års alder. Person 1 og 3 ble derimot diagonstisert i ungdomsårene, ved hhv alder av 10 og 13 år. Vi skal nå se nærmere på DNA-et til disse menneskene og se hva vi kan finne."
   ]
  },
  {
   "cell_type": "markdown",
   "metadata": {},
   "source": [
    "### Villtypen\n",
    "\n",
    "Ettersom at mennesker deler 99.9% av DNA-et sitt har de aller fleste en identisk kopi av INS-genet. Denne \"vanlige\" allele forekomsten kalles gjerne for *villtypen* til INS-genet (\"wildtype\" på engelsk). Men noen har altså et INS-gen der det forekommer ulikheter fra villtypen.\n",
    "\n",
    "Vi kommer her ikke til å se på *hele* INS-genet, fordi det er ganske stort, men vi velger oss en liten bit av den, nemlig sekvensen:"
   ]
  },
  {
   "cell_type": "code",
   "execution_count": 20,
   "metadata": {},
   "outputs": [],
   "source": [
    "villtype = \"GTGTGCGGGGAACGAGGCTTCTTCTACACACCCAAGACCCGCCGGGAGGCAGAGGAC\""
   ]
  },
  {
   "cell_type": "markdown",
   "metadata": {},
   "source": [
    "### Oppgave 2a) Hvilket kromosom ligger INS-genet på?\n",
    "\n",
    "Før vi begynner å se på mutasjonene våres, kan vi jo finne ut litt mer om INS-genet, for eksempel hvilket kromosom det ligger på. For å gjøre dette kan vi søke etter villtype sekvensen i det mennesklige Genomet. Dette finnes det flere verktøy for å gjøre, for eksempel denne nettsiden:\n",
    "* http://genome.ucsc.edu/cgi-bin/hgBlat\n",
    "\n",
    "Gå inn på siden, lim inn INS-gen sekvensen vi har gitt og gjør et søk. Hvilket kromosom ligger INS-genet på?"
   ]
  },
  {
   "attachments": {
    "image.png": {
     "image/png": "[encoded data removed]"
    }
   },
   "cell_type": "markdown",
   "metadata": {},
   "source": [
    "Når vi limer inn villtypen i BLAT-søket finner vi følgende resultat:\n",
    "![image.png](attachment:image.png)"
   ]
  },
  {
   "cell_type": "markdown",
   "metadata": {},
   "source": [
    "Der står det at INS-genet ligger på Kromosom 11. Om du klikker på \"browser\" får man langt mer tilleggsinformasjon, det aller meste av denne infoen er totalt uleselig for oss lekfolk, men vi kan se at denne sekvensen altså faktisk er fra INS-genet, da BLAT-søket gjennkjenner dette (se kolonnen på venstre side).\n",
    "\n",
    "Poenget med oppgaven er bare å vise at det er fullt mulig å søke i hele genomet etter en match for en vilkårlig sekvens."
   ]
  },
  {
   "cell_type": "markdown",
   "metadata": {},
   "source": [
    "\n",
    "\n"
   ]
  },
  {
   "cell_type": "markdown",
   "metadata": {},
   "source": [
    "### DNA-sekvensene\n",
    "\n",
    "Mennesker er diploide, som betyr at vi har do kopier av hele arvematerialet. Enhver person vil altså bære to ulike kopier av INS-genet. For hver av de 8 personene har vi da to *alleler* av INS-genet. Under gir vi de totalt 16 variantene av den samme biten av INS-genet. Merk at INS-genet er større en den biten vi gir her, men du kan anta at alle de andre bitene av genet er likt som villtypen for alle 8. Vi har altså plukket ut den viktige biten av genet for denne studien."
   ]
  },
  {
   "cell_type": "code",
   "execution_count": 21,
   "metadata": {},
   "outputs": [],
   "source": [
    "person1_allel1 = \"GTGTGCGGGGAACGAGGCTTCTTCTACACACCCAAGACCTGCCGGGAGGCAGAGGAC\"\n",
    "person1_allel2 = \"GTGTGCGGGGAACGAGGCTTCTTCTACACACCCAAGACCCGCCGGGAGGCAGAGGAC\"\n",
    "\n",
    "person2_allel1 = \"GTGTGCGGGGAACGAGGCTTCTTCTACACACCCAAGACCCGCCGGGAGGCAGAGGAC\"\n",
    "person2_allel2 = \"GTGTGCGGGGAACGAGGCTTCTTCTACACACCCAAGACCCGCCGGGAGGCAGAGGAC\"\n",
    "\n",
    "person3_allel1 = \"GTGTGCGGGGAACGAGGCTTCTTCTACACACCCAAGACCTGCCGGGAGGCAGAGGAC\"\n",
    "person3_allel2 = \"GTGTGCGGGGAACGAGGCTTCTTCTACACACCCAAGACCCGCCGGGAGGCAGAGGAC\"\n",
    "\n",
    "person4_allel1 = \"GTGTGCGGGGAACGAGGCTTCTTCTACACACCCAAGACCCGCCGGGAGGCAGAGGAC\"\n",
    "person4_allel2 = \"GTGTGCGGGGAACGAGGCTTCTTCTACACACCCAAGACCCGCCGGGAGGCAGAGGAC\"\n",
    "\n",
    "person5_allel1 = \"GTGTGCGGGGAACGAGGCTTCTTCTACACACCCAAGACCCGCCGGGAGGCAGAGGAC\"\n",
    "person5_allel2 = \"GTGTGCGGGGAACGAGGCTTCTTCTACACACCCAAGACCCGCCGGGAGGCAGAGGAC\"\n",
    "\n",
    "person6_allel1 = \"GTGTGCGGGGAACGAGGCTTCTTCTACACACCCAAGACCCGCCGGGAGGCAGAGGAC\"\n",
    "person6_allel2 = \"GTGTGCGGGGAACGAGGCTTCTTCTACACACCCAAGACCCGCCGGGAGGCAGAGGAC\"\n",
    "\n",
    "person7_allel1 = \"GTGTGCGGAGAACGAGGCTTCTTCTACACACCCAAGACCCGCCGGGAGGCAGAGGAC\"\n",
    "person7_allel2 = \"GTGTGCGGAGAACGAGGCTTCTTCTACACACCCAAGACCCGCCGGGAGGCAGAGGAC\"\n",
    "\n",
    "person8_allel1 = \"GTGTGCGGGGAACGAGGCTTCTTCTACACACCCAAGACCCGCCGGGAGGCAGAGGAC\"\n",
    "person8_allel2 = \"GTGTGCGGGGAACGAGGCTTCTTCTACACACCCAAGACCCGCCGGGAGGCAGAGGAC\""
   ]
  },
  {
   "cell_type": "markdown",
   "metadata": {},
   "source": [
    "### Oppgave 2b) Finne punktmutasjoner\n",
    "\n",
    "Bruk funksjonen du skrev for å finne *Hamming*-avstanden mellom to sekvenser til å sjekke hvor langt unna villtypen de 16 allellene er. (Hint: Bruk Ctrl+C og Ctrl+V flitting så du slipper å skrive så utrolig mye.)"
   ]
  },
  {
   "cell_type": "code",
   "execution_count": 22,
   "metadata": {},
   "outputs": [
    {
     "name": "stdout",
     "output_type": "stream",
     "text": [
      "Antall mutasjoner:\n",
      "========================\n",
      "Person 1, allel 1: 1\n",
      "Person 1, allel 2: 0\n",
      "Person 2, allel 1: 0\n",
      "Person 2, allel 2: 0\n",
      "Person 3, allel 1: 1\n",
      "Person 3, allel 2: 0\n",
      "Person 4, allel 1: 0\n",
      "Person 4, allel 2: 0\n",
      "Person 5, allel 1: 0\n",
      "Person 5, allel 2: 0\n",
      "Person 6, allel 1: 0\n",
      "Person 6, allel 2: 0\n",
      "Person 7, allel 1: 1\n",
      "Person 7, allel 2: 1\n",
      "Person 8, allel 1: 0\n",
      "Person 8, allel 2: 0\n"
     ]
    }
   ],
   "source": [
    "print(\"Antall mutasjoner:\")\n",
    "print(\"========================\")\n",
    "print(f\"Person 1, allel 1: {hamming(villtype, person1_allel1)}\")\n",
    "print(f\"Person 1, allel 2: {hamming(villtype, person1_allel2)}\")\n",
    "print(f\"Person 2, allel 1: {hamming(villtype, person2_allel1)}\")\n",
    "print(f\"Person 2, allel 2: {hamming(villtype, person2_allel2)}\")\n",
    "print(f\"Person 3, allel 1: {hamming(villtype, person3_allel1)}\")\n",
    "print(f\"Person 3, allel 2: {hamming(villtype, person3_allel2)}\")\n",
    "print(f\"Person 4, allel 1: {hamming(villtype, person4_allel1)}\")\n",
    "print(f\"Person 4, allel 2: {hamming(villtype, person4_allel2)}\")\n",
    "print(f\"Person 5, allel 1: {hamming(villtype, person5_allel1)}\")\n",
    "print(f\"Person 5, allel 2: {hamming(villtype, person5_allel2)}\")\n",
    "print(f\"Person 6, allel 1: {hamming(villtype, person6_allel1)}\")\n",
    "print(f\"Person 6, allel 2: {hamming(villtype, person6_allel2)}\")\n",
    "print(f\"Person 7, allel 1: {hamming(villtype, person7_allel1)}\")\n",
    "print(f\"Person 7, allel 2: {hamming(villtype, person7_allel2)}\")\n",
    "print(f\"Person 8, allel 1: {hamming(villtype, person8_allel1)}\")\n",
    "print(f\"Person 8, allel 2: {hamming(villtype, person8_allel2)}\")"
   ]
  },
  {
   "cell_type": "markdown",
   "metadata": {},
   "source": [
    "### Oppgave 2c) Kartlegge mutasjonene\n",
    "* Hvilke alleler skiller seg ut fra villtypen?\n",
    "* Hvor mange mutasjoner er det som skiller disse allelene fra villtypen?\n",
    "* Klarer du å finne ut akkurat hvor mutasjonen er? Er alle allele samme mutasjon?\n",
    "* Om man har to like alleler av et gen kalles dette for en homozygot, har man to ulike alleler er det heterozygot. Klassifiser de ulike mutasjonene som homo/heterozygote."
   ]
  },
  {
   "cell_type": "markdown",
   "metadata": {},
   "source": [
    "Vi ser fra utksriften over at det er 4 alleler som skiller seg fra villtypen, og disse finner vi i person 1, person 3 og person 7. Det er kun én mutasjon i hver av disse 4 allelene.\n",
    "\n",
    "For å finne akkurat hvor mutasjonene er kan vi bruke den andre funksjonen vi skrev:"
   ]
  },
  {
   "cell_type": "code",
   "execution_count": 23,
   "metadata": {},
   "outputs": [
    {
     "name": "stdout",
     "output_type": "stream",
     "text": [
      "Person 1\n",
      "GTGTGCGGGGAACGAGGCTTCTTCTACACACCCAAGACCCGCCGGGAGGCAGAGGAC\n",
      "GTGTGCGGGGAACGAGGCTTCTTCTACACACCCAAGACCTGCCGGGAGGCAGAGGAC\n",
      "---------------------------------------+-----------------\n"
     ]
    }
   ],
   "source": [
    "print(\"Person 1\")\n",
    "print(villtype)\n",
    "print(person1_allel1)\n",
    "print(finn_forskjeller(villtype, person1_allel1))"
   ]
  },
  {
   "cell_type": "code",
   "execution_count": 24,
   "metadata": {},
   "outputs": [
    {
     "name": "stdout",
     "output_type": "stream",
     "text": [
      "Person 3\n",
      "GTGTGCGGGGAACGAGGCTTCTTCTACACACCCAAGACCCGCCGGGAGGCAGAGGAC\n",
      "GTGTGCGGGGAACGAGGCTTCTTCTACACACCCAAGACCTGCCGGGAGGCAGAGGAC\n",
      "---------------------------------------+-----------------\n"
     ]
    }
   ],
   "source": [
    "print(\"Person 3\")\n",
    "print(villtype)\n",
    "print(person3_allel1)\n",
    "print(finn_forskjeller(villtype, person3_allel1))"
   ]
  },
  {
   "cell_type": "code",
   "execution_count": 25,
   "metadata": {},
   "outputs": [
    {
     "name": "stdout",
     "output_type": "stream",
     "text": [
      "Person 7 Allele 1\n",
      "GTGTGCGGGGAACGAGGCTTCTTCTACACACCCAAGACCCGCCGGGAGGCAGAGGAC\n",
      "GTGTGCGGAGAACGAGGCTTCTTCTACACACCCAAGACCCGCCGGGAGGCAGAGGAC\n",
      "--------+------------------------------------------------\n",
      "Person 7 Allele 2\n",
      "GTGTGCGGGGAACGAGGCTTCTTCTACACACCCAAGACCCGCCGGGAGGCAGAGGAC\n",
      "GTGTGCGGAGAACGAGGCTTCTTCTACACACCCAAGACCCGCCGGGAGGCAGAGGAC\n",
      "--------+------------------------------------------------\n"
     ]
    }
   ],
   "source": [
    "print(\"Person 7 Allele 1\")\n",
    "print(villtype)\n",
    "print(person7_allel1)\n",
    "print(finn_forskjeller(villtype, person7_allel1))\n",
    "\n",
    "print(\"Person 7 Allele 2\")\n",
    "print(villtype)\n",
    "print(person7_allel1)\n",
    "print(finn_forskjeller(villtype, person7_allel2))"
   ]
  },
  {
   "cell_type": "markdown",
   "metadata": {},
   "source": [
    "Vi ser at mutasjonen er den samme i person 1 og 3. Disse personene er forøvrig også heterozygote, da de har én allele som er lik villtypen, og én som skiller seg.\n",
    "\n",
    "Person 7 har en annen mutasjon enn person 1 og 3 og samtidig ser vi at vi finner den samme mutasjonen i begge allelene, altså er person 7 homozygot."
   ]
  },
  {
   "cell_type": "markdown",
   "metadata": {},
   "source": [
    "### Oppgave 2d) Finne konsekvensene av mutasjonen\n",
    "\n",
    "En punktmutasjon betyr at en gitt base i DNA-sekvensen er byttet ut med en annen, men hva vil dette bety i praksis? Kjør villtypen og de muterte allelene du fant igjennom prosessen av transkripsjon og translasjon du gjorde istad. Skriv så ut polypeptidet fra villtypen, samt alle de muterte allelene\n",
    "\n",
    "* Hvilke aminosyrer har blitt byttet ut?\n",
    "* Forklar hvordan en allele kan innholde punktmutasjoner, uten at proteinet det koder for ikke er endret.\n",
    "* Kan du forklare hvem av de 8 personene i familien som lider av monogenisk diabetes grunnet mutasjon til INS-genet?"
   ]
  },
  {
   "cell_type": "code",
   "execution_count": 26,
   "metadata": {},
   "outputs": [
    {
     "name": "stdout",
     "output_type": "stream",
     "text": [
      "Villtype:\n",
      "VCGERGFFYTPKTRREAED\n",
      "Person 1 og 3:\n",
      "VCGERGFFYTPKTCREAED\n",
      "Person 7\n",
      "VCGERGFFYTPKTRREAED\n"
     ]
    }
   ],
   "source": [
    "print(\"Villtype:\")\n",
    "maltråd = komplementer_DNA(villtype)\n",
    "mRNA = transkripsjon(maltråd)\n",
    "polypeptid = translasjon(mRNA)\n",
    "print(polypeptid)\n",
    "\n",
    "print(\"Person 1 og 3:\")\n",
    "maltråd = komplementer_DNA(person1_allel1)\n",
    "mRNA = transkripsjon(maltråd)\n",
    "polypeptid = translasjon(mRNA)\n",
    "print(polypeptid)\n",
    "\n",
    "print(\"Person 7\")\n",
    "maltråd = komplementer_DNA(person7_allel1)\n",
    "mRNA = transkripsjon(maltråd)\n",
    "polypeptid = translasjon(mRNA)\n",
    "print(polypeptid)"
   ]
  },
  {
   "cell_type": "markdown",
   "metadata": {},
   "source": [
    "Ved å oversette DNA til mRNA og så videre over til et polypeptid ser vi at person 1 og 3 har byttet en aminosyre fra R til C. Person 7 har derimot nøyaktig samme polypeptid som villtypen. Dette kommer av at aminosyren som er endret i DNA-et leder til et annet kodon som koder for den samme aminosyren. Husk at det er langt flere kodon (64) enn det er aminosyrer (20), så det finnes mye overlappende kodoner.\n",
    "\n",
    "Person 1 og 3 har altså mutasjoner i INS-genet som fører til en endring i insulin proteinet deres. En endret aminosyre er ikke nok til å vite om denne endringen fører til insulin som ikke fungerer ordentlig, men i akkurat dette tilfellet er det altså slik.\n",
    "\n",
    "Person 7 har også et mutasjon i INS-genet sitt, men som vi ser fører ikke dette til noen endring i proteinet. "
   ]
  },
  {
   "cell_type": "markdown",
   "metadata": {},
   "source": [
    "### Oppsummerende kommentarer og Løsning\n",
    "\n",
    "(Under oppsummerer vi funnene i forskningsrapporten, dette avslører \"løsningen\" til oppgaven. Vent med å lese dette til du vil sjekke svaret ditt, eller til du har gjort et ordentlig forsøk men sitter fast.)\n",
    "\n",
    "\n",
    "Ved å analysere DNA-et til de 8 menneskene finner vi at personene som ble diagnostisert med diabetes i ungdomsårene (Person 1 og 3) har en mutasjon på INS-genet som gir en endring av en aminosyre fra arginin (R) til cystein (C). Forskerne som laget denne rapporten så nærmere og fant at dette var grunnen til at de to personene utviklet diabetes. Denne formen for monogenisk diabetes blir referret til som R55C, fordi den 55 aminosyren i INS-genet er byttet fra R til C.\n",
    "\n",
    "Ettersom at foreldrene til Person 3 ikke har den samme mutasjonen i noen av sine alleler kan vi også konkludere med at denne mutasjonen har oppstått i Person 3, som så har gitt den videre til sin datter (Person 1), men ikke til sin sønn (Person 2).\n",
    "\n",
    "Vi ser også at person 7 har mutasjoner i INS-genet i begge sine alleler. Derimot påvirker ikke dette faktisk insulin-proteinet til denne personen, fordi som vi ser koder genet for nøyaktig de samme aminosyrene. Dette er fordi det er såpass mange overlappende kodon, så punktmutasjonen fra G til A i DNA-et fører fortsatt ikke til noen endring i aminosyrene. Av denne grunnen er det slik at de fleste mutasjoner faktisk ikke fører til noen endringer i praksis."
   ]
  }
 ],
 "metadata": {
  "kernelspec": {
   "display_name": "Python 3",
   "language": "python",
   "name": "python3"
  },
  "language_info": {
   "codemirror_mode": {
    "name": "ipython",
    "version": 3
   },
   "file_extension": ".py",
   "mimetype": "text/x-python",
   "name": "python",
   "nbconvert_exporter": "python",
   "pygments_lexer": "ipython3",
   "version": "3.6.7"
  }
 },
 "nbformat": 4,
 "nbformat_minor": 2
}
