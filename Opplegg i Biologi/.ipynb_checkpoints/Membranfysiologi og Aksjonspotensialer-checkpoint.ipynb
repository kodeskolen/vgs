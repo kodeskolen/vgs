{
 "cells": [
  {
   "cell_type": "markdown",
   "metadata": {},
   "source": [
    "# Membranfysiologi\n",
    "\n",
    "Idag skal vi se litt nærmere på hvordan cellemembranen virker, og hvordan dens elektriske egenskaper er spesielt viktig for hvordan nerveceller og muskelceller virker. Det viser seg at å forstå cellemembranen er nøkkelen til å forstå hvordan nerveceller kommuniserer med hverandre, og hvorfor muskelceller kan trekke seg sammen for å produsere kraft. La oss begynne med å snakke litt om oppbyggningen til selve cellemembranen.\n",
    "\n",
    "Iløpet av dokumentet viser vi en del bilder, noen av disse har vi laget selv, men vi har også hentet noen figurer fra [Khan Academy's intro til membranpotensialer](https://www.khanacademy.org/science/biology/human-biology/neuron-nervous-system/a/the-membrane-potential). Den siden kan være fin å lese om du vil lære mer om cellemembraner og membranpotensialer, men den dekker ikke like mye matematikk og modellering som vi vil gjøre her."
   ]
  },
  {
   "cell_type": "markdown",
   "metadata": {},
   "source": [
    "### Membranens byggestener: fosfolipidene\n",
    "\n",
    "Byggestenene i cellemembranen er molekyler som kalles fosfolipider, dvs fettstoffer. La oss ikke gå inn på de kjemiske detaljene til disse molekylene, det som er viktig er at de har et hode som er hydrofilt, og en hale som er hydrofobisk. \n",
    "\n",
    "<img src=\"https://i.imgur.com/9GWpjM8.png\" style=\"width:260px;\" />\n",
    "\n",
    "Når vi løser fosfolipider i vann, vil hodene være fornøyd, da de er hydrofile, men halene vil være meget misfornøyd. Fosfolipider vil derfor gjerne klumpe seg sammen for å 'gjemme' halene sine mest mulig fra vannet de er løst i. De kan for eksempel lage miceller, små kuler der halene er samlet på innsiden, og kun hodene er vendt utover mot vannet.\n",
    "<img src=\"https://i.imgur.com/acHUHS9.png\" style=\"width:160px;\" />\n",
    "\n",
    "En ting som er stilig med denne oppførselen til fosfolipidene er at denne strukturen oppstår helt spontant og av seg selv. Det er heller ingen kjemisk reaksjon, binding eller kraft som drar fosfolipidene sammen eller som får den til å konstruere seg på denne måten. For å forstå hvorfor det skjer på et detaljnivå må vi begynne å tenke på termodynamikken, en veldig viktig del av fysikken og kjemien."
   ]
  },
  {
   "cell_type": "markdown",
   "metadata": {},
   "source": [
    "### Cellemembranen\n",
    "\n",
    "Micellene er bare en mulig struktur fosfolipidene kan danne for å skjerme halene sine fra vannet, de kan også lage et dobbeltlag. Noen fosfolipider lager miceller, mens andre lager slike dobbeltlag - en av de viktigste grunnene er rett og slett hvor stor plass halene tar iforhold til hodene, i en kuleformet micelle må halene være ganske små for å få plass inne i kula, og miceller består derfor av fosfolipider som bare har 1 hale, mens dobbeltlag ofte består av fosfolipider med to haler.\n",
    "\n",
    "<img src=\"https://i.imgur.com/xCKbvXy.png\" style=\"width:460px;\" />\n",
    "\n",
    "Fosfolipidene som danner slike dobbelt lag er stort sett fornøyd, da halene er skjermed så godt som mulig, det eneste problemet er hva som skjer på endene. Dette løser vi vet at hele membranen kan kurves tilbake på seg selv og lukkes som en balong - og det er slik vi lager en cellemembran.\n",
    "\n",
    "Utifra det at cellemembranen består av fosfolipider kan vi forutsi noen av egenskapene til den. Utenfor membranen, på begge sider, er det en løsning av vann og andre ioner og molekyler. Det vil si at polar, eller vannløslige, stoffer trives godt her. Inne i membranen er det ikke vann, det er jo hele poenget med å 'gjemme' halene unna. Det vil si at miljøet inne i membranen er et ikke-polar miljø og ikke-polare (fettløslige) stoffer vil trives godt her. \n",
    "\n",
    "På grunn av dette vil et vannløslig molekyl som tilfeldigvis drifter inn mot membranen bli skjøvet tilbake, fordi det ikke ønsker å gå inn i det ikke-polare miljøet inne i membranen. Dermed vil et vannløslig molekyl sjeldent bevege seg igjennom membranen, og vi sier at den ikke er 'permeabel' for vannløslige, eller polare stoffer. Fettløslige stoffer derimot, har ikke så mye å bevege seg inn og gjennom membranen, da det ikke-polare miljøet er helt OK."
   ]
  },
  {
   "cell_type": "markdown",
   "metadata": {},
   "source": [
    "### Membranpotensialet\n",
    "\n",
    "Elektriske ladde ioner og molekyler er polare, og vil derfor ikke kunne passere igjennom cellemembranen. Dette betyr at det kan være en forskjellig i konsentrasjon av ladde ioner og molekyler på insiden og utsiden av cellemembranen. Vanligvis ville slike forskjeller jevnet seg ut på grunn av *diffusjon*, men membranen forhindrer en flyt av slike ioner.\n",
    "\n",
    "Men hvis det er forskjellige konsentrasjoner av elektriske ladde partikler på hver side av membranen betyr det at det kan oppstå et fysisk elektrisk potensiale over cellemembranen. Dette potensialet kan vi måle på en ekte celle i labben, og det viser seg å være veldig viktig.\n",
    "\n",
    "<img src=\"https://i.imgur.com/1r1eKFK.png\" style=\"width:260px;\" />\n",
    "\n",
    "Det er et ganske vanskelig eksperiment å gjennomføre, for du må føre en elektrode inn i en celle, som typisk sett er veldig, veldig små. Det ble først gjort på ordentlig i en nervecelle fra blekkspruter, da dette er noen av de største nervecellene man vet om (opptil 1 mm ca). Idag, med moderne utstyr, får man til dette på alle slags celler uten problemer. "
   ]
  },
  {
   "cell_type": "markdown",
   "metadata": {},
   "source": [
    "<img src=\"https://i.imgur.com/KRQ1DsZ.png\" style=\"width:460px;\" />\n"
   ]
  },
  {
   "cell_type": "markdown",
   "metadata": {},
   "source": [
    "Om man gjør et slikt eksperiment finner man at membranepotensialet for en muskelcelle eller nervecelle er omtrent -80 millivolt. Det vil si at potensialet er lavere på innsiden av cellen, enn utenfor. Vi skal snart forklare *hvorfor* denne potensialforskjellen oppstår."
   ]
  },
  {
   "cell_type": "markdown",
   "metadata": {},
   "source": [
    "### Aksjonspotensialer\n",
    "\n",
    "Membranpotensialet til disse cellene ligger stabilt på ca -80 millivolt, men om de får litt elektrisk stimulus fra en nabo nervecelle, eller fra en biolog i et eskperimentelt setup vil plutselig membranpotensialet skyte ivers en kort stund, før det faller tilbake til -80 millivolt. Vi kaller denne oppførselen for et *aksjonspotensial*. Navnet er kanskje litt rart, men det kommer fra det engelske: *action potential*, der \"action\" tilsier at aksjonspotensialene får ting til å skje.\n",
    "\n",
    "<img src=\"https://upload.wikimedia.org/wikipedia/commons/thumb/9/95/Action_potential_basic_shape.svg/491px-Action_potential_basic_shape.svg.png\" style=\"width:360px;\" />\n",
    "<b>Kilde:</b> <a href=\"https://www.khanacademy.org/science/biology/human-biology/neuron-nervous-system/a/the-membrane-potential\">Khan Academy.</a>\n",
    "\n",
    "\n",
    "Når en celle produserer et slikt aksjonspotensialet vil det forhøyede potensialet i cellemembranen kunne spre seg videre til naboceller som øker deres membranpotensialer. Dette foresaker så nabocellene til å fyre sine egne aksjonspotensialer som sprer seg videre. Dermed vil et aksjonspotensiale spre seg utover i vevet, og det er dette vi kaller et *nervesignal*. Når en muskelcelle produserer et aksjonspotensial vil den samtidig trekke seg sammen, det er aksjonspotensialet som er signalet for kontraksjon i disse cellene. Når vi ønsker å for eksempel løfte armen er det et aksjonspotensialet som sprer seg fra hjernen, langs nerver ned til armen og deretter over i musklene og får dem til å trekke seg sammen.\n",
    "\n",
    "I resten av dette opplegget skal vi prøve å forstå hvordan cellene kan lage disse aksjonspotensialene."
   ]
  },
  {
   "cell_type": "markdown",
   "metadata": {},
   "source": [
    "### Hvorfor oppstår membranpotensialet?\n",
    "\n",
    "Vi skal nå prøve å forstå *hvorfor* membranpotensialet til en celle havner på rundt -80 millivolt.\n",
    "\n",
    "La oss anta at vi har en bladning av kaliumioner, K$^+$, og et eller annent negativt ladd ion (anioner), for eksempel Cl$^-$. På insiden av cellen har vi en høy konsentrasjon av begge to, på utsiden er det lav konsentrasjon av begge to. På begge sider er det like mye positiv og negativ ladning, så hele systemet er *elektrisk nøytralt*. Membranpotensialet blir derfor 0.\n"
   ]
  },
  {
   "cell_type": "markdown",
   "metadata": {},
   "source": [
    "<img src=\"https://ka-perseus-images.s3.amazonaws.com/af6489d8923bbf346eb6e7bfe96b35cd4123228c.png\" style=\"width:660px;\"/>\n",
    "<b>Kilde:</b> <a href=\"https://www.khanacademy.org/science/biology/human-biology/neuron-nervous-system/a/the-membrane-potential\">Khan Academy.</a>\n",
    "\n"
   ]
  },
  {
   "cell_type": "markdown",
   "metadata": {},
   "source": [
    "Selve cellemembranen er ugjennomtrenglig for ladede ion, for eksempel kalium. Men i membranen finnes det *ionekanaler* som kan sleppe igjennom ioner. Disse ionekanalene kan åpnes og lukkes, og hver kanal er spesifikk til ett type ion. Det vil si at en kaliumkanal *kun* slepper igjennom kaliumioner, og en natriumkanal *kun* slepper igjennom natrium.\n",
    "\n",
    "La oss nå anta at alle ionekanaler i cellemembranen er lukket, med unntak av kaliumionekanalene, som er åpne. Dermed kan kaliumionene slippe igjennom membranen, men ikke anionene. Hva skjer? \n",
    "\n",
    "Fordi det er en større konsentrasjon av kalium på innsiden en utsiden vil det oppstå en strøm av kaliumioner ut av cellen. Dette er fordi naturen spontant prøver å utligne konsentrasjonsforskjelles, dette kalles *diffusjon*.\n",
    "\n",
    "Når kalium begynner å bevege seg ut av cellen blir derimot konsentrasjonen av positivt ladde ioner utenfor cellen større en konsentrasjonen av anioner. Og motsatt på insiden: konsentrasjonen av K$^+$ faller, men det er like mye anioner, siden de ikke kan flytte seg gjennom membranen. Dette gjør at den elektriske ladningen er større på utsiden enn på innsiden av cellen.\n",
    "\n",
    "<img src=\"https://ka-perseus-images.s3.amazonaws.com/fa7479d7ca104e1c14a4e917bf397f5edf9b42bd.png\" style=\"width:660px;\" />\n",
    "<b>Kilde:</b> <a href=\"https://www.khanacademy.org/science/biology/human-biology/neuron-nervous-system/a/the-membrane-potential\">Khan Academy.</a>\n",
    "\n"
   ]
  },
  {
   "cell_type": "markdown",
   "metadata": {},
   "source": [
    "Den ladningsforskjellen som oppstår mellom utsiden og innsiden av membranen gjør at ladde ioner fysisk trekkes mot membranen av elektriske krefter. Ionene vil derfor legge seg langs membranen og lage et potensialfall over membranen som vi kan måle. Dette potensialfallet vil motvirke flyten av kalium ut av cellen.\n",
    "\n",
    "Etterhvert som mer og mer kalium forlater cellen vil potensialet bli kraftigere og kraftigere helt til den er sterk nok til å stoppe den diffusive flyten fullstendig. Systemet er nå i *likevekt* og ikke noe mere kalium vil forlate cellen. Potensialet der flyten av kalium stanser kaller vi for likevektspotensialet for kalium. Merk at ved likevekt så vil ikke mengden kalium innenfor og utenfor cella være fullstendig utlignet, det vil fortsatt være en konsentrasjonsforskjell, det er bare det at membranen har fått et så stort potensiale at det ingen fler ioner kan forlate cellen.\n",
    "\n",
    "<img src=\"https://ka-perseus-images.s3.amazonaws.com/2f4f767dcc1f7245d375285c6b15be842f231ece.png\" style=\"width:660px;\" />\n",
    "<b>Kilde:</b> <a href=\"https://www.khanacademy.org/science/biology/human-biology/neuron-nervous-system/a/the-membrane-potential\">Khan Academy.</a>\n"
   ]
  },
  {
   "cell_type": "markdown",
   "metadata": {},
   "source": [
    "Akkurat hvilken verdi likevektspotensialet havner på kommer ann på hvor stor konsenstrasjonsforskjellen til å begynne med er. Hvis det ikke er noen konsentrasjonsforskjell vil det jo ikke være noen flyt av ioner i det heletatt og likevektspotensialet blir bare 0.\n",
    "\n",
    "<img src=\"https://ka-perseus-images.s3.amazonaws.com/989f970ad03c6e88ac6466771120ed6cf15c4a3d.png\" style=\"width:660px;\" />\n",
    "<b>Kilde:</b> <a href=\"https://www.khanacademy.org/science/biology/human-biology/neuron-nervous-system/a/the-membrane-potential\">Khan Academy.</a>\n",
    "\n"
   ]
  },
  {
   "cell_type": "markdown",
   "metadata": {},
   "source": [
    "Ved å bruke litt fysikk kan man ganske enkelt finne frem til en formel for hva likevektspotensialet kommer til å være, basert på konsentrasjonsforskjellen. Denne formelen heter Nernstligningen, og er som følger:\n",
    "$$E_{\\rm likevekt} = \\frac{RT}{F} \\ln \\frac{c_{\\rm e}}{c_{\\rm i}}.$$\n",
    "Her så er $c_{\\rm e}$ konsentrasjonen utenfor cellen (extracellulært) og $c_{\\rm i}$ er konsentrasjonen inne i cellen (intracellulært). De andre symbolene er bare fysiske konstanter som skalerer problemet, $R$ kalles gasskonstanten, $T$ er temperaturen (i Kelvin), og $F$ kalles Faraday's konstant. Vi oppgir verdiene av disse tre konstantene snart."
   ]
  },
  {
   "cell_type": "markdown",
   "metadata": {},
   "source": [
    "### Likevektspotensialet i en ekte celle\n",
    "\n",
    "La oss regne ut likevektspotensialet for en ekte celle. Da må vi vite konsentrasjonene av ioner innenfor og utenfor cellen. Vi fokuserer på de to viktigste ionene i cellen, som er kalium, K$^+$, og natrium, Na$^+$. For nerveceller og muskelceller fra pattedyr er konsentrasjonen av disse ionene omtrent som følger:\n",
    "\n",
    "| Ion        | Intracellular | Extracellular  |\n",
    "| -----------|:-------------:| -----:|\n",
    "| Natrium    | 8 mM          | 110 mM |\n",
    "| Kalium     | 100 mM        | 4 mM  |\n",
    "\n",
    "Vi må også definere de fysiske konstantene"
   ]
  },
  {
   "cell_type": "code",
   "execution_count": null,
   "metadata": {},
   "outputs": [],
   "source": [
    "from pylab import *\n",
    "R = 8314 # mJ/(K mol)\n",
    "T = 273 + 37 # Kelvin, tilsvarer 37 grader Celsius\n",
    "F = 96485 # C/mol"
   ]
  },
  {
   "cell_type": "markdown",
   "metadata": {},
   "source": [
    "Dere har nå nok informasjon til å regne ut hva likevektspotensialene til en ekte hjernecelle eller hjertecelle hadde vært dersom membranen var permeabel til kun natrium, eller kun kalium."
   ]
  },
  {
   "cell_type": "markdown",
   "metadata": {},
   "source": [
    "### Oppgave (a)\n",
    "\n",
    "Regn ut likevektspotensialet dersom membranen kun slepper igjennom kalium. Kall denne $E_{\\rm K}$\n",
    "\n",
    "(Hint: Den naturlige matematiske $\\ln$-funksjonen heter bare `log` i Python, for 10-er logaritmen man kanskje kaller log i matematikktimen bruker man `log10` i Python.)\n"
   ]
  },
  {
   "cell_type": "code",
   "execution_count": null,
   "metadata": {},
   "outputs": [],
   "source": [
    "E_K = R*T"
   ]
  },
  {
   "cell_type": "markdown",
   "metadata": {},
   "source": [
    "### Oppgave (b)\n",
    "Regn ut likevektspotensialet dersom membranen kun slepper igjennom natrium, kall denne $E_{\\rm Na}$"
   ]
  },
  {
   "cell_type": "code",
   "execution_count": null,
   "metadata": {},
   "outputs": [],
   "source": [
    "E_Na = ..."
   ]
  },
  {
   "cell_type": "markdown",
   "metadata": {},
   "source": [
    "Sammenlign svarene fra (a) og (b). Hvorfor tror du at du får forskjellig fortegn på potensialet?"
   ]
  },
  {
   "cell_type": "markdown",
   "metadata": {},
   "source": [
    "## Strøm igjennom membranen\n",
    "\n",
    "Vi begynner nå kanskje å forstå *hvorfor* cellen har et membranpotensiale, det er fordi det er en voldsom forskjell i ionekonsentrasjoner på innsiden og utsiden av cellen. Dette gjør at elektriske ladde ioner ønsker å bevege seg igjennom cellemembranen for å utligne disse konsentrasjonsforskjellene. \n",
    "\n",
    "Det har seg slik at en strøm strøm av ladde ioner er en *elektrisk* strøm. Når man snakker om elektrisitet, slik man for eksempel bruker til å lade mobiltelefonen sin, er det som often en elektrisk størm av *elektroner*, derav navnet. Derimot vil enhver strøm av ladde partikler, som i dette tilfellet en strøm av Na$^+$- og K$^+$-ioner være en form for elektrisitet. Det er derfor elektriske strømmer over membranen.\n",
    "\n",
    "Elektriske strømmer, også de som bæres av ioner, kan beskrives med Ohm's lov\n",
    "$$I = \\frac{V}{R}.$$\n",
    "Ohm's lov sier at den elektriske strømmen $I$, igjennom en elektriske komponent er proporsjonal med spenningen $V$ over den komponenten og omvent proporsjonal med motstanden $R$. Husk at spenning bare er et annet navn for et elektrisk potensiale. Om vi skal bruke Ohm's lov på strøm igjennom membranen blir derfor spenningen $V$ lik membranpotensialet.\n",
    "\n",
    "Før vi kan bruke Ohm's lov på cellemembranen må vi justere formelen litt, fordi i Ohm's lov stopper jo all strøm når potensialet er null ($V=0 \\Rightarrow I=0$), men vi har jo sett at strømmen over membranen slutter når potensialet er lik likevektspotensialet ($V=E_{\\rm likevekt} \\rightarrow I = 0$). Vi endrer derfor Ohm's lov litt, til\n",
    "$$I = \\frac{(V - E_{\\rm likevekt})}{R}.$$\n",
    "\n",
    "### Oppgave (c)\n",
    "\n",
    "- Diskuter med sidemannen hvorfor strømmen stanser i den modifiserte Ohm's lov når membranpotensialet er lik likevektspotensialet."
   ]
  },
  {
   "cell_type": "markdown",
   "metadata": {},
   "source": [
    "I tilegg til endringen vi har gjort ønsker vi også å skrive om litt. Istedet for å snakke om 'motstanden' $R$, ønsker vi å snakke om *konduktansen* $g$, som bare er $1/R$. Motstanden sier hvor vanskelig det er å for strøm å komme igjennom noe, mens konduktanse sier hvor lett det er. Vi har nå formelen\n",
    "$$I = g(V - E_{\\rm likevekt}).$$\n",
    "Dette er alt vi trenger for å modellere hvordan membranpotensialet endrer seg over tid."
   ]
  },
  {
   "cell_type": "markdown",
   "metadata": {},
   "source": [
    "### Hvordan utvikler membranepotensialet seg over tid?\n",
    "\n",
    "Når det går en strøm $I$ igjennom membranen, så vil membranpotensialet endre seg. Man kan uttrykke strømmen som den deriverte av potensialet\n",
    "$$\\frac{{\\rm d} V}{{\\rm d} t} = -I.$$\n",
    "Om vi setter inn utrykket vårt for strømmen får vi ligningen\n",
    "$$\\frac{{\\rm d} V}{{\\rm d} t} = -g(V - E_{\\rm likevekt}).$$"
   ]
  },
  {
   "cell_type": "markdown",
   "metadata": {},
   "source": [
    "Dette er en *differensialligning*, fordi det er en ligning som inneholder en derivert størrelse. Kort fortalt sier differensialligninger noe om hvordan en størrelse endrer seg over tid. For å finne selve membranpotensialet over tid, som er det vi ønsker, må vi løse denne differensialligningen. Å løse en differensialligning handler om å finne en funksjon som løser ligningen, altså prøver vi å finne funksjonen $V(t)$.\n",
    "\n",
    "Hvis dere vet noe om hvordan man løser differensialligninger kan dere løse denne ligningen for hånd. Men for nå antar vi at dere ikke kan dette fra før, og vi ønsker ikke å fokusere på de matematiske detaljene. Derfor løser vi istedet ligningen med Python.\n",
    "\n",
    "La oss først anta at membranen kun slepper igjennom kalium, dvs at vi ser på en kaliumstrøm. Da endrer vi den generelle konduktansen $g$, til å referere til membranens konduktanse for kalium: $g_{\\rm K}$:\n",
    "$$\\frac{{\\rm d} V}{{\\rm d} t} = -g_{\\rm K}(V - E_{\\rm K}).$$\n",
    "\n",
    "Når vi løser denne differensialligningen simulerer vi hvordan membranen oppfører seg over tid, da trenger vi også en *initialbetingelse*, det vil si, hva membranpotensialet er ved starten av simuleringen. Vi kan for eksempel si at membranen starter uten noe potensiale, $V_0 = 0$. Vi setter også konduktansen til å være $g_{\\rm K} = 1$, for enkelhetens skyld."
   ]
  },
  {
   "cell_type": "markdown",
   "metadata": {},
   "source": [
    "Koden under løser differensialligningen for oss. For å gjøre dette bruker vi en spesiell funksjon `odeint`, som står for \"ODE integrate\". ODE står for \"ordinary differential equation\", som er navnet til differensialligninger av typen vi løser her, og et annet ord for å løse differensialligninger er å integere dem. For at funksjonen skal løse ligningen må vi sende inn tre ting:\n",
    "1. Selve differensialligningen. Dette gjør vi ved å definere høyre side av ligningen som en funksjon\n",
    "2. Initialbetingelsen $V_0$.\n",
    "3. Et array med tidspunkter vi ønsker å løse for\n",
    "\n",
    "Dette er mye detaljer for en som ikke har programmert før, så vi gir eksempelkode under som løser problemet:"
   ]
  },
  {
   "cell_type": "code",
   "execution_count": null,
   "metadata": {},
   "outputs": [],
   "source": [
    "from scipy.integrate import odeint\n",
    "\n",
    "# Her definerer vi høyre side av diff. ligningen som en pythonfunksjon\n",
    "def dV_dt(V, t):\n",
    "    return -g_K * (V - E_K)\n",
    "\n",
    "# Her spesifiserer vi parametere og initialbetingelser i modellen.\n",
    "g_K = 1  # Konduktans\n",
    "V0 = 0   # Membranpotensialet ved start\n",
    "t = linspace(0, 5, 1001) # Tiden vi ønsker å se på, her fra 0 til 5 millisekunder\n",
    "\n",
    "# Her lar vi Python løse diff. ligningen for oss\n",
    "V = odeint(dV_dt, V0, t)\n",
    "\n",
    "# Her plotter vi løsningen\n",
    "plot(t, V)\n",
    "xlabel('Tid (millisekunder)')\n",
    "ylabel('Membranpotensialet (millivolt)')\n",
    "show()"
   ]
  },
  {
   "cell_type": "markdown",
   "metadata": {},
   "source": [
    "### Oppgave (d)\n",
    "\n",
    "- Kjør koden over.\n",
    "- Beskriv utviklingen av membranpotensialet over tid.\n",
    "- Vet du hva den matematisken formen på kurven kalles?\n",
    "- Når er den elektriske strømmen gjennom membranen størst?"
   ]
  },
  {
   "cell_type": "markdown",
   "metadata": {},
   "source": [
    "### Oppgave (e)\n",
    "\n",
    "- Hvilken verdi når membranpotensialet ved slutten av simuleringen?\n",
    "- Prøv å simuler dobbelt så lenge, skjer det noe?\n",
    "- Hvorfor endrer ikke potensialet seg etter en stund?"
   ]
  },
  {
   "cell_type": "markdown",
   "metadata": {},
   "source": [
    "### Oppgave (f)\n",
    "\n",
    "* Prøv å endre initialbetingelsen, så membranpotensialet begynner på noe annet enn 0.\n",
    "* Hva skjer med løsningen?"
   ]
  },
  {
   "cell_type": "markdown",
   "metadata": {},
   "source": [
    "### Oppgave (g)\n",
    "\n",
    "* Hva tror du skjer om du endrer konduktansen $g_{\\rm K}$?\n",
    "* Prøv og se om du hadde rett."
   ]
  },
  {
   "cell_type": "markdown",
   "metadata": {},
   "source": [
    "### Oppgave (h)\n",
    "\n",
    "* Gjenta simuleringen, men endre fra en membran som kun har en kaliumstrøm, til en som kun har en natriumstrøm, det vil si:\n",
    "$$\\frac{{\\rm d} V}{{\\rm d} t} = -g_{\\rm Na}(V - E_{\\rm Na}).$$\n",
    "* Hva skjer med løsningen?"
   ]
  },
  {
   "cell_type": "markdown",
   "metadata": {},
   "source": [
    "## En membran som slepper igjennom både kalium og natrium\n",
    "\n",
    "Nå har vi sett på hva som skjer med kun kalium, og kun natrium. Men hva om ionekanaler av begge typer er åpne samtidig? Vel, det er ikke så mye mer komplisert en kun en type, vi bare legger på begge strømmene på differensialligningen vår, så vi har\n",
    "$$\\frac{{\\rm d}V}{{\\rm d} t} = -g_{\\rm K}(V - E_{\\rm K}) -g_{\\rm Na}(V - E_{\\rm Na}).$$"
   ]
  },
  {
   "cell_type": "code",
   "execution_count": null,
   "metadata": {},
   "outputs": [],
   "source": [
    "def dV_dt(V, t):\n",
    "    I_K = g_K * (V - E_K)\n",
    "    I_Na = g_Na * (V - E_Na)\n",
    "    return -(I_K + I_Na)\n",
    "\n",
    "g_K = 1\n",
    "g_Na = 1\n",
    "V0 = 0\n",
    "\n",
    "t = linspace(0, 5, 1001)\n",
    "V = odeint(dV_dt, V0, t)\n",
    "\n",
    "plot(t, V)\n",
    "xlabel('Tid (ms)')\n",
    "ylabel('V (mV)')\n",
    "axis((0, t.max(), -90, 90))\n",
    "show()"
   ]
  },
  {
   "cell_type": "markdown",
   "metadata": {},
   "source": [
    "### Oppgave (i)\n",
    "\n",
    "- Hva ble likevektspotensialet nå?\n",
    "- Kan du gjette på hvorfor? \n",
    "- Prøv å endre på $g_{\\rm K}$ og $g_{\\rm Na}$ uavhengig av hverandre og se hva som skjer."
   ]
  },
  {
   "cell_type": "markdown",
   "metadata": {},
   "source": [
    "### Oppgave (j)\n",
    "\n",
    "Utifra det du så i forrige oppgave. Hvis du vet at membranepotensialet til en 'hvilende' muskelcelle eller nervecelle er ca -80 millivolt. Hva kan du si om forholdet mellom $g_{\\rm K}$ og $g_{\\rm Na}$? Hvilken må være størst, og ca hvor mye større?"
   ]
  },
  {
   "cell_type": "markdown",
   "metadata": {},
   "source": [
    "### Nå er vi endelig kommet til aksjonspotensialet\n",
    "\n",
    "Vi har sett at $E_{\\rm K} \\approx -90$ mV og $E_{\\rm Na} \\approx 70$ mV. Når cellene 'hviler' er mange kaliumkanaler i membranen åpne, så $g_{\\rm K}$ er høy, og $g_{\\rm Na}$ er lav. Dette gjør at likevektspotensialet ligger veldig nært $E_{\\rm K}$ på ca -80 millivolt.\n",
    "\n",
    "Når cellen får stimulus og skal fyre et aksjonspotensiale vil mange natriumkanaler i membranen åpne seg og $g_{\\rm Na}$ stiger noe voldsomt, så forholdet flipper nesten fullstendig. Når cellen hviler er $g_{\\rm K} \\gg g_{\\rm Na}$, men nå skal cellen fyre et aksjonspotensiale, så er $g_{\\rm K} \\ll g_{\\rm Na}$.\n",
    "\n",
    "La oss programmere denne oppførselen og. La oss si at $g_{\\rm K}$ er konstant lik 1, mens $g_{\\rm Na}$ er 0.05 når celler hviler, men øker til 10 i 0.2 millisekund når et aksjonspotensialet skal fyres. La oss se på hva som skjer."
   ]
  },
  {
   "cell_type": "code",
   "execution_count": null,
   "metadata": {},
   "outputs": [],
   "source": [
    "def dV_dt(V, t):\n",
    "    g_K = 1\n",
    "    \n",
    "    if 2 < t < 2.2:\n",
    "        g_Na = 10\n",
    "    else:\n",
    "        g_Na = 0.05\n",
    "    \n",
    "    I_K = g_K * (V - E_K)\n",
    "    I_Na = g_Na * (V - E_Na)\n",
    "    return -(I_K + I_Na)\n",
    "\n",
    "V0 = -80\n",
    "\n",
    "t = linspace(0, 10, 1001)\n",
    "V = odeint(dV_dt, V0, t)\n",
    "\n",
    "plot(t, V)\n",
    "xlabel('Tid')\n",
    "ylabel('V (mV)')\n",
    "axis((0, t.max(), -90, 40))\n",
    "show()"
   ]
  },
  {
   "cell_type": "markdown",
   "metadata": {},
   "source": [
    "### Oppgave (k)\n",
    "\n",
    "- Hvor høyt når potensialet på sitt meste? \n",
    "- Hvorfor når det ikke helt opp til +70 millivolt tror du? \n",
    "- Hvor lenge varer dette aksjonspotensialet?"
   ]
  },
  {
   "cell_type": "markdown",
   "metadata": {},
   "source": [
    "## Hodgkin-Huxley Modellen\n",
    "\n",
    "Vi har forenklet ting litt for å ha sjans på å rekke det på den lille tiden vi har hatt idag, og selv med forenklingene har vi sikkert ikke rukket alt. Men! Vi er faktisk godt på vei til å beskrive det som faktisk skjer under et aksjonspotensiale, og vi trenger ikke å legge til så veldig mye før vi ender opp med noe som er bra nok til å bruke til enten hjerte- eller hjerneforskning.\n",
    "\n",
    "De første som klarte å beskrive hvordan et aksjonspotensiale oppsto var forskerene Hodgkin og Huxley, i 1952. De bruke eksperimentelle målinger gjort på ekte celler, og lagde en matematisk modell som gjenskapte det de målte for å forklare hvorfor potensialet endret seg slik det gjorde. Modellen de lagde var ikke så veldig mye mer komplisert enn den vi har brukt her. Deres arbeid har virkelig revolusjonert fysiologien og har lagt grunnlaget for all moderne nevrovitenskap og hjerteforskning. De vant derfor nobelprisen i medisin for sitt arbeid i 1963.\n",
    "\n",
    "Under kjører vi en simulering av et aksjonspotensiale som generert av Hodgkin-huxley modellen, du kan sammenligne den med den vi har generert selv.\n"
   ]
  },
  {
   "cell_type": "code",
   "execution_count": null,
   "metadata": {},
   "outputs": [],
   "source": [
    "import hodgkin_huxley\n",
    "hodgkin_huxley.run()"
   ]
  },
  {
   "cell_type": "markdown",
   "metadata": {},
   "source": [
    "### Oppgave (l)\n",
    "\n",
    "Kjør cella over for å få ut aksjonspotensialet slik den modelleres av Hodgkin-Huxley modellen. Diskuter så følgende punkter med sidemannen\n",
    "- Hvor høyt når membranpotensialet nå?\n",
    "- Hvor lenge varer aksjonspotensialet i denne modellen?\n",
    "- Diskuter forskjeller i aksjonspotensiale i vår enkle modell over og den gitt av Hodgkin-Huxley modellen her, klarer dere å se noen store forskjeller?"
   ]
  },
  {
   "cell_type": "markdown",
   "metadata": {},
   "source": [
    "Koden for Hodgkin-Huxley modellen viser vi ikke i denne notebooken, men den ligger i fila `hodgkin_huxley.py` om du vil ta en titt er den faktisk ikke så altfor komplisert, men den ser kanskje litt voldsom ut om du aldri har programmert noe særlig før!"
   ]
  },
  {
   "cell_type": "markdown",
   "metadata": {},
   "source": [
    "### Moderne cellemodeller\n",
    "\n",
    "Arbeidet til Hodgkin-Huxley er snart 70 år gammelt, men modellen de brukte var såpass god at den fortsatt brukes i nevrovitenskap den dag i dag. Modellen deres er såpass enkel at det er mange faktorer den ikke tar med i beregningene sine, derfor har det også blitt utviklet mer avanserte modeller som tar hensyns til flere typer ionekanaler og andre typer komplikasjoner, slike modeller kalles gjerne for \"membranpotensialemodeller\" eller bare for \"cellemodeller\"."
   ]
  }
 ],
 "metadata": {
  "kernelspec": {
   "display_name": "Python 3",
   "language": "python",
   "name": "python3"
  },
  "language_info": {
   "codemirror_mode": {
    "name": "ipython",
    "version": 3
   },
   "file_extension": ".py",
   "mimetype": "text/x-python",
   "name": "python",
   "nbconvert_exporter": "python",
   "pygments_lexer": "ipython3",
   "version": "3.6.7"
  }
 },
 "nbformat": 4,
 "nbformat_minor": 2
}
