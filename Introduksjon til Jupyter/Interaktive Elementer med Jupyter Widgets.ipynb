{
 "cells": [
  {
   "cell_type": "markdown",
   "metadata": {},
   "source": [
    "# Interaktive Elementer med Jupyter Widgets\n",
    "\n",
    "I dette kurset har vi gitt en veldig kort innføring i Jupyter notebook, et format som lar oss integrere kode med andre elementer som tekst, matematikk og figurer.\n",
    "\n",
    "Det finnes mye funksjonalitet i Jupyter som vi *ikke* har nevnt. Ettersom at Jupyter er implementert igjennom nettleseren finnes det en lang rekke muligheter for ekstra funksjonalitet, og det finnes også tileggspakker man kan laste ned for å utvide Jupyter enda mer. For eksempel finnes det en tileggspakke der man kan lage og vise frem slides som en presentasjon i Jupyter (Les mer her: https://damianavila.github.io/RISE/).\n",
    "\n",
    "Vi har aktivt valgt å ikke vise frem eller nevne for mange av disse mulighetene, fordi de kanskje kan være litt kompliserte for nybegynnere. Derimot har vi blitt spurt om å vise hvordan man kan lage såkallte *widgets* i Jupyter, så det skriver vi litt om her."
   ]
  },
  {
   "cell_type": "markdown",
   "metadata": {},
   "source": [
    "## Den grunnleggende `interact`\n",
    "\n",
    "Den letteste måten å lage en interaktiv widget på er å bruke funksjonen `interact`, denne lar deg interagere med en gitt funksjon som du har definert. La oss se på et eksempel.\n",
    "\n",
    "Vi lager en funksjon `f(x)`, som tar et tall `x` inn, og returnerer kvadratet av funksjonen. Vi kan definere funksjonen på \"vanlig\" måte, altså som vi ellers ville definert en funksjon for å jobbe med den."
   ]
  },
  {
   "cell_type": "code",
   "execution_count": 1,
   "metadata": {},
   "outputs": [],
   "source": [
    "def f(x):\n",
    "    return x**2"
   ]
  },
  {
   "cell_type": "markdown",
   "metadata": {},
   "source": [
    "Når vi har definert en slik funksjon, så kan vi bruke `interact` for å lage en interaktiv widget hvor vi kan utforske funksjonen. Først må vi importe `interact`, og denne ligger i pakka `ipywidgets`"
   ]
  },
  {
   "cell_type": "code",
   "execution_count": 2,
   "metadata": {},
   "outputs": [],
   "source": [
    "from ipywidgets import interact"
   ]
  },
  {
   "cell_type": "markdown",
   "metadata": {},
   "source": [
    "For å bruke `interact` må vi sende selve funksjonen vi ønsker å interegere med som input. I tilegg gir vi startverdien til `x`. Så vi kaller på \n",
    "```\n",
    "interact(f, x=10);\n",
    "```\n",
    "Merk at vi sender selve funksjonen, altså bare `f`. Til slutt skriver vi et semicolon, dette er ikke strengt tatt nødvendig, det kan bare unngå litt ekstra utskrift i Jupyter av grunner vi ikke går inn på her.\n",
    "\n",
    "Resultatet blir som følger:"
   ]
  },
  {
   "cell_type": "code",
   "execution_count": 3,
   "metadata": {},
   "outputs": [
    {
     "data": {
      "application/vnd.jupyter.widget-view+json": {
       "model_id": "12ae19290819486cac0b59471faddf8c",
       "version_major": 2,
       "version_minor": 0
      },
      "text/plain": [
       "interactive(children=(IntSlider(value=10, description='x', max=30, min=-10), Output()), _dom_classes=('widget-…"
      ]
     },
     "metadata": {},
     "output_type": "display_data"
    }
   ],
   "source": [
    "interact(f, x=10);"
   ]
  },
  {
   "cell_type": "markdown",
   "metadata": {},
   "source": [
    "Vi får en slider der vi kan endre verdien av variabelen `x`, verdien begynner på 10, ettersom at det var dette vi satt startverdien til. Merk at man også kan trykke på tallverdien og skrive inn et konkret tall, om man syns det er knotete å treffe nøyaktig med slideren.\n",
    "\n",
    "Ettersom at vi satt startverdien til et heltall, så vil slideren automatisk gå i hele steg. Om vi istedet hadde valgt et desimaltall som startverdi, så hadde vi kunne gått til andre desimaltall:"
   ]
  },
  {
   "cell_type": "code",
   "execution_count": 4,
   "metadata": {},
   "outputs": [
    {
     "data": {
      "application/vnd.jupyter.widget-view+json": {
       "model_id": "b406564983544e9f818216f500cb137f",
       "version_major": 2,
       "version_minor": 0
      },
      "text/plain": [
       "interactive(children=(FloatSlider(value=10.0, description='x', max=30.0, min=-10.0), Output()), _dom_classes=(…"
      ]
     },
     "metadata": {},
     "output_type": "display_data"
    }
   ],
   "source": [
    "interact(f, x=10.0);"
   ]
  },
  {
   "cell_type": "markdown",
   "metadata": {},
   "source": [
    "Merk at grensene vi kan gå til med variabelen `x` er satt automatisk av `interact`. Dette gjør den så funksjonen skal være så enkel som mulig å bruke, men vi kan også sette grenser selv - dette ser vi nærmere på snart. \n"
   ]
  },
  {
   "cell_type": "markdown",
   "metadata": {},
   "source": [
    "### Interact og output\n",
    "\n",
    "I widgeten vi lagde nå får vi rett og slett skrevet ut returverdien til funksjonen. Dette er vel og bra, men av og til ønsker man å ha mer kontroll over hva som skrives ut. Da kan vi istedet for å lage en funksjon som returnerer en gitt verdi, heller printer ut noe direkte.\n",
    "\n",
    "For eksempel kunne vi definert funksjonen slik her istedet:"
   ]
  },
  {
   "cell_type": "code",
   "execution_count": 5,
   "metadata": {},
   "outputs": [],
   "source": [
    "def g(x):\n",
    "    print(f\"{x}² = {x**2}\")"
   ]
  },
  {
   "cell_type": "markdown",
   "metadata": {},
   "source": [
    "Nå vil `interact` gi følgende resultat:"
   ]
  },
  {
   "cell_type": "code",
   "execution_count": 6,
   "metadata": {},
   "outputs": [
    {
     "data": {
      "application/vnd.jupyter.widget-view+json": {
       "model_id": "c94e2f0d26d34a36b248d85165ff863b",
       "version_major": 2,
       "version_minor": 0
      },
      "text/plain": [
       "interactive(children=(IntSlider(value=10, description='x', max=30, min=-10), Output()), _dom_classes=('widget-…"
      ]
     },
     "metadata": {},
     "output_type": "display_data"
    }
   ],
   "source": [
    "interact(g, x=10);"
   ]
  },
  {
   "cell_type": "markdown",
   "metadata": {},
   "source": [
    "På denne måten kan vi også lage widgets som skriver ut informasjon på flere linjer for eksempel."
   ]
  },
  {
   "cell_type": "markdown",
   "metadata": {},
   "source": [
    "#### Tekst-input\n",
    "\n",
    "Det er ikke bare matematiske funksjoner vi kan interagere med gjennom `interact`. Ta for eksempel et av funksjonene vi lagde i DNA-opplegget vårt. Der sender vi inn en DNA-sekvens som tekst, og kan for eksempel komplementere denne. Funksjonen kunne skrives som:"
   ]
  },
  {
   "cell_type": "code",
   "execution_count": 7,
   "metadata": {},
   "outputs": [],
   "source": [
    "def g(x):\n",
    "    return x**2"
   ]
  },
  {
   "cell_type": "code",
   "execution_count": 8,
   "metadata": {},
   "outputs": [
    {
     "data": {
      "application/vnd.jupyter.widget-view+json": {
       "model_id": "05295f5735d14f9f89174753fe5060e6",
       "version_major": 2,
       "version_minor": 0
      },
      "text/plain": [
       "interactive(children=(IntSlider(value=10, description='x', max=30, min=-10), Output()), _dom_classes=('widget-…"
      ]
     },
     "metadata": {},
     "output_type": "display_data"
    }
   ],
   "source": [
    "interact(g, x=10);"
   ]
  },
  {
   "cell_type": "code",
   "execution_count": 9,
   "metadata": {},
   "outputs": [],
   "source": [
    "def komplementer(DNA):\n",
    "    komplement = \"\"\n",
    "    for base in DNA:\n",
    "        if base == 'T':\n",
    "            komplement += 'A'\n",
    "        elif base == 'A':\n",
    "            komplement += 'T'\n",
    "        elif base == 'C':\n",
    "            komplement += 'G'\n",
    "        elif base == 'G':\n",
    "            komplement += 'C'\n",
    "        else:\n",
    "            komplement += '?'\n",
    "        \n",
    "    print(f\"Input tråd: {DNA}\")\n",
    "    print(f\"Komplement: {komplement}\")"
   ]
  },
  {
   "cell_type": "markdown",
   "metadata": {},
   "source": [
    "Bruker vi `interact` på denne funksjonen får vi nå en tekstboks vi kan skrive input-strengen inn i:"
   ]
  },
  {
   "cell_type": "code",
   "execution_count": 10,
   "metadata": {},
   "outputs": [
    {
     "data": {
      "application/vnd.jupyter.widget-view+json": {
       "model_id": "5e6efd5d1f2a4279afabf766fc36c9b3",
       "version_major": 2,
       "version_minor": 0
      },
      "text/plain": [
       "interactive(children=(Text(value='ATGC', description='DNA'), Output()), _dom_classes=('widget-interact',))"
      ]
     },
     "metadata": {},
     "output_type": "display_data"
    }
   ],
   "source": [
    "interact(komplementer, DNA=\"ATGC\");"
   ]
  },
  {
   "cell_type": "markdown",
   "metadata": {},
   "source": [
    "#### Annen input\n",
    "\n",
    "Widgets kan også ta boolsk input (True/False). Da får vi en liten boks man kan huke av:\n",
    "\n",
    "Eller vi kan lage en liste, og da får vi en dropdown-boks hvor man kan velge ett av elementene."
   ]
  },
  {
   "cell_type": "markdown",
   "metadata": {},
   "source": [
    "## Interact og plotting\n",
    "\n",
    "Om vi ønsker å lage en widget der vi interagerer med et plot, er vi nødt til å lage en funksjon som produserer hele plottet for oss. Dette er ikke så avansert, vi må bare legge koden vi vanligvis bruker for å lage plottet på innsiden av en funksjon.\n",
    "\n",
    "La oss se på et eksempel. La oss si vi ønsker å utforske hvordan formelen for en rett linje fungerer. Formelen for en slik linje er\n",
    "$$y = ax + b,$$\n",
    "der $a$ og $b$ kan justeres. La oss lage en widget, der vi kan oppdatere disse dynamisk:"
   ]
  },
  {
   "cell_type": "code",
   "execution_count": 11,
   "metadata": {},
   "outputs": [],
   "source": [
    "from pylab import *\n",
    "\n",
    "def tegn_rett_linje(a, b):\n",
    "    # Regn ut x- og y-verdier\n",
    "    x = linspace(-10, 10, 101)\n",
    "    y = a*x + b\n",
    "    \n",
    "    # Plot kurve\n",
    "    plot(x, y, linewidth=2.0)\n",
    "    \n",
    "    # Sett navn på akser og figur\n",
    "    xlabel(\"x\")\n",
    "    ylabel(\"y\")\n",
    "    title(f\"y = {a}x + {b}\")\n",
    "    \n",
    "    # Lås aksene\n",
    "    xlim(-10, 10)\n",
    "    ylim(-10, 10)\n",
    "    \n",
    "    # Tegn aksekors\n",
    "    grid()\n",
    "    axvline(0, color='black')\n",
    "    axhline(0, color='black')\n",
    "    show()"
   ]
  },
  {
   "cell_type": "markdown",
   "metadata": {},
   "source": [
    "Her har vi definert funksjonen `tegn_rett_linje`. Denne tar de to parametrene `a` og `b` inn. Deretter plotter vi $y=ax+b$ for $x\\in[-10, 10]$. Funksjonen ser litt voldsom ut, men det meste er bare å pynte på plottet.\n",
    "\n",
    "**Merk derimot at når vi lager et interaktivt plot er det veldig lurt å låse aksene, ellers vil aksene endre skala når man endrer parametrene. Gjør dette med `xlim` og `ylim`, eller `axis()`.**"
   ]
  },
  {
   "cell_type": "code",
   "execution_count": 12,
   "metadata": {},
   "outputs": [
    {
     "data": {
      "application/vnd.jupyter.widget-view+json": {
       "model_id": "64d23ef22afd486eaa67b5e41ba9f9be",
       "version_major": 2,
       "version_minor": 0
      },
      "text/plain": [
       "interactive(children=(FloatSlider(value=1.0, description='a', max=3.0, min=-1.0), FloatSlider(value=0.0, descr…"
      ]
     },
     "metadata": {},
     "output_type": "display_data"
    }
   ],
   "source": [
    "interact(tegn_rett_linje, a=1.0, b=0.0);"
   ]
  },
  {
   "cell_type": "markdown",
   "metadata": {},
   "source": [
    "Selv om funksjonen over så litt komplisert ut, vil den være stort sett lik også om vi ser på andre typer kurver. Her er for eksempel en lignende widget for en annengradsfunksjon, merk at tilnærmet all koden er lik:"
   ]
  },
  {
   "cell_type": "code",
   "execution_count": 13,
   "metadata": {},
   "outputs": [],
   "source": [
    "from pylab import *\n",
    "\n",
    "def tegn_annengrads(a, b, c):\n",
    "    # Regn ut x og y arrays\n",
    "    x = linspace(-10, 10, 101)\n",
    "    y = a*x**2 + b*x + c\n",
    "    \n",
    "    # Plot kurve\n",
    "    plot(x, y, linewidth=2.0)\n",
    "    \n",
    "    # Navn på akser og plott\n",
    "    xlabel(\"x\")\n",
    "    ylabel(\"y\")\n",
    "    title(f\"y = {a}x² + {b}x + {c}\")\n",
    "    \n",
    "    # Lås aksene\n",
    "    xlim(-10, 10)\n",
    "    ylim(-10, 10)\n",
    "    \n",
    "    # Tegn aksekors\n",
    "    grid()\n",
    "    axvline(0, color='black')\n",
    "    axhline(0, color='black')\n",
    "    show()"
   ]
  },
  {
   "cell_type": "code",
   "execution_count": 14,
   "metadata": {},
   "outputs": [
    {
     "data": {
      "application/vnd.jupyter.widget-view+json": {
       "model_id": "5d28caf48e354f538ce2062f71552e66",
       "version_major": 2,
       "version_minor": 0
      },
      "text/plain": [
       "interactive(children=(FloatSlider(value=1.0, description='a', max=3.0, min=-1.0), FloatSlider(value=0.0, descr…"
      ]
     },
     "metadata": {},
     "output_type": "display_data"
    }
   ],
   "source": [
    "interact(tegn_annengrads, a=1.0, b=0.0, c=0.0);"
   ]
  },
  {
   "cell_type": "markdown",
   "metadata": {},
   "source": [
    "### Mer kontroll på mulig input\n",
    "\n",
    "Så langt har vi bare satt startverdier, og latt `interact` bestemme hvilke intervaller som er fornuftig å lage på sliderene. Derimot er det ofte vi ønsker å selv sette disse grensene. For eksempel er det ofte `interact` vil gi verdier som er urimelige, eller ikke fungerer med funksjonen vi jobber med, eller det er interessante verdier vi gjerne vil kunne bruke som faller utenfor intervallet.\n",
    "\n",
    "Vi kan få finkontroll på sliderne ved å gi flere verdier til en parameter når vi bruker interact. Ta for eksempel den rette linja vår. La oss si vi ønsker å kunne bruke verdier for $a$ mellom -5 og 5, og verdier for a mellom $-10$ og $10$. Da kan vi skrive som følger\n",
    "\n",
    "\n",
    "\n"
   ]
  },
  {
   "cell_type": "code",
   "execution_count": 15,
   "metadata": {},
   "outputs": [
    {
     "data": {
      "application/vnd.jupyter.widget-view+json": {
       "model_id": "21336c17fe9d469fad2d22e0d8b064e1",
       "version_major": 2,
       "version_minor": 0
      },
      "text/plain": [
       "interactive(children=(IntSlider(value=0, description='a', max=5, min=-5), IntSlider(value=0, description='b', …"
      ]
     },
     "metadata": {},
     "output_type": "display_data"
    }
   ],
   "source": [
    "interact(tegn_rett_linje, a=(-5, 5), b=(-10, 10));"
   ]
  },
  {
   "cell_type": "markdown",
   "metadata": {},
   "source": [
    "I tilegg kan vi spesifisere hvor store skritt slideren skal kunne bruke. Om vi vil ha finkontrol kan vi f.eks skrive `a=(-5, 5, 0.01)`. Da vil slideren endre seg i intervaller på 0.01. Om vi vil ha grovere kontroll kan vi f.eks skrive `a=(-5, 5, 0.5)`. På den måten er det langt enklere å lande på heltallsverdier for `a`:"
   ]
  },
  {
   "cell_type": "code",
   "execution_count": 16,
   "metadata": {},
   "outputs": [
    {
     "data": {
      "application/vnd.jupyter.widget-view+json": {
       "model_id": "e152af94f2f94ede81de2bc92ab8894d",
       "version_major": 2,
       "version_minor": 0
      },
      "text/plain": [
       "interactive(children=(FloatSlider(value=0.0, description='a', max=5.0, min=-5.0, step=0.5), FloatSlider(value=…"
      ]
     },
     "metadata": {},
     "output_type": "display_data"
    }
   ],
   "source": [
    "interact(tegn_rett_linje, a=(-5, 5, 0.5), b=(-10, 10, 0.5));"
   ]
  },
  {
   "cell_type": "markdown",
   "metadata": {},
   "source": [
    "Den eneste \"ulempen\" med denne måten å finjustere inputten på er at vi ikke lenger for lov til å sette startverdien selv, istedet legget `interact` den til midten av input intervallet. I dette tilfellet blir f.eks `a` og `b` satt til 0 ved start. Dette er sjeldent et stort problem i praksis, men kan være litt irriterende. Den letteste måten å fikse det på er å sette startverdien i selve `tegn_rett_linje` funksjonen, med\n",
    "```\n",
    "def tegn_rett_linje(a=1.0, b=0.0):\n",
    "    ...\n",
    "```\n",
    "Da vil vi kunne sette intervallet i `interact` og startverdien kommer fra selve funksjonen vi interagerer med."
   ]
  },
  {
   "cell_type": "markdown",
   "metadata": {},
   "source": [
    "## Forsinket oppdatering for tyngre beregninger\n",
    "\n",
    "Så langt har vi sett på helt dynamiske widgets, når man trekker på slideren oppdaterer plottet seg \"live\" for hver minste endring man gjør. Dette er vel og bra, men for å få til dette må Python jobbe i kulissene med å gjenta beregninger og replotte hver gang en slider flytter seg et lite hakk. For en enkel beregning som en rett linje går dette kjapt nok til at det føles ganske jevnt og fint, men for tyngre beregninger vil det ikke være like bra.\n",
    "\n",
    "Ta for eksempel tilfeller der vi løser differensialligninger med Euler's metode, sånn som i Fysikk eksempelet vårt. Da tar selve beregningen og plottingen kanskje så mye som 10 sekunder. Da vil en slider rett og slett ikke fungere. For å fikse dette bør du istedenfor å bruke `interact`, bruke `interact_manual`. Denne fungerer helt likt, men vi får en tileggsknapp man trykker på når man er klar for å kjøre på nytt.\n",
    "\n",
    "Som eksempel ser vi på et tilfelle der vi kaster en ball skrått og ser på hvordan ballen flyr avhengig av styrken på luftmotstanden og vinkelen vi kaster i"
   ]
  },
  {
   "cell_type": "code",
   "execution_count": 17,
   "metadata": {},
   "outputs": [],
   "source": [
    "from pylab import *\n",
    "\n",
    "def skråkast_med_luftmotstand(v0=12, vinkel=45, D=0.05):\n",
    "    # Sett parametere som ikke er justerbare\n",
    "    m = 0.25\n",
    "    g = 9.81\n",
    "    \n",
    "    # Regn om til radianer\n",
    "    theta = vinkel*pi/180\n",
    "    \n",
    "    # Tidsparametere\n",
    "    T = 4 # s\n",
    "    dt = 0.001 # s\n",
    "    N = int(T/dt) # Antall tidssteg\n",
    "    \n",
    "    # Lag tomme arrays\n",
    "    x = np.zeros(N+1)\n",
    "    y = np.zeros(N+1)\n",
    "    vx = np.zeros(N+1)\n",
    "    vy = np.zeros(N+1)\n",
    "    \n",
    "    # Startverdier\n",
    "    x[0] = 0   # m\n",
    "    y[0] = 1.5 # m\n",
    "    vx[0] = cos(theta)*v0\n",
    "    vy[0] = sin(theta)*v0\n",
    "    \n",
    "    # Regne oss stegvis fremover i tid (Euler's Metode)\n",
    "    for i in range(N):\n",
    "        Vabs = sqrt(vx[i]**2 + vy[i]**2)\n",
    "        ax =    -D*Vabs*vx[i]/m\n",
    "        ay = -g -D*Vabs*vy[i]/m\n",
    "        \n",
    "        vx[i+1] = vx[i] + ax*dt\n",
    "        vy[i+1] = vy[i] + ay*dt\n",
    "        x[i+1] = x[i] + vx[i]*dt + 0.5*ax*dt**2\n",
    "        y[i+1] = y[i] + vy[i]*dt + 0.5*ay*dt**2\n",
    "\n",
    "    # Plot endelig løsning\n",
    "    plot(x, y)\n",
    "    axis((0, 20, 0, 10))\n",
    "    xlabel('x')\n",
    "    ylabel('y')\n",
    "    title('Skrått kast med luftmotstand')\n",
    "    show()"
   ]
  },
  {
   "cell_type": "code",
   "execution_count": 18,
   "metadata": {},
   "outputs": [
    {
     "data": {
      "application/vnd.jupyter.widget-view+json": {
       "model_id": "59c1fcd3bbb9485291c0109ed7c2b721",
       "version_major": 2,
       "version_minor": 0
      },
      "text/plain": [
       "interactive(children=(FloatSlider(value=12.0, description='v0', max=20.0, step=0.5), IntSlider(value=45, descr…"
      ]
     },
     "metadata": {},
     "output_type": "display_data"
    }
   ],
   "source": [
    "from ipywidgets import interact_manual\n",
    "\n",
    "interact_manual(skråkast_med_luftmotstand, v0=(0, 20, 0.5), vinkel=(0, 90, 5), D=(0, 0.1, 0.005));"
   ]
  },
  {
   "cell_type": "markdown",
   "metadata": {},
   "source": [
    "### Widgets fra fil\n",
    "\n",
    "Så langt har vi lagd og kjørt widgets direkte i notebooken, men av og til vil man lage en widget på forhånd man kun vil at elever skal bruke, ikke nødvendigvis se eller endre koden bak. En måte å få til dette er å legge koden som definerer og kjører widgeten i en fil, og deretter importerer den rett inn i notebooken. Denne filen kan du for eksempel skrive i Spyder. Det må være en Pythonfil, altså med `.py`-endelse, og filen må ligge i samme mappe som notebooken.\n",
    "\n",
    "Nå har vi for eksempel laget en fil som heter `primtall_widget.py`, som ligger i samme mappe som denne notebooken, da kan vi importere og se på denne:"
   ]
  },
  {
   "cell_type": "code",
   "execution_count": 19,
   "metadata": {},
   "outputs": [
    {
     "data": {
      "application/vnd.jupyter.widget-view+json": {
       "model_id": "3d30dbf744fc4a8487f75ffb4d9b05c3",
       "version_major": 2,
       "version_minor": 0
      },
      "text/plain": [
       "interactive(children=(Text(value='1', description='n'), Output()), _dom_classes=('widget-interact',))"
      ]
     },
     "metadata": {},
     "output_type": "display_data"
    }
   ],
   "source": [
    "import primtall_widget"
   ]
  },
  {
   "cell_type": "markdown",
   "metadata": {},
   "source": [
    "## Mer om Widgets\n",
    "\n",
    "Nå har vi vist noen eksempler av hvordan man kan lage og bruke widgets. For mer info kan du for eksempel se her:\n",
    "* https://ipywidgets.readthedocs.io/en/stable/examples/Using%20Interact.html#"
   ]
  }
 ],
 "metadata": {
  "kernelspec": {
   "display_name": "Python 3",
   "language": "python",
   "name": "python3"
  },
  "language_info": {
   "codemirror_mode": {
    "name": "ipython",
    "version": 3
   },
   "file_extension": ".py",
   "mimetype": "text/x-python",
   "name": "python",
   "nbconvert_exporter": "python",
   "pygments_lexer": "ipython3",
   "version": "3.6.7"
  }
 },
 "nbformat": 4,
 "nbformat_minor": 2
}
